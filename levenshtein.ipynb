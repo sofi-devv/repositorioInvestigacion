{
 "cells": [
  {
   "cell_type": "code",
   "execution_count": null,
   "metadata": {},
   "outputs": [],
   "source": [
    "import pandas as pd\n",
    "import numpy as np\n",
    "import editdistance\n",
    "\n",
    "import seaborn as sns\n",
    "import matplotlib.pyplot as plt\n",
    "from nltk.tokenize import word_tokenize\n",
    "from sklearn.preprocessing import LabelEncoder\n",
    "\n"
   ]
  },
  {
   "cell_type": "code",
   "execution_count": null,
   "metadata": {},
   "outputs": [],
   "source": [
    "\n",
    "kappa_matrix = pd.read_csv(\"./data/analysis/results/matrices/kappa_matrix.csv\")\n",
    "kappa_matrix.index = kappa_matrix.columns\n",
    "\n",
    "coincidences_matrix = pd.read_csv(\"./data/analysis/results/matrices/coincidencias_matrix.csv\")\n",
    "coincidences_matrix.index = coincidences_matrix.columns\n",
    "\n",
    "prompts = [\n",
    "    \"IA con experiencia en análisis de lenguaje y emociones, su tarea es analizar el sentimiento del siguiente texto. Considere el tono general de la discusión, la emoción transmitida por el lenguaje utilizado y el contexto en el que se utilizan las palabras y frases. Indique si el sentimiento es generalmente positivo, negativo o neutral y proporcione una etiqueta sin ningún texto adicional.\",\n",
    "    \"la tarea de clasificación de sentimientos. Dado el texto, asigne una etiqueta de sentimiento entre positivo, negativo o neutral. Devuelva únicamente la etiqueta sin ningún otro texto.\",\n",
    "    \"Indique si el sentimiento es generalmente positivo, negativo o neutral y proporcione una etiqueta sin ningún texto adicional. Considere el tono general de la discusión, la emoción transmitida por el lenguaje utilizado y el contexto en el que se utilizan las palabras y frases. Como IA con experiencia en análisis de lenguaje y emociones, su tarea es analizar el sentimiento del siguiente texto.\",\n",
    "    \"únicamente la etiqueta sin ningún otro texto. Dado el texto, asigne una etiqueta de sentimiento entre positivo, negativo o neutral. Realice la tarea de clasificación de sentimientos. \",\n",
    "    \"IA experto en procesamiento de lenguaje natural y análisis de sentimientos, su tarea es analizar el sentimiento del siguiente texto. Considere el tono general del comentario, los sentimientos transmitidos por el texto utilizado y el contexto en el que se utilizan las palabras y oraciones. Indique si el sentimiento es generalmente positivo, negativo o neutral y proporcione una etiqueta sin ningún texto adicional.\",\n",
    "    \"la tarea de clasificación de sentimientos. Dado el comentario, asigne una etiqueta de sentimiento entre positivo, negativo o neutral. Devuelva únicamente la etiqueta sin ningún otro texto.\",\n",
    "    \"IA con experiencia en análisis de lenguaje y emociones, debes analizar el sentimiento del siguiente texto. Puedes considerar el tono general de la discusión, la emoción transmitida por el lenguaje utilizado y el contexto en el que se utilizan las palabras y frases. Tienes que indicar si el sentimiento es generalmente positivo, negativo o neutral y proporcione una etiqueta sin ningún texto adicional.\",\n",
    "    \"realizar la tarea de clasificación de sentimientos. Dado el texto, puedes asignar una etiqueta de sentimiento entre positivo, negativo o neutral. Tienes que devolver únicamente la etiqueta sin ningún otro texto.\",\n",
    "    \"IA experiencia análisis lenguaje emociones tarea analizar sentimiento siguiente texto Considere tono general  discusión emoción transmitida lenguaje utilizado contexto  utilizan palabras frases indique si sentimiento generalmente positivo negativo neutral proporcione etiqueta ningún texto adicional\",\n",
    "    \"tarea clasificación sentimientos dado texto asigne etiqueta sentimiento entre positivo negativo neutral devuelva únicamente etiqueta\",\n",
    "]"
   ]
  },
  {
   "cell_type": "code",
   "execution_count": null,
   "metadata": {},
   "outputs": [],
   "source": [
    "# Creates a formatted table with the kappa matrix and saves to excel\n",
    "kappa_matrix.map(lambda x: \"{:.2f}\".format(x)).to_excel(\"data/analysis/results/kappa-matrix.xlsx\")"
   ]
  },
  {
   "cell_type": "code",
   "execution_count": null,
   "metadata": {},
   "outputs": [],
   "source": [
    "# Creates a formatted table with the coincidences matrix and saves to excel\n",
    "coincidences_matrix.map(lambda x: \"{:.2f}\".format(x)).to_excel(\"data/analysis/results/coincidences-matrix.xlsx\")"
   ]
  },
  {
   "cell_type": "markdown",
   "metadata": {},
   "source": [
    "# Measures Levenshtein (Edit) Distance between prompts, but using tokens instead of characters"
   ]
  },
  {
   "cell_type": "code",
   "execution_count": null,
   "metadata": {},
   "outputs": [],
   "source": [
    "# Tokenize the prompts\n",
    "prompts_tokenized = [word_tokenize(prompt.lower()) for prompt in prompts]\n",
    "\n",
    "# Convert tokens to numerical representation using LabelEncoder\n",
    "all_tokens = [token for prompt in prompts_tokenized for token in prompt]\n",
    "label_encoder = LabelEncoder()\n",
    "label_encoder.fit(all_tokens)\n",
    "\n",
    "prompts_numerical = [label_encoder.transform(prompt) for prompt in prompts_tokenized]\n",
    "\n",
    "# Create an Edit Distance Matrix based on numerical prompts\n",
    "num_prompts = len(prompts)\n",
    "edit_distance_matrix = np.zeros((num_prompts, num_prompts))\n",
    "\n",
    "# Calculate Edit distances between each pair of numerical prompts using editdistance library\n",
    "for i in range(num_prompts):\n",
    "    for j in range(num_prompts):\n",
    "        if i != j:\n",
    "            edit_distance_matrix[i][j] = editdistance.eval(\n",
    "                prompts_numerical[i], prompts_numerical[j]\n",
    "            )\n",
    "\n",
    "# Convert the matrix to a DataFrame for easier handling\n",
    "edit_distance_df = pd.DataFrame(\n",
    "    edit_distance_matrix,\n",
    "    columns=[f\"prompt {i+1}\" for i in range(num_prompts)],\n",
    "    index=[f\"prompt {i+1}\" for i in range(num_prompts)],\n",
    ")\n",
    "\n",
    "# Normalize Cohen's Kappa and Edit Distance Matrices\n",
    "kappa_matrix_normalized = (kappa_matrix - kappa_matrix.min().min()) / (\n",
    "    kappa_matrix.max().max() - kappa_matrix.min().min()\n",
    ")\n",
    "edit_distance_df_normalized = (edit_distance_df - edit_distance_df.min().min()) / (\n",
    "    edit_distance_df.max().max() - edit_distance_df.min().min()\n",
    ")\n",
    "edit_distance_df.map(lambda x: \"{:.0f}\".format(x)).to_excel(\n",
    "    \"data/analysis/results/levenshtein-matrix.xlsx\"\n",
    ")"
   ]
  },
  {
   "cell_type": "markdown",
   "metadata": {},
   "source": [
    "# Correlations\n",
    "- Between Kappa matrix and Levenshtein matrix\n",
    "- Between coincidences matrix and Levenshtein matrix\n"
   ]
  },
  {
   "cell_type": "code",
   "execution_count": null,
   "metadata": {},
   "outputs": [],
   "source": [
    "# Calculate the correlation between the normalized Cohen's Kappa matrix and the Edit Distance matrix\n",
    "# Flatten the upper triangle of both matrices to get the values for correlation\n",
    "kappa_values = kappa_matrix_normalized.where(\n",
    "    np.triu(np.ones(kappa_matrix_normalized.shape), k=1).astype(bool)\n",
    ").stack()\n",
    "edit_distance_values = edit_distance_df_normalized.where(\n",
    "    np.triu(np.ones(edit_distance_df_normalized.shape), k=1).astype(bool)\n",
    ").stack()\n",
    "coincidences_values = coincidences_matrix.where(\n",
    "    np.triu(np.ones(coincidences_matrix.shape), k=1).astype(bool)\n",
    ").stack()\n",
    "\n",
    "# Calculate correlation\n",
    "correlation = kappa_values.corr(edit_distance_values)\n",
    "print(\n",
    "    f\"Correlation between Normalized Cohen's Kappa and Normalized Edit Distance: {correlation:.2f}\"\n",
    ")\n",
    "\n",
    "# Calculate correlation\n",
    "correlation = coincidences_values.corr(edit_distance_values)\n",
    "print(\n",
    "    f\"Correlation between Normalized Coincidences and Normalized Edit Distance: {correlation:.2f}\"\n",
    ")"
   ]
  },
  {
   "cell_type": "markdown",
   "metadata": {},
   "source": [
    "# Reports"
   ]
  },
  {
   "cell_type": "code",
   "execution_count": null,
   "metadata": {},
   "outputs": [],
   "source": [
    "# Normalize Cohen's Kappa and Levenshtein Distance Matrices\n",
    "kappa_matrix_normalized = (kappa_matrix - kappa_matrix.min().min()) / (\n",
    "    kappa_matrix.max().max() - kappa_matrix.min().min()\n",
    ")\n",
    "coincidences_matrix_normalized = (\n",
    "    coincidences_matrix - coincidences_matrix.min().min()\n",
    ") / (coincidences_matrix.max().max() - coincidences_matrix.min().min())\n",
    "edit_distance_df_normalized = 1 - (edit_distance_df - edit_distance_df.min().min()) / (\n",
    "    edit_distance_df.max().max() - edit_distance_df.min().min()\n",
    ")\n",
    "\n",
    "# Visualization\n",
    "\n",
    "# Heatmap for Cohen's Kappa Matrix\n",
    "plt.figure(figsize=(10, 8))\n",
    "sns.heatmap(kappa_matrix_normalized, annot=True, cmap=\"Blues\", cbar=True)\n",
    "plt.title(\"Normalized Cohen's Kappa Matrix\")\n",
    "plt.savefig(\"data/analysis/results/heatmap-cohen-kappa.png\")\n",
    "plt.show()\n",
    "\n",
    "# Heatmap for Coincidences Matrix\n",
    "plt.figure(figsize=(10, 8))\n",
    "sns.heatmap(coincidences_matrix_normalized, annot=True, cmap=\"Greens\", cbar=True)\n",
    "plt.title(\"Normalized Coincidences Matrix\")\n",
    "plt.savefig(\"data/analysis/results/heatmap-coincidences.png\")\n",
    "plt.show()\n",
    "\n",
    "# Heatmap for Levenshtein Distance Matrix without floating point format\n",
    "plt.figure(figsize=(10, 8))\n",
    "sns.heatmap(edit_distance_df_normalized, annot=True, cmap=\"Reds\", cbar=True)\n",
    "plt.title(\"1 - Normalized Levenshtein Distance Matrix\")\n",
    "plt.savefig(\"data/analysis/results/heatmap-levenshtein.png\")\n",
    "plt.show()"
   ]
  }
 ],
 "metadata": {
  "kernelspec": {
   "display_name": ".venv",
   "language": "python",
   "name": "python3"
  },
  "language_info": {
   "codemirror_mode": {
    "name": "ipython",
    "version": 3
   },
   "file_extension": ".py",
   "mimetype": "text/x-python",
   "name": "python",
   "nbconvert_exporter": "python",
   "pygments_lexer": "ipython3",
   "version": "3.10.12"
  }
 },
 "nbformat": 4,
 "nbformat_minor": 2
}
