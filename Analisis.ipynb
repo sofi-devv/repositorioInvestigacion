{
 "cells": [
  {
   "cell_type": "markdown",
   "metadata": {},
   "source": [
    "# NORMALIZACIÓN DEL DATASET\n",
    "\n",
    "Queremos que los resultados por parte del llm que sean distintos a los que se le mencionaron en el prompt se organicen en una categoría llamada \"inconsistente\""
   ]
  },
  {
   "cell_type": "code",
   "execution_count": 1,
   "metadata": {},
   "outputs": [],
   "source": [
    "import pandas as pd"
   ]
  },
  {
   "cell_type": "code",
   "execution_count": 2,
   "metadata": {},
   "outputs": [],
   "source": [
    "data = pd.read_excel('./base_con_normalizacion.xlsx')"
   ]
  },
  {
   "cell_type": "code",
   "execution_count": 3,
   "metadata": {},
   "outputs": [
    {
     "data": {
      "text/plain": [
       "Index(['No', 'video_id', 'comment_id', 'Texto Comentario', 'likes',\n",
       "       'Tipo Comentaro', 'Nombre del Video', 'Link del Video',\n",
       "       'Fecha del Video', 'Nombre del noticiero', 'Query',\n",
       "       'País del Presidente', 'Tipo Noticiero', 'País del Medio',\n",
       "       'Nombre del Presidente', 'caracteres', 'respuesta_prompt1',\n",
       "       'respuesta_prompt2', 'respuesta_prompt3', 'respuesta_prompt4',\n",
       "       'respuesta_prompt5', 'respuesta_prompt6', 'respuesta_prompt7',\n",
       "       'respuesta_prompt8', 'respuesta_prompt9', 'respuesta_prompt10',\n",
       "       'respuesta_prompt9_procesado'],\n",
       "      dtype='object')"
      ]
     },
     "execution_count": 3,
     "metadata": {},
     "output_type": "execute_result"
    }
   ],
   "source": [
    "data.columns "
   ]
  },
  {
   "cell_type": "markdown",
   "metadata": {},
   "source": [
    "El prompt 9 tuvo la particularidad de que asignó múltiples estiquetas a un mismo comentario, en este sentido, se creo una nueva columna que se llama **respuesta_prompt9_procesado** donde se le asigno a estos valores una doble categoría"
   ]
  },
  {
   "cell_type": "code",
   "execution_count": 6,
   "metadata": {},
   "outputs": [],
   "source": [
    "# drop  respuesta_prompt9\n",
    "data = data.drop(['respuesta_prompt9'], axis=1)"
   ]
  },
  {
   "cell_type": "code",
   "execution_count": 7,
   "metadata": {},
   "outputs": [
    {
     "data": {
      "text/html": [
       "<div>\n",
       "<style scoped>\n",
       "    .dataframe tbody tr th:only-of-type {\n",
       "        vertical-align: middle;\n",
       "    }\n",
       "\n",
       "    .dataframe tbody tr th {\n",
       "        vertical-align: top;\n",
       "    }\n",
       "\n",
       "    .dataframe thead th {\n",
       "        text-align: right;\n",
       "    }\n",
       "</style>\n",
       "<table border=\"1\" class=\"dataframe\">\n",
       "  <thead>\n",
       "    <tr style=\"text-align: right;\">\n",
       "      <th></th>\n",
       "      <th>No</th>\n",
       "      <th>video_id</th>\n",
       "      <th>comment_id</th>\n",
       "      <th>Texto Comentario</th>\n",
       "      <th>likes</th>\n",
       "      <th>Tipo Comentaro</th>\n",
       "      <th>Nombre del Video</th>\n",
       "      <th>Link del Video</th>\n",
       "      <th>Fecha del Video</th>\n",
       "      <th>Nombre del noticiero</th>\n",
       "      <th>...</th>\n",
       "      <th>respuesta_prompt1</th>\n",
       "      <th>respuesta_prompt2</th>\n",
       "      <th>respuesta_prompt3</th>\n",
       "      <th>respuesta_prompt4</th>\n",
       "      <th>respuesta_prompt5</th>\n",
       "      <th>respuesta_prompt6</th>\n",
       "      <th>respuesta_prompt7</th>\n",
       "      <th>respuesta_prompt8</th>\n",
       "      <th>respuesta_prompt10</th>\n",
       "      <th>respuesta_prompt9_procesado</th>\n",
       "    </tr>\n",
       "  </thead>\n",
       "  <tbody>\n",
       "    <tr>\n",
       "      <th>0</th>\n",
       "      <td>0</td>\n",
       "      <td>JjhSA-n0nro</td>\n",
       "      <td>UgxndzFrGAyaRihOLuZ4AaABAg</td>\n",
       "      <td>Que pedantes entrevistadores, ni siquiera pude...</td>\n",
       "      <td>0.0</td>\n",
       "      <td>principal</td>\n",
       "      <td>Xóchitl Gálvez entrevista completa en Tercer G...</td>\n",
       "      <td>https://www.youtube.com/watch?v=JjhSA-n0nro</td>\n",
       "      <td>2024-05-14 06:05:34+00:00</td>\n",
       "      <td>Nmás</td>\n",
       "      <td>...</td>\n",
       "      <td>negativo</td>\n",
       "      <td>positivo</td>\n",
       "      <td>negativo</td>\n",
       "      <td>positivo</td>\n",
       "      <td>negativo</td>\n",
       "      <td>negativo</td>\n",
       "      <td>negativo</td>\n",
       "      <td>positivo</td>\n",
       "      <td>negativo</td>\n",
       "      <td>negativo</td>\n",
       "    </tr>\n",
       "    <tr>\n",
       "      <th>1</th>\n",
       "      <td>1</td>\n",
       "      <td>GpRrsWRhLyQ</td>\n",
       "      <td>UgwvHeWfBUat-Pp0CDJ4AaABAg</td>\n",
       "      <td>Para yo digo que ya basta a ka hipocresías San...</td>\n",
       "      <td>0.0</td>\n",
       "      <td>principal</td>\n",
       "      <td>Santiago Creel, Mario Delgado y Laura Balleste...</td>\n",
       "      <td>https://www.youtube.com/watch?v=GpRrsWRhLyQ</td>\n",
       "      <td>2024-06-03 15:44:16+00:00</td>\n",
       "      <td>Nmás</td>\n",
       "      <td>...</td>\n",
       "      <td>negativo</td>\n",
       "      <td>negativo</td>\n",
       "      <td>negativo</td>\n",
       "      <td>negativo</td>\n",
       "      <td>negativo</td>\n",
       "      <td>negativo</td>\n",
       "      <td>negativo</td>\n",
       "      <td>negativo</td>\n",
       "      <td>negativo</td>\n",
       "      <td>negativo</td>\n",
       "    </tr>\n",
       "    <tr>\n",
       "      <th>2</th>\n",
       "      <td>2</td>\n",
       "      <td>DEbALmrsZs8</td>\n",
       "      <td>Ugxel5feZrbzNc-1BGt4AaABAg</td>\n",
       "      <td>que paso prianistas les quitaron el hueso ahor...</td>\n",
       "      <td>0.0</td>\n",
       "      <td>principal</td>\n",
       "      <td>Tercer debate presidencial 2024 | Programa com...</td>\n",
       "      <td>https://www.youtube.com/watch?v=DEbALmrsZs8</td>\n",
       "      <td>2024-05-20 04:44:35+00:00</td>\n",
       "      <td>Excélsior TV</td>\n",
       "      <td>...</td>\n",
       "      <td>negativo</td>\n",
       "      <td>negativo</td>\n",
       "      <td>negativo</td>\n",
       "      <td>negativo</td>\n",
       "      <td>negativo</td>\n",
       "      <td>negativo</td>\n",
       "      <td>negativo</td>\n",
       "      <td>negativo</td>\n",
       "      <td>negativo</td>\n",
       "      <td>negativo</td>\n",
       "    </tr>\n",
       "  </tbody>\n",
       "</table>\n",
       "<p>3 rows × 26 columns</p>\n",
       "</div>"
      ],
      "text/plain": [
       "   No     video_id                  comment_id  \\\n",
       "0   0  JjhSA-n0nro  UgxndzFrGAyaRihOLuZ4AaABAg   \n",
       "1   1  GpRrsWRhLyQ  UgwvHeWfBUat-Pp0CDJ4AaABAg   \n",
       "2   2  DEbALmrsZs8  Ugxel5feZrbzNc-1BGt4AaABAg   \n",
       "\n",
       "                                    Texto Comentario  likes Tipo Comentaro  \\\n",
       "0  Que pedantes entrevistadores, ni siquiera pude...    0.0      principal   \n",
       "1  Para yo digo que ya basta a ka hipocresías San...    0.0      principal   \n",
       "2  que paso prianistas les quitaron el hueso ahor...    0.0      principal   \n",
       "\n",
       "                                    Nombre del Video  \\\n",
       "0  Xóchitl Gálvez entrevista completa en Tercer G...   \n",
       "1  Santiago Creel, Mario Delgado y Laura Balleste...   \n",
       "2  Tercer debate presidencial 2024 | Programa com...   \n",
       "\n",
       "                                Link del Video            Fecha del Video  \\\n",
       "0  https://www.youtube.com/watch?v=JjhSA-n0nro  2024-05-14 06:05:34+00:00   \n",
       "1  https://www.youtube.com/watch?v=GpRrsWRhLyQ  2024-06-03 15:44:16+00:00   \n",
       "2  https://www.youtube.com/watch?v=DEbALmrsZs8  2024-05-20 04:44:35+00:00   \n",
       "\n",
       "  Nombre del noticiero  ... respuesta_prompt1 respuesta_prompt2  \\\n",
       "0                 Nmás  ...          negativo          positivo   \n",
       "1                 Nmás  ...          negativo          negativo   \n",
       "2         Excélsior TV  ...          negativo          negativo   \n",
       "\n",
       "  respuesta_prompt3 respuesta_prompt4 respuesta_prompt5  respuesta_prompt6  \\\n",
       "0          negativo          positivo          negativo           negativo   \n",
       "1          negativo          negativo          negativo           negativo   \n",
       "2          negativo          negativo          negativo           negativo   \n",
       "\n",
       "  respuesta_prompt7 respuesta_prompt8 respuesta_prompt10  \\\n",
       "0          negativo          positivo           negativo   \n",
       "1          negativo          negativo           negativo   \n",
       "2          negativo          negativo           negativo   \n",
       "\n",
       "  respuesta_prompt9_procesado  \n",
       "0                    negativo  \n",
       "1                    negativo  \n",
       "2                    negativo  \n",
       "\n",
       "[3 rows x 26 columns]"
      ]
     },
     "execution_count": 7,
     "metadata": {},
     "output_type": "execute_result"
    }
   ],
   "source": [
    "data.head(3)"
   ]
  },
  {
   "cell_type": "code",
   "execution_count": 8,
   "metadata": {},
   "outputs": [
    {
     "data": {
      "text/plain": [
       "array(['negativo', 'negativo/neutral/positivo', 'neutral', 'positivo',\n",
       "       'inconsistencia', 'neutral/positivo', 'positivo/negativo',\n",
       "       'negativo/neutral'], dtype=object)"
      ]
     },
     "execution_count": 8,
     "metadata": {},
     "output_type": "execute_result"
    }
   ],
   "source": [
    "data[\"respuesta_prompt9_procesado\"].unique()"
   ]
  },
  {
   "cell_type": "markdown",
   "metadata": {},
   "source": [
    "generación de vectores para prueba chi cuadrado en Wolfram:"
   ]
  },
  {
   "cell_type": "code",
   "execution_count": 28,
   "metadata": {},
   "outputs": [],
   "source": [
    "import numpy as np\n",
    "\n",
    "# Asignar el DataFrame a una variable\n",
    "df = prompts\n",
    "\n",
    "# Crear 10 vectores con tamaño 100000\n",
    "diccionario_map = {'POSITIVO': 1, 'NEGATIVO': 2, 'NEUTRAL': 3, 'INCONSISTENTE': 4}\n",
    "\n",
    "vectores = {}\n",
    "for i in range(9, 11):\n",
    "    vector_nombre = f'X{i}'\n",
    "    vectores[vector_nombre] = df[f'prompt {i}'].replace(diccionario_map).values\n",
    "\n",
    "# Guardar los vectores en un archivo txt\n",
    "with open('vectores2.txt', 'w') as file:\n",
    "    for nombre, vector in vectores.items():\n",
    "        file.write(f\"{nombre} = {vector.tolist()}\\n\")"
   ]
  },
  {
   "cell_type": "code",
   "execution_count": null,
   "metadata": {},
   "outputs": [],
   "source": [
    "# Guardar los vectores pares en un archivo txt\n",
    "with open('vectores_pares.txt', 'w') as file_pares:\n",
    "    for i in range(2, 9, 2):\n",
    "        vector_nombre = f'X{i}'\n",
    "        file_pares.write(f\"{vector_nombre} = {{{', '.join(map(str, vectores[vector_nombre]))}}};\\n\")\n",
    "\n",
    "# Guardar los vectores impares en un archivo txt\n",
    "with open('vectores_impares.txt', 'w') as file_impares:\n",
    "    for i in range(1, 9, 2):\n",
    "        vector_nombre = f'X{i}'\n",
    "        file_impares.write(f\"{vector_nombre} = {{{', '.join(map(str, vectores[vector_nombre]))}}};\\n\")\n",
    "\n"
   ]
  },
  {
   "cell_type": "code",
   "execution_count": 39,
   "metadata": {},
   "outputs": [],
   "source": [
    "df = prompts\n",
    "# drop Texto Comentario\n",
    "df = df.drop(['Texto Comentario'], axis=1)"
   ]
  },
  {
   "cell_type": "markdown",
   "metadata": {},
   "source": [
    "# Visualización de coincidencias y clasificaciones"
   ]
  },
  {
   "cell_type": "code",
   "execution_count": null,
   "metadata": {},
   "outputs": [],
   "source": [
    "# Calcular los totales por fila\n",
    "totales = df[['POSITIVO', 'NEUTRAL', 'NEGATIVO', 'INCONSISTENTE']].sum(axis=1)\n",
    "\n",
    "# Crear una nueva tabla con el formato \"conteo (porcentaje)\"\n",
    "contingency_table_total = pd.DataFrame({\n",
    "    'POSITIVO': df['POSITIVO'].map(lambda x: f\"{x} ({(x / totales.sum() * 100):.2f}%)\"),\n",
    "    'NEUTRAL': df['NEUTRAL'].map(lambda x: f\"{x} ({(x / totales.sum() * 100):.2f}%)\"),\n",
    "    'NEGATIVO': df['NEGATIVO'].map(lambda x: f\"{x} ({(x / totales.sum() * 100):.2f}%)\"),\n",
    "}, index=df.index)\n",
    "\n",
    "# Imprimir la tabla con los conteos y porcentajes\n",
    "print(contingency_table_total)\n"
   ]
  },
  {
   "cell_type": "code",
   "execution_count": 40,
   "metadata": {},
   "outputs": [
    {
     "name": "stdout",
     "output_type": "stream",
     "text": [
      "           POSITIVO  NEUTRAL  NEGATIVO\n",
      "prompt 1      18332    10806     70843\n",
      "prompt 2      22142    10983     66874\n",
      "prompt 3      18784    14194     67015\n",
      "prompt 4      22615    10532     66851\n",
      "prompt 5      17602    13073     69318\n",
      "prompt 6      21123    12545     66330\n",
      "prompt 7      18100    10625     71267\n",
      "prompt 8      22504    11610     65885\n",
      "prompt 9      19858     9466     69579\n",
      "prompt 10     23198    10313     66482\n"
     ]
    }
   ],
   "source": [
    "# Supongamos que tienes tus datos cargados en un DataFrame llamado 'df'\n",
    "contingency_table_total = pd.DataFrame({\n",
    "    'POSITIVO': (df == 'POSITIVO').sum(),\n",
    "    'NEUTRAL': (df == 'NEUTRAL').sum(),\n",
    "    'NEGATIVO': (df == 'NEGATIVO').sum(),\n",
    "\n",
    "})\n",
    "\n",
    "print(contingency_table_total)"
   ]
  },
  {
   "cell_type": "code",
   "execution_count": 48,
   "metadata": {},
   "outputs": [
    {
     "data": {
      "text/html": [
       "<div>\n",
       "<style scoped>\n",
       "    .dataframe tbody tr th:only-of-type {\n",
       "        vertical-align: middle;\n",
       "    }\n",
       "\n",
       "    .dataframe tbody tr th {\n",
       "        vertical-align: top;\n",
       "    }\n",
       "\n",
       "    .dataframe thead th {\n",
       "        text-align: right;\n",
       "    }\n",
       "</style>\n",
       "<table border=\"1\" class=\"dataframe\">\n",
       "  <thead>\n",
       "    <tr style=\"text-align: right;\">\n",
       "      <th></th>\n",
       "      <th>NEGATIVO</th>\n",
       "      <th>POSITIVO</th>\n",
       "      <th>NEUTRAL</th>\n",
       "      <th>INCONSISTENTE</th>\n",
       "    </tr>\n",
       "  </thead>\n",
       "  <tbody>\n",
       "    <tr>\n",
       "      <th>prompt 1</th>\n",
       "      <td>70843 (70.84%)</td>\n",
       "      <td>18332 (18.33%)</td>\n",
       "      <td>10806 (10.81%)</td>\n",
       "      <td>19 (0.02%)</td>\n",
       "    </tr>\n",
       "    <tr>\n",
       "      <th>prompt 2</th>\n",
       "      <td>66874 (66.87%)</td>\n",
       "      <td>22142 (22.14%)</td>\n",
       "      <td>10983 (10.98%)</td>\n",
       "      <td>1 (0.0%)</td>\n",
       "    </tr>\n",
       "    <tr>\n",
       "      <th>prompt 3</th>\n",
       "      <td>67015 (67.02%)</td>\n",
       "      <td>18784 (18.78%)</td>\n",
       "      <td>14194 (14.19%)</td>\n",
       "      <td>7 (0.01%)</td>\n",
       "    </tr>\n",
       "    <tr>\n",
       "      <th>prompt 4</th>\n",
       "      <td>66851 (66.85%)</td>\n",
       "      <td>22615 (22.62%)</td>\n",
       "      <td>10532 (10.53%)</td>\n",
       "      <td>2 (0.0%)</td>\n",
       "    </tr>\n",
       "    <tr>\n",
       "      <th>prompt 5</th>\n",
       "      <td>69318 (69.32%)</td>\n",
       "      <td>17602 (17.6%)</td>\n",
       "      <td>13073 (13.07%)</td>\n",
       "      <td>7 (0.01%)</td>\n",
       "    </tr>\n",
       "    <tr>\n",
       "      <th>prompt 6</th>\n",
       "      <td>66330 (66.33%)</td>\n",
       "      <td>21123 (21.12%)</td>\n",
       "      <td>12545 (12.54%)</td>\n",
       "      <td>2 (0.0%)</td>\n",
       "    </tr>\n",
       "    <tr>\n",
       "      <th>prompt 7</th>\n",
       "      <td>71267 (71.27%)</td>\n",
       "      <td>18100 (18.1%)</td>\n",
       "      <td>10625 (10.62%)</td>\n",
       "      <td>8 (0.01%)</td>\n",
       "    </tr>\n",
       "    <tr>\n",
       "      <th>prompt 8</th>\n",
       "      <td>65885 (65.89%)</td>\n",
       "      <td>22504 (22.5%)</td>\n",
       "      <td>11610 (11.61%)</td>\n",
       "      <td>1 (0.0%)</td>\n",
       "    </tr>\n",
       "    <tr>\n",
       "      <th>prompt 9</th>\n",
       "      <td>69579 (69.58%)</td>\n",
       "      <td>19858 (19.86%)</td>\n",
       "      <td>9466 (9.47%)</td>\n",
       "      <td>1097 (1.1%)</td>\n",
       "    </tr>\n",
       "    <tr>\n",
       "      <th>prompt 10</th>\n",
       "      <td>66482 (66.48%)</td>\n",
       "      <td>23198 (23.2%)</td>\n",
       "      <td>10313 (10.31%)</td>\n",
       "      <td>7 (0.01%)</td>\n",
       "    </tr>\n",
       "  </tbody>\n",
       "</table>\n",
       "</div>"
      ],
      "text/plain": [
       "                 NEGATIVO        POSITIVO         NEUTRAL INCONSISTENTE\n",
       "prompt 1   70843 (70.84%)  18332 (18.33%)  10806 (10.81%)    19 (0.02%)\n",
       "prompt 2   66874 (66.87%)  22142 (22.14%)  10983 (10.98%)      1 (0.0%)\n",
       "prompt 3   67015 (67.02%)  18784 (18.78%)  14194 (14.19%)     7 (0.01%)\n",
       "prompt 4   66851 (66.85%)  22615 (22.62%)  10532 (10.53%)      2 (0.0%)\n",
       "prompt 5   69318 (69.32%)   17602 (17.6%)  13073 (13.07%)     7 (0.01%)\n",
       "prompt 6   66330 (66.33%)  21123 (21.12%)  12545 (12.54%)      2 (0.0%)\n",
       "prompt 7   71267 (71.27%)   18100 (18.1%)  10625 (10.62%)     8 (0.01%)\n",
       "prompt 8   65885 (65.89%)   22504 (22.5%)  11610 (11.61%)      1 (0.0%)\n",
       "prompt 9   69579 (69.58%)  19858 (19.86%)    9466 (9.47%)   1097 (1.1%)\n",
       "prompt 10  66482 (66.48%)   23198 (23.2%)  10313 (10.31%)     7 (0.01%)"
      ]
     },
     "execution_count": 48,
     "metadata": {},
     "output_type": "execute_result"
    }
   ],
   "source": [
    "# Calcular el total por columna (prompt)\n",
    "totales_por_prompt = df.apply(lambda col: col.value_counts())\n",
    "\n",
    "# Calcular los porcentajes por columna (prompt)\n",
    "porcentajes_por_prompt = totales_por_prompt.div(totales_por_prompt.sum(axis=0), axis=1) * 100\n",
    "\n",
    "# Combinar las cantidades y porcentajes en una tabla formateada\n",
    "contingency_table_total = totales_por_prompt.fillna(0).astype(int).astype(str) + \" (\" + porcentajes_por_prompt.fillna(0).round(2).astype(str) + \"%)\"\n",
    "\n",
    "# Reemplazar NaN por vacío (si alguna clasificación no está en un prompt)\n",
    "contingency_table_total = contingency_table_total.fillna(\"0 (0.00%)\")\n",
    "\n",
    "# transponer la tabla\n",
    "contingency_table_total = contingency_table_total.T\n",
    "\n",
    "contingency_table_total \n"
   ]
  },
  {
   "cell_type": "markdown",
   "metadata": {},
   "source": [
    "# Visualización de inconsistencias entre respuestas de los prompts"
   ]
  },
  {
   "cell_type": "code",
   "execution_count": null,
   "metadata": {},
   "outputs": [],
   "source": [
    "# filtrar los inconsistentes\n",
    "prompts = prompts[~prompts.isin(['INCONSISTENCIA'])]"
   ]
  },
  {
   "cell_type": "code",
   "execution_count": null,
   "metadata": {},
   "outputs": [
    {
     "data": {
      "text/html": [
       "<div>\n",
       "<style scoped>\n",
       "    .dataframe tbody tr th:only-of-type {\n",
       "        vertical-align: middle;\n",
       "    }\n",
       "\n",
       "    .dataframe tbody tr th {\n",
       "        vertical-align: top;\n",
       "    }\n",
       "\n",
       "    .dataframe thead th {\n",
       "        text-align: right;\n",
       "    }\n",
       "</style>\n",
       "<table border=\"1\" class=\"dataframe\">\n",
       "  <thead>\n",
       "    <tr style=\"text-align: right;\">\n",
       "      <th></th>\n",
       "      <th>prompt 1</th>\n",
       "      <th>prompt 2</th>\n",
       "      <th>prompt 3</th>\n",
       "      <th>prompt 4</th>\n",
       "      <th>prompt 5</th>\n",
       "      <th>prompt 6</th>\n",
       "      <th>prompt 7</th>\n",
       "      <th>prompt 8</th>\n",
       "      <th>prompt 9</th>\n",
       "      <th>prompt 10</th>\n",
       "      <th>No</th>\n",
       "    </tr>\n",
       "  </thead>\n",
       "  <tbody>\n",
       "    <tr>\n",
       "      <th>0</th>\n",
       "      <td>NEGATIVO</td>\n",
       "      <td>POSITIVO</td>\n",
       "      <td>NEGATIVO</td>\n",
       "      <td>POSITIVO</td>\n",
       "      <td>NEGATIVO</td>\n",
       "      <td>NEGATIVO</td>\n",
       "      <td>NEGATIVO</td>\n",
       "      <td>POSITIVO</td>\n",
       "      <td>NEGATIVO</td>\n",
       "      <td>NEGATIVO</td>\n",
       "      <td>0</td>\n",
       "    </tr>\n",
       "    <tr>\n",
       "      <th>6</th>\n",
       "      <td>NEUTRAL</td>\n",
       "      <td>NEUTRAL</td>\n",
       "      <td>NEUTRAL</td>\n",
       "      <td>NEUTRAL</td>\n",
       "      <td>NEUTRAL</td>\n",
       "      <td>NEUTRAL</td>\n",
       "      <td>NEUTRAL</td>\n",
       "      <td>NEUTRAL</td>\n",
       "      <td>INCONSISTENTE</td>\n",
       "      <td>NEUTRAL</td>\n",
       "      <td>6</td>\n",
       "    </tr>\n",
       "    <tr>\n",
       "      <th>10</th>\n",
       "      <td>NEGATIVO</td>\n",
       "      <td>NEGATIVO</td>\n",
       "      <td>NEGATIVO</td>\n",
       "      <td>NEGATIVO</td>\n",
       "      <td>NEGATIVO</td>\n",
       "      <td>NEGATIVO</td>\n",
       "      <td>NEGATIVO</td>\n",
       "      <td>NEGATIVO</td>\n",
       "      <td>NEGATIVO</td>\n",
       "      <td>POSITIVO</td>\n",
       "      <td>10</td>\n",
       "    </tr>\n",
       "    <tr>\n",
       "      <th>21</th>\n",
       "      <td>NEGATIVO</td>\n",
       "      <td>POSITIVO</td>\n",
       "      <td>POSITIVO</td>\n",
       "      <td>POSITIVO</td>\n",
       "      <td>POSITIVO</td>\n",
       "      <td>POSITIVO</td>\n",
       "      <td>NEGATIVO</td>\n",
       "      <td>POSITIVO</td>\n",
       "      <td>POSITIVO</td>\n",
       "      <td>POSITIVO</td>\n",
       "      <td>21</td>\n",
       "    </tr>\n",
       "    <tr>\n",
       "      <th>37</th>\n",
       "      <td>NEGATIVO</td>\n",
       "      <td>NEGATIVO</td>\n",
       "      <td>NEGATIVO</td>\n",
       "      <td>NEGATIVO</td>\n",
       "      <td>NEGATIVO</td>\n",
       "      <td>NEGATIVO</td>\n",
       "      <td>NEGATIVO</td>\n",
       "      <td>NEGATIVO</td>\n",
       "      <td>NEGATIVO</td>\n",
       "      <td>POSITIVO</td>\n",
       "      <td>37</td>\n",
       "    </tr>\n",
       "    <tr>\n",
       "      <th>...</th>\n",
       "      <td>...</td>\n",
       "      <td>...</td>\n",
       "      <td>...</td>\n",
       "      <td>...</td>\n",
       "      <td>...</td>\n",
       "      <td>...</td>\n",
       "      <td>...</td>\n",
       "      <td>...</td>\n",
       "      <td>...</td>\n",
       "      <td>...</td>\n",
       "      <td>...</td>\n",
       "    </tr>\n",
       "    <tr>\n",
       "      <th>99966</th>\n",
       "      <td>NEGATIVO</td>\n",
       "      <td>NEGATIVO</td>\n",
       "      <td>NEGATIVO</td>\n",
       "      <td>NEGATIVO</td>\n",
       "      <td>NEGATIVO</td>\n",
       "      <td>NEUTRAL</td>\n",
       "      <td>NEGATIVO</td>\n",
       "      <td>NEGATIVO</td>\n",
       "      <td>NEGATIVO</td>\n",
       "      <td>NEGATIVO</td>\n",
       "      <td>99966</td>\n",
       "    </tr>\n",
       "    <tr>\n",
       "      <th>99973</th>\n",
       "      <td>NEGATIVO</td>\n",
       "      <td>NEUTRAL</td>\n",
       "      <td>NEUTRAL</td>\n",
       "      <td>NEUTRAL</td>\n",
       "      <td>NEUTRAL</td>\n",
       "      <td>NEUTRAL</td>\n",
       "      <td>NEGATIVO</td>\n",
       "      <td>NEUTRAL</td>\n",
       "      <td>NEGATIVO</td>\n",
       "      <td>NEUTRAL</td>\n",
       "      <td>99973</td>\n",
       "    </tr>\n",
       "    <tr>\n",
       "      <th>99995</th>\n",
       "      <td>NEUTRAL</td>\n",
       "      <td>NEUTRAL</td>\n",
       "      <td>NEUTRAL</td>\n",
       "      <td>NEUTRAL</td>\n",
       "      <td>NEUTRAL</td>\n",
       "      <td>NEUTRAL</td>\n",
       "      <td>NEUTRAL</td>\n",
       "      <td>NEUTRAL</td>\n",
       "      <td>NEUTRAL</td>\n",
       "      <td>NEGATIVO</td>\n",
       "      <td>99995</td>\n",
       "    </tr>\n",
       "    <tr>\n",
       "      <th>99998</th>\n",
       "      <td>NEGATIVO</td>\n",
       "      <td>POSITIVO</td>\n",
       "      <td>NEUTRAL</td>\n",
       "      <td>POSITIVO</td>\n",
       "      <td>NEGATIVO</td>\n",
       "      <td>POSITIVO</td>\n",
       "      <td>NEGATIVO</td>\n",
       "      <td>POSITIVO</td>\n",
       "      <td>POSITIVO</td>\n",
       "      <td>POSITIVO</td>\n",
       "      <td>99998</td>\n",
       "    </tr>\n",
       "    <tr>\n",
       "      <th>99999</th>\n",
       "      <td>NEGATIVO</td>\n",
       "      <td>NEGATIVO</td>\n",
       "      <td>NEUTRAL</td>\n",
       "      <td>NEGATIVO</td>\n",
       "      <td>NEGATIVO</td>\n",
       "      <td>NEGATIVO</td>\n",
       "      <td>NEGATIVO</td>\n",
       "      <td>NEGATIVO</td>\n",
       "      <td>NEGATIVO</td>\n",
       "      <td>NEGATIVO</td>\n",
       "      <td>99999</td>\n",
       "    </tr>\n",
       "  </tbody>\n",
       "</table>\n",
       "<p>15332 rows × 11 columns</p>\n",
       "</div>"
      ],
      "text/plain": [
       "       prompt 1  prompt 2  prompt 3  prompt 4  prompt 5  prompt 6  prompt 7  \\\n",
       "0      NEGATIVO  POSITIVO  NEGATIVO  POSITIVO  NEGATIVO  NEGATIVO  NEGATIVO   \n",
       "6       NEUTRAL   NEUTRAL   NEUTRAL   NEUTRAL   NEUTRAL   NEUTRAL   NEUTRAL   \n",
       "10     NEGATIVO  NEGATIVO  NEGATIVO  NEGATIVO  NEGATIVO  NEGATIVO  NEGATIVO   \n",
       "21     NEGATIVO  POSITIVO  POSITIVO  POSITIVO  POSITIVO  POSITIVO  NEGATIVO   \n",
       "37     NEGATIVO  NEGATIVO  NEGATIVO  NEGATIVO  NEGATIVO  NEGATIVO  NEGATIVO   \n",
       "...         ...       ...       ...       ...       ...       ...       ...   \n",
       "99966  NEGATIVO  NEGATIVO  NEGATIVO  NEGATIVO  NEGATIVO   NEUTRAL  NEGATIVO   \n",
       "99973  NEGATIVO   NEUTRAL   NEUTRAL   NEUTRAL   NEUTRAL   NEUTRAL  NEGATIVO   \n",
       "99995   NEUTRAL   NEUTRAL   NEUTRAL   NEUTRAL   NEUTRAL   NEUTRAL   NEUTRAL   \n",
       "99998  NEGATIVO  POSITIVO   NEUTRAL  POSITIVO  NEGATIVO  POSITIVO  NEGATIVO   \n",
       "99999  NEGATIVO  NEGATIVO   NEUTRAL  NEGATIVO  NEGATIVO  NEGATIVO  NEGATIVO   \n",
       "\n",
       "       prompt 8       prompt 9 prompt 10     No  \n",
       "0      POSITIVO       NEGATIVO  NEGATIVO      0  \n",
       "6       NEUTRAL  INCONSISTENTE   NEUTRAL      6  \n",
       "10     NEGATIVO       NEGATIVO  POSITIVO     10  \n",
       "21     POSITIVO       POSITIVO  POSITIVO     21  \n",
       "37     NEGATIVO       NEGATIVO  POSITIVO     37  \n",
       "...         ...            ...       ...    ...  \n",
       "99966  NEGATIVO       NEGATIVO  NEGATIVO  99966  \n",
       "99973   NEUTRAL       NEGATIVO   NEUTRAL  99973  \n",
       "99995   NEUTRAL        NEUTRAL  NEGATIVO  99995  \n",
       "99998  POSITIVO       POSITIVO  POSITIVO  99998  \n",
       "99999  NEGATIVO       NEGATIVO  NEGATIVO  99999  \n",
       "\n",
       "[15332 rows x 11 columns]"
      ]
     },
     "execution_count": 36,
     "metadata": {},
     "output_type": "execute_result"
    }
   ],
   "source": [
    "# Filtra las filas donde al menos un valor en las columnas (excepto la columna 'No') es diferente\n",
    "filtered_prompts = prompts[prompts.drop(columns=['No']).apply(lambda row: len(set(row)) > 1, axis=1)]\n",
    "\n",
    "# Muestra el DataFrame filtrado\n",
    "filtered_prompts"
   ]
  },
  {
   "cell_type": "code",
   "execution_count": null,
   "metadata": {},
   "outputs": [
    {
     "data": {
      "text/plain": [
       "15332"
      ]
     },
     "execution_count": 39,
     "metadata": {},
     "output_type": "execute_result"
    }
   ],
   "source": [
    "# numero de filas de filtered_prompts\n",
    "\n",
    "len(filtered_prompts)"
   ]
  },
  {
   "cell_type": "markdown",
   "metadata": {},
   "source": [
    "# Matriz de proporción de coincidencias"
   ]
  },
  {
   "cell_type": "code",
   "execution_count": null,
   "metadata": {},
   "outputs": [],
   "source": [
    "import matplotlib.pyplot as plt "
   ]
  },
  {
   "cell_type": "code",
   "execution_count": null,
   "metadata": {},
   "outputs": [
    {
     "data": {
      "text/html": [
       "<div>\n",
       "<style scoped>\n",
       "    .dataframe tbody tr th:only-of-type {\n",
       "        vertical-align: middle;\n",
       "    }\n",
       "\n",
       "    .dataframe tbody tr th {\n",
       "        vertical-align: top;\n",
       "    }\n",
       "\n",
       "    .dataframe thead th {\n",
       "        text-align: right;\n",
       "    }\n",
       "</style>\n",
       "<table border=\"1\" class=\"dataframe\">\n",
       "  <thead>\n",
       "    <tr style=\"text-align: right;\">\n",
       "      <th></th>\n",
       "      <th>prompt 1</th>\n",
       "      <th>prompt 2</th>\n",
       "      <th>prompt 3</th>\n",
       "      <th>prompt 4</th>\n",
       "      <th>prompt 5</th>\n",
       "      <th>prompt 6</th>\n",
       "      <th>prompt 7</th>\n",
       "      <th>prompt 8</th>\n",
       "      <th>prompt 9</th>\n",
       "      <th>prompt 10</th>\n",
       "    </tr>\n",
       "  </thead>\n",
       "  <tbody>\n",
       "    <tr>\n",
       "      <th>prompt 1</th>\n",
       "      <td>1.00000</td>\n",
       "      <td>0.93331</td>\n",
       "      <td>0.95215</td>\n",
       "      <td>0.93007</td>\n",
       "      <td>0.96255</td>\n",
       "      <td>0.92618</td>\n",
       "      <td>0.98350</td>\n",
       "      <td>0.92532</td>\n",
       "      <td>0.94084</td>\n",
       "      <td>0.92196</td>\n",
       "    </tr>\n",
       "    <tr>\n",
       "      <th>prompt 2</th>\n",
       "      <td>0.93331</td>\n",
       "      <td>1.00000</td>\n",
       "      <td>0.93924</td>\n",
       "      <td>0.97130</td>\n",
       "      <td>0.92931</td>\n",
       "      <td>0.95980</td>\n",
       "      <td>0.93096</td>\n",
       "      <td>0.97432</td>\n",
       "      <td>0.92213</td>\n",
       "      <td>0.95752</td>\n",
       "    </tr>\n",
       "    <tr>\n",
       "      <th>prompt 3</th>\n",
       "      <td>0.95215</td>\n",
       "      <td>0.93924</td>\n",
       "      <td>1.00000</td>\n",
       "      <td>0.93673</td>\n",
       "      <td>0.95626</td>\n",
       "      <td>0.93875</td>\n",
       "      <td>0.94995</td>\n",
       "      <td>0.93728</td>\n",
       "      <td>0.92137</td>\n",
       "      <td>0.92773</td>\n",
       "    </tr>\n",
       "    <tr>\n",
       "      <th>prompt 4</th>\n",
       "      <td>0.93007</td>\n",
       "      <td>0.97130</td>\n",
       "      <td>0.93673</td>\n",
       "      <td>1.00000</td>\n",
       "      <td>0.92487</td>\n",
       "      <td>0.95586</td>\n",
       "      <td>0.92769</td>\n",
       "      <td>0.96976</td>\n",
       "      <td>0.91931</td>\n",
       "      <td>0.95898</td>\n",
       "    </tr>\n",
       "    <tr>\n",
       "      <th>prompt 5</th>\n",
       "      <td>0.96255</td>\n",
       "      <td>0.92931</td>\n",
       "      <td>0.95626</td>\n",
       "      <td>0.92487</td>\n",
       "      <td>1.00000</td>\n",
       "      <td>0.93345</td>\n",
       "      <td>0.96054</td>\n",
       "      <td>0.92265</td>\n",
       "      <td>0.92604</td>\n",
       "      <td>0.91621</td>\n",
       "    </tr>\n",
       "    <tr>\n",
       "      <th>prompt 6</th>\n",
       "      <td>0.92618</td>\n",
       "      <td>0.95980</td>\n",
       "      <td>0.93875</td>\n",
       "      <td>0.95586</td>\n",
       "      <td>0.93345</td>\n",
       "      <td>1.00000</td>\n",
       "      <td>0.92409</td>\n",
       "      <td>0.95734</td>\n",
       "      <td>0.91228</td>\n",
       "      <td>0.94355</td>\n",
       "    </tr>\n",
       "    <tr>\n",
       "      <th>prompt 7</th>\n",
       "      <td>0.98350</td>\n",
       "      <td>0.93096</td>\n",
       "      <td>0.94995</td>\n",
       "      <td>0.92769</td>\n",
       "      <td>0.96054</td>\n",
       "      <td>0.92409</td>\n",
       "      <td>1.00000</td>\n",
       "      <td>0.92233</td>\n",
       "      <td>0.94008</td>\n",
       "      <td>0.91998</td>\n",
       "    </tr>\n",
       "    <tr>\n",
       "      <th>prompt 8</th>\n",
       "      <td>0.92532</td>\n",
       "      <td>0.97432</td>\n",
       "      <td>0.93728</td>\n",
       "      <td>0.96976</td>\n",
       "      <td>0.92265</td>\n",
       "      <td>0.95734</td>\n",
       "      <td>0.92233</td>\n",
       "      <td>1.00000</td>\n",
       "      <td>0.91581</td>\n",
       "      <td>0.95752</td>\n",
       "    </tr>\n",
       "    <tr>\n",
       "      <th>prompt 9</th>\n",
       "      <td>0.94084</td>\n",
       "      <td>0.92213</td>\n",
       "      <td>0.92137</td>\n",
       "      <td>0.91931</td>\n",
       "      <td>0.92604</td>\n",
       "      <td>0.91228</td>\n",
       "      <td>0.94008</td>\n",
       "      <td>0.91581</td>\n",
       "      <td>1.00000</td>\n",
       "      <td>0.91681</td>\n",
       "    </tr>\n",
       "    <tr>\n",
       "      <th>prompt 10</th>\n",
       "      <td>0.92196</td>\n",
       "      <td>0.95752</td>\n",
       "      <td>0.92773</td>\n",
       "      <td>0.95898</td>\n",
       "      <td>0.91621</td>\n",
       "      <td>0.94355</td>\n",
       "      <td>0.91998</td>\n",
       "      <td>0.95752</td>\n",
       "      <td>0.91681</td>\n",
       "      <td>1.00000</td>\n",
       "    </tr>\n",
       "  </tbody>\n",
       "</table>\n",
       "</div>"
      ],
      "text/plain": [
       "           prompt 1  prompt 2  prompt 3  prompt 4  prompt 5  prompt 6  \\\n",
       "prompt 1    1.00000   0.93331   0.95215   0.93007   0.96255   0.92618   \n",
       "prompt 2    0.93331   1.00000   0.93924   0.97130   0.92931   0.95980   \n",
       "prompt 3    0.95215   0.93924   1.00000   0.93673   0.95626   0.93875   \n",
       "prompt 4    0.93007   0.97130   0.93673   1.00000   0.92487   0.95586   \n",
       "prompt 5    0.96255   0.92931   0.95626   0.92487   1.00000   0.93345   \n",
       "prompt 6    0.92618   0.95980   0.93875   0.95586   0.93345   1.00000   \n",
       "prompt 7    0.98350   0.93096   0.94995   0.92769   0.96054   0.92409   \n",
       "prompt 8    0.92532   0.97432   0.93728   0.96976   0.92265   0.95734   \n",
       "prompt 9    0.94084   0.92213   0.92137   0.91931   0.92604   0.91228   \n",
       "prompt 10   0.92196   0.95752   0.92773   0.95898   0.91621   0.94355   \n",
       "\n",
       "           prompt 7  prompt 8  prompt 9  prompt 10  \n",
       "prompt 1    0.98350   0.92532   0.94084    0.92196  \n",
       "prompt 2    0.93096   0.97432   0.92213    0.95752  \n",
       "prompt 3    0.94995   0.93728   0.92137    0.92773  \n",
       "prompt 4    0.92769   0.96976   0.91931    0.95898  \n",
       "prompt 5    0.96054   0.92265   0.92604    0.91621  \n",
       "prompt 6    0.92409   0.95734   0.91228    0.94355  \n",
       "prompt 7    1.00000   0.92233   0.94008    0.91998  \n",
       "prompt 8    0.92233   1.00000   0.91581    0.95752  \n",
       "prompt 9    0.94008   0.91581   1.00000    0.91681  \n",
       "prompt 10   0.91998   0.95752   0.91681    1.00000  "
      ]
     },
     "execution_count": 291,
     "metadata": {},
     "output_type": "execute_result"
    }
   ],
   "source": [
    "# todas las respuestas que coincidan hacer una matriz de la proporción de coincidencias\n",
    "# para cada par de columnas\n",
    "import numpy as np\n",
    "\n",
    "coincidencias = np.zeros((prompts.shape[1], prompts.shape[1]))\n",
    "\n",
    "for i in range(prompts.shape[1]):\n",
    "    for j in range(prompts.shape[1]):\n",
    "        coincidencias[i, j] = (prompts.iloc[:, i] == prompts.iloc[:, j]).mean()\n",
    "\n",
    "coincidencias = pd.DataFrame(coincidencias, columns=prompts.columns, index=prompts.columns)\n",
    "\n",
    "coincidencias"
   ]
  },
  {
   "cell_type": "code",
   "execution_count": null,
   "metadata": {},
   "outputs": [],
   "source": [
    "coincidencias.to_csv('./results/matrices/coincidencias_matrix.csv', index=False)"
   ]
  },
  {
   "cell_type": "markdown",
   "metadata": {},
   "source": [
    "# Análisis de embeddings"
   ]
  },
  {
   "cell_type": "code",
   "execution_count": null,
   "metadata": {},
   "outputs": [],
   "source": [
    "import os \n",
    "import openai\n",
    "from openai import OpenAI"
   ]
  },
  {
   "cell_type": "code",
   "execution_count": null,
   "metadata": {},
   "outputs": [],
   "source": [
    "api_key = \"API KEY\""
   ]
  },
  {
   "cell_type": "code",
   "execution_count": null,
   "metadata": {},
   "outputs": [],
   "source": [
    "openai.api_key = os.getenv(api_key)"
   ]
  },
  {
   "cell_type": "code",
   "execution_count": null,
   "metadata": {},
   "outputs": [],
   "source": [
    "client = OpenAI(\n",
    "    api_key=api_key,\n",
    ")"
   ]
  },
  {
   "cell_type": "code",
   "execution_count": null,
   "metadata": {},
   "outputs": [],
   "source": [
    "# create a function that takes a string and returns the embedding with comparacion[\"prompt\"]\n",
    "\n",
    "def get_embedding(text):\n",
    "    response = client.embeddings.create(\n",
    "        input=text,\n",
    "        model=\"text-embedding-3-small\"\n",
    "    )\n",
    "    return response.data[0].embedding\n",
    "\n",
    "# get the embeddings for each prompt\n",
    "comparacion[\"prompt_embedding\"] = comparacion[\"Prompt\"].apply(get_embedding)"
   ]
  },
  {
   "cell_type": "code",
   "execution_count": null,
   "metadata": {},
   "outputs": [
    {
     "data": {
      "text/plain": [
       "Index(['# ', 'Prompt', 'prompt_embedding'], dtype='object')"
      ]
     },
     "execution_count": 11,
     "metadata": {},
     "output_type": "execute_result"
    }
   ],
   "source": [
    "comparacion.columns"
   ]
  },
  {
   "cell_type": "code",
   "execution_count": null,
   "metadata": {},
   "outputs": [
    {
     "data": {
      "text/html": [
       "<div>\n",
       "<style scoped>\n",
       "    .dataframe tbody tr th:only-of-type {\n",
       "        vertical-align: middle;\n",
       "    }\n",
       "\n",
       "    .dataframe tbody tr th {\n",
       "        vertical-align: top;\n",
       "    }\n",
       "\n",
       "    .dataframe thead th {\n",
       "        text-align: right;\n",
       "    }\n",
       "</style>\n",
       "<table border=\"1\" class=\"dataframe\">\n",
       "  <thead>\n",
       "    <tr style=\"text-align: right;\">\n",
       "      <th></th>\n",
       "      <th>#</th>\n",
       "      <th>Prompt</th>\n",
       "      <th>prompt_embedding</th>\n",
       "    </tr>\n",
       "  </thead>\n",
       "  <tbody>\n",
       "    <tr>\n",
       "      <th>0</th>\n",
       "      <td>prompt 1</td>\n",
       "      <td>Como IA con experiencia en análisis de lengua...</td>\n",
       "      <td>[0.033301860094070435, 0.02005908079445362, -0...</td>\n",
       "    </tr>\n",
       "    <tr>\n",
       "      <th>1</th>\n",
       "      <td>prompt 2</td>\n",
       "      <td>Realice la tarea de clasificación de sentimien...</td>\n",
       "      <td>[0.01993970386683941, 0.027229370549321175, -0...</td>\n",
       "    </tr>\n",
       "    <tr>\n",
       "      <th>2</th>\n",
       "      <td>prompt 3</td>\n",
       "      <td>Indique si el sentimiento es generalmente posi...</td>\n",
       "      <td>[0.037569183856248856, 0.009977892972528934, -...</td>\n",
       "    </tr>\n",
       "    <tr>\n",
       "      <th>3</th>\n",
       "      <td>prompt 4</td>\n",
       "      <td>Devuelva únicamente la etiqueta sin ningún otr...</td>\n",
       "      <td>[0.027640076354146004, 0.032355405390262604, -...</td>\n",
       "    </tr>\n",
       "    <tr>\n",
       "      <th>4</th>\n",
       "      <td>prompt 5</td>\n",
       "      <td>Como IA experto en procesamiento de lenguaje n...</td>\n",
       "      <td>[0.026453128084540367, 0.021934326738119125, -...</td>\n",
       "    </tr>\n",
       "    <tr>\n",
       "      <th>5</th>\n",
       "      <td>prompt 6</td>\n",
       "      <td>Realice la tarea de clasificación de sentimien...</td>\n",
       "      <td>[0.01617933250963688, 0.01664418913424015, -0....</td>\n",
       "    </tr>\n",
       "    <tr>\n",
       "      <th>6</th>\n",
       "      <td>prompt 7</td>\n",
       "      <td>Como IA con experiencia en análisis de lenguaj...</td>\n",
       "      <td>[0.04267152026295662, 0.024358045309782028, -0...</td>\n",
       "    </tr>\n",
       "    <tr>\n",
       "      <th>7</th>\n",
       "      <td>prompt 8</td>\n",
       "      <td>Debes realizar la tarea de clasificación de se...</td>\n",
       "      <td>[0.026077784597873688, 0.02891603857278824, -0...</td>\n",
       "    </tr>\n",
       "    <tr>\n",
       "      <th>8</th>\n",
       "      <td>prompt 9</td>\n",
       "      <td>IA experiencia análisis lenguaje emociones tar...</td>\n",
       "      <td>[0.024891218170523643, 0.014691608026623726, -...</td>\n",
       "    </tr>\n",
       "    <tr>\n",
       "      <th>9</th>\n",
       "      <td>prompt 10</td>\n",
       "      <td>Realice tarea clasificación sentimientos dado ...</td>\n",
       "      <td>[0.002189741935580969, 0.002181319985538721, -...</td>\n",
       "    </tr>\n",
       "  </tbody>\n",
       "</table>\n",
       "</div>"
      ],
      "text/plain": [
       "          #                                              Prompt  \\\n",
       "0   prompt 1   Como IA con experiencia en análisis de lengua...   \n",
       "1   prompt 2  Realice la tarea de clasificación de sentimien...   \n",
       "2   prompt 3  Indique si el sentimiento es generalmente posi...   \n",
       "3   prompt 4  Devuelva únicamente la etiqueta sin ningún otr...   \n",
       "4   prompt 5  Como IA experto en procesamiento de lenguaje n...   \n",
       "5   prompt 6  Realice la tarea de clasificación de sentimien...   \n",
       "6   prompt 7  Como IA con experiencia en análisis de lenguaj...   \n",
       "7   prompt 8  Debes realizar la tarea de clasificación de se...   \n",
       "8   prompt 9  IA experiencia análisis lenguaje emociones tar...   \n",
       "9  prompt 10  Realice tarea clasificación sentimientos dado ...   \n",
       "\n",
       "                                    prompt_embedding  \n",
       "0  [0.033301860094070435, 0.02005908079445362, -0...  \n",
       "1  [0.01993970386683941, 0.027229370549321175, -0...  \n",
       "2  [0.037569183856248856, 0.009977892972528934, -...  \n",
       "3  [0.027640076354146004, 0.032355405390262604, -...  \n",
       "4  [0.026453128084540367, 0.021934326738119125, -...  \n",
       "5  [0.01617933250963688, 0.01664418913424015, -0....  \n",
       "6  [0.04267152026295662, 0.024358045309782028, -0...  \n",
       "7  [0.026077784597873688, 0.02891603857278824, -0...  \n",
       "8  [0.024891218170523643, 0.014691608026623726, -...  \n",
       "9  [0.002189741935580969, 0.002181319985538721, -...  "
      ]
     },
     "execution_count": 111,
     "metadata": {},
     "output_type": "execute_result"
    }
   ],
   "source": [
    "comparacion"
   ]
  },
  {
   "cell_type": "code",
   "execution_count": null,
   "metadata": {},
   "outputs": [],
   "source": [
    "from sklearn.decomposition import PCA\n",
    "\n",
    "pca = PCA(n_components=2)"
   ]
  },
  {
   "cell_type": "code",
   "execution_count": null,
   "metadata": {},
   "outputs": [],
   "source": [
    "embeddings = np.array(comparacion[\"prompt_embedding\"].tolist())"
   ]
  },
  {
   "cell_type": "code",
   "execution_count": null,
   "metadata": {},
   "outputs": [
    {
     "data": {
      "text/plain": [
       "array([[ 0.03330186,  0.02005908, -0.04185565, ..., -0.0100908 ,\n",
       "         0.02358975,  0.0089993 ],\n",
       "       [ 0.0199397 ,  0.02722937, -0.05051246, ..., -0.00605097,\n",
       "         0.02433543,  0.00567827],\n",
       "       [ 0.03756918,  0.00997789, -0.04414152, ..., -0.00462792,\n",
       "         0.02481112,  0.01463424],\n",
       "       ...,\n",
       "       [ 0.02607778,  0.02891604, -0.0361077 , ..., -0.00443877,\n",
       "         0.03636378,  0.00328907],\n",
       "       [ 0.02489122,  0.01469161, -0.0303094 , ..., -0.01730808,\n",
       "         0.0237798 , -0.00183066],\n",
       "       [ 0.00218974,  0.00218132, -0.06486128, ..., -0.00686681,\n",
       "         0.01997718, -0.01409295]])"
      ]
     },
     "execution_count": 26,
     "metadata": {},
     "output_type": "execute_result"
    }
   ],
   "source": [
    "embeddings"
   ]
  },
  {
   "cell_type": "code",
   "execution_count": null,
   "metadata": {},
   "outputs": [],
   "source": [
    "import matplotlib.pyplot as plt "
   ]
  },
  {
   "cell_type": "code",
   "execution_count": null,
   "metadata": {},
   "outputs": [
    {
     "data": {
      "text/html": [
       "<div>\n",
       "<style scoped>\n",
       "    .dataframe tbody tr th:only-of-type {\n",
       "        vertical-align: middle;\n",
       "    }\n",
       "\n",
       "    .dataframe tbody tr th {\n",
       "        vertical-align: top;\n",
       "    }\n",
       "\n",
       "    .dataframe thead th {\n",
       "        text-align: right;\n",
       "    }\n",
       "</style>\n",
       "<table border=\"1\" class=\"dataframe\">\n",
       "  <thead>\n",
       "    <tr style=\"text-align: right;\">\n",
       "      <th></th>\n",
       "      <th>PCA1</th>\n",
       "      <th>PCA2</th>\n",
       "      <th>#</th>\n",
       "    </tr>\n",
       "  </thead>\n",
       "  <tbody>\n",
       "    <tr>\n",
       "      <th>0</th>\n",
       "      <td>0.405294</td>\n",
       "      <td>-0.061837</td>\n",
       "      <td>prompt 1</td>\n",
       "    </tr>\n",
       "    <tr>\n",
       "      <th>1</th>\n",
       "      <td>-0.329986</td>\n",
       "      <td>-0.026559</td>\n",
       "      <td>prompt 2</td>\n",
       "    </tr>\n",
       "    <tr>\n",
       "      <th>2</th>\n",
       "      <td>0.277559</td>\n",
       "      <td>-0.045579</td>\n",
       "      <td>prompt 3</td>\n",
       "    </tr>\n",
       "    <tr>\n",
       "      <th>3</th>\n",
       "      <td>-0.355123</td>\n",
       "      <td>-0.102406</td>\n",
       "      <td>prompt 4</td>\n",
       "    </tr>\n",
       "    <tr>\n",
       "      <th>4</th>\n",
       "      <td>0.336962</td>\n",
       "      <td>-0.154469</td>\n",
       "      <td>prompt 5</td>\n",
       "    </tr>\n",
       "    <tr>\n",
       "      <th>5</th>\n",
       "      <td>-0.345517</td>\n",
       "      <td>-0.035513</td>\n",
       "      <td>prompt 6</td>\n",
       "    </tr>\n",
       "    <tr>\n",
       "      <th>6</th>\n",
       "      <td>0.396796</td>\n",
       "      <td>-0.057429</td>\n",
       "      <td>prompt 7</td>\n",
       "    </tr>\n",
       "    <tr>\n",
       "      <th>7</th>\n",
       "      <td>-0.336033</td>\n",
       "      <td>-0.082919</td>\n",
       "      <td>prompt 8</td>\n",
       "    </tr>\n",
       "    <tr>\n",
       "      <th>8</th>\n",
       "      <td>0.274135</td>\n",
       "      <td>0.352630</td>\n",
       "      <td>prompt 9</td>\n",
       "    </tr>\n",
       "    <tr>\n",
       "      <th>9</th>\n",
       "      <td>-0.324087</td>\n",
       "      <td>0.214084</td>\n",
       "      <td>prompt 10</td>\n",
       "    </tr>\n",
       "  </tbody>\n",
       "</table>\n",
       "</div>"
      ],
      "text/plain": [
       "       PCA1      PCA2         # \n",
       "0  0.405294 -0.061837   prompt 1\n",
       "1 -0.329986 -0.026559   prompt 2\n",
       "2  0.277559 -0.045579   prompt 3\n",
       "3 -0.355123 -0.102406   prompt 4\n",
       "4  0.336962 -0.154469   prompt 5\n",
       "5 -0.345517 -0.035513   prompt 6\n",
       "6  0.396796 -0.057429   prompt 7\n",
       "7 -0.336033 -0.082919   prompt 8\n",
       "8  0.274135  0.352630   prompt 9\n",
       "9 -0.324087  0.214084  prompt 10"
      ]
     },
     "execution_count": 30,
     "metadata": {},
     "output_type": "execute_result"
    }
   ],
   "source": [
    "# make embeddings_pca a DataFrame an enumerate the columns with the prompts \n",
    "embeddings_pca = pd.DataFrame(embeddings_pca, columns=[\"PCA1\", \"PCA2\"])\n",
    "\n",
    "embeddings_pca[\"# \"] = comparacion[\"# \"]\n",
    "\n",
    "embeddings_pca"
   ]
  },
  {
   "cell_type": "code",
   "execution_count": null,
   "metadata": {},
   "outputs": [
    {
     "data": {
      "image/png": "[encoded data removed]",
      "text/plain": [
       "<Figure size 640x480 with 1 Axes>"
      ]
     },
     "metadata": {},
     "output_type": "display_data"
    }
   ],
   "source": [
    "# beautify the plot Prompt Similarity in PCA Space \n",
    "plt.figure()\n",
    "plt.scatter(embeddings_pca[\"PCA1\"], embeddings_pca[\"PCA2\"])\n",
    "\n",
    "for i, txt in enumerate(embeddings_pca[\"# \"]):\n",
    "    plt.annotate(txt, (embeddings_pca[\"PCA1\"][i], embeddings_pca[\"PCA2\"][i]))\n",
    "\n",
    "plt.title(\"Prompt Similarity in PCA Space\")\n",
    "plt.xlabel(\"PCA1\")\n",
    "plt.ylabel(\"PCA2\")\n",
    "\n",
    "plt.show()"
   ]
  },
  {
   "cell_type": "code",
   "execution_count": null,
   "metadata": {},
   "outputs": [
    {
     "data": {
      "text/plain": [
       "array([[ 0.4052941 , -0.06183731, -0.03126696],\n",
       "       [-0.32998562, -0.02655925,  0.00612572],\n",
       "       [ 0.27755939, -0.04557948,  0.04318959],\n",
       "       [-0.35512304, -0.10240591,  0.20299713],\n",
       "       [ 0.3369616 , -0.15446949, -0.18646175],\n",
       "       [-0.34551657, -0.03551313, -0.07831782],\n",
       "       [ 0.39679589, -0.05742942,  0.07654439],\n",
       "       [-0.3360334 , -0.0829194 ,  0.05195744],\n",
       "       [ 0.27413497,  0.35262986,  0.11731446],\n",
       "       [-0.32408731,  0.21408353, -0.20208221]])"
      ]
     },
     "execution_count": 21,
     "metadata": {},
     "output_type": "execute_result"
    }
   ],
   "source": [
    "embeddings_pca"
   ]
  },
  {
   "cell_type": "code",
   "execution_count": null,
   "metadata": {},
   "outputs": [
    {
     "data": {
      "text/plain": [
       "0.7931074145194572"
      ]
     },
     "execution_count": 113,
     "metadata": {},
     "output_type": "execute_result"
    }
   ],
   "source": [
    "pca.explained_variance_ratio_.sum()"
   ]
  },
  {
   "cell_type": "code",
   "execution_count": null,
   "metadata": {},
   "outputs": [
    {
     "data": {
      "text/plain": [
       "array([0.60100049, 0.11533594, 0.07677099])"
      ]
     },
     "execution_count": 114,
     "metadata": {},
     "output_type": "execute_result"
    }
   ],
   "source": [
    "# varianza explicada\n",
    "pca.explained_variance_ratio_"
   ]
  },
  {
   "cell_type": "code",
   "execution_count": null,
   "metadata": {},
   "outputs": [
    {
     "data": {
      "application/vnd.plotly.v1+json": {
       "config": {
        "plotlyServerURL": "https://plot.ly"
       },
       "data": [
        {
         "marker": {
          "color": "blue",
          "opacity": 0.8,
          "size": 5
         },
         "mode": "markers+text",
         "text": [
          "prompt 1",
          "prompt 2",
          "prompt 3",
          "prompt 4",
          "prompt 5",
          "prompt 6",
          "prompt 7",
          "prompt 8",
          "prompt 9",
          "prompt 10"
         ],
         "type": "scatter3d",
         "x": [
          0.40529409686761936,
          -0.32998562409664217,
          0.27755938713407974,
          -0.35512303862664024,
          0.3369615957446743,
          -0.3455165688841359,
          0.3967958943936916,
          -0.33603340185708297,
          0.274134968529171,
          -0.32408730920473494
         ],
         "y": [
          -0.0618373112181101,
          -0.026559253880576953,
          -0.045579481198852925,
          -0.10240590752248077,
          -0.15446948884938586,
          -0.03551313164515662,
          -0.057429416099509537,
          -0.08291939500583889,
          0.3526298589590777,
          0.21408352646083384
         ],
         "z": [
          -0.03126695915444627,
          0.006125722789948223,
          0.04318958707186267,
          0.20299712806249964,
          -0.18646174986567596,
          -0.0783178176400056,
          0.07654439314372104,
          0.05195743932169068,
          0.11731446319672813,
          -0.20208220692632253
         ]
        }
       ],
       "layout": {
        "scene": {
         "xaxis": {
          "title": {
           "text": "Componente 1"
          }
         },
         "yaxis": {
          "title": {
           "text": "Componente 2"
          }
         },
         "zaxis": {
          "title": {
           "text": "Componente 3"
          }
         }
        },
        "template": {
         "data": {
          "bar": [
           {
            "error_x": {
             "color": "#2a3f5f"
            },
            "error_y": {
             "color": "#2a3f5f"
            },
            "marker": {
             "line": {
              "color": "#E5ECF6",
              "width": 0.5
             },
             "pattern": {
              "fillmode": "overlay",
              "size": 10,
              "solidity": 0.2
             }
            },
            "type": "bar"
           }
          ],
          "barpolar": [
           {
            "marker": {
             "line": {
              "color": "#E5ECF6",
              "width": 0.5
             },
             "pattern": {
              "fillmode": "overlay",
              "size": 10,
              "solidity": 0.2
             }
            },
            "type": "barpolar"
           }
          ],
          "carpet": [
           {
            "aaxis": {
             "endlinecolor": "#2a3f5f",
             "gridcolor": "white",
             "linecolor": "white",
             "minorgridcolor": "white",
             "startlinecolor": "#2a3f5f"
            },
            "baxis": {
             "endlinecolor": "#2a3f5f",
             "gridcolor": "white",
             "linecolor": "white",
             "minorgridcolor": "white",
             "startlinecolor": "#2a3f5f"
            },
            "type": "carpet"
           }
          ],
          "choropleth": [
           {
            "colorbar": {
             "outlinewidth": 0,
             "ticks": ""
            },
            "type": "choropleth"
           }
          ],
          "contour": [
           {
            "colorbar": {
             "outlinewidth": 0,
             "ticks": ""
            },
            "colorscale": [
             [
              0,
              "#0d0887"
             ],
             [
              0.1111111111111111,
              "#46039f"
             ],
             [
              0.2222222222222222,
              "#7201a8"
             ],
             [
              0.3333333333333333,
              "#9c179e"
             ],
             [
              0.4444444444444444,
              "#bd3786"
             ],
             [
              0.5555555555555556,
              "#d8576b"
             ],
             [
              0.6666666666666666,
              "#ed7953"
             ],
             [
              0.7777777777777778,
              "#fb9f3a"
             ],
             [
              0.8888888888888888,
              "#fdca26"
             ],
             [
              1,
              "#f0f921"
             ]
            ],
            "type": "contour"
           }
          ],
          "contourcarpet": [
           {
            "colorbar": {
             "outlinewidth": 0,
             "ticks": ""
            },
            "type": "contourcarpet"
           }
          ],
          "heatmap": [
           {
            "colorbar": {
             "outlinewidth": 0,
             "ticks": ""
            },
            "colorscale": [
             [
              0,
              "#0d0887"
             ],
             [
              0.1111111111111111,
              "#46039f"
             ],
             [
              0.2222222222222222,
              "#7201a8"
             ],
             [
              0.3333333333333333,
              "#9c179e"
             ],
             [
              0.4444444444444444,
              "#bd3786"
             ],
             [
              0.5555555555555556,
              "#d8576b"
             ],
             [
              0.6666666666666666,
              "#ed7953"
             ],
             [
              0.7777777777777778,
              "#fb9f3a"
             ],
             [
              0.8888888888888888,
              "#fdca26"
             ],
             [
              1,
              "#f0f921"
             ]
            ],
            "type": "heatmap"
           }
          ],
          "heatmapgl": [
           {
            "colorbar": {
             "outlinewidth": 0,
             "ticks": ""
            },
            "colorscale": [
             [
              0,
              "#0d0887"
             ],
             [
              0.1111111111111111,
              "#46039f"
             ],
             [
              0.2222222222222222,
              "#7201a8"
             ],
             [
              0.3333333333333333,
              "#9c179e"
             ],
             [
              0.4444444444444444,
              "#bd3786"
             ],
             [
              0.5555555555555556,
              "#d8576b"
             ],
             [
              0.6666666666666666,
              "#ed7953"
             ],
             [
              0.7777777777777778,
              "#fb9f3a"
             ],
             [
              0.8888888888888888,
              "#fdca26"
             ],
             [
              1,
              "#f0f921"
             ]
            ],
            "type": "heatmapgl"
           }
          ],
          "histogram": [
           {
            "marker": {
             "pattern": {
              "fillmode": "overlay",
              "size": 10,
              "solidity": 0.2
             }
            },
            "type": "histogram"
           }
          ],
          "histogram2d": [
           {
            "colorbar": {
             "outlinewidth": 0,
             "ticks": ""
            },
            "colorscale": [
             [
              0,
              "#0d0887"
             ],
             [
              0.1111111111111111,
              "#46039f"
             ],
             [
              0.2222222222222222,
              "#7201a8"
             ],
             [
              0.3333333333333333,
              "#9c179e"
             ],
             [
              0.4444444444444444,
              "#bd3786"
             ],
             [
              0.5555555555555556,
              "#d8576b"
             ],
             [
              0.6666666666666666,
              "#ed7953"
             ],
             [
              0.7777777777777778,
              "#fb9f3a"
             ],
             [
              0.8888888888888888,
              "#fdca26"
             ],
             [
              1,
              "#f0f921"
             ]
            ],
            "type": "histogram2d"
           }
          ],
          "histogram2dcontour": [
           {
            "colorbar": {
             "outlinewidth": 0,
             "ticks": ""
            },
            "colorscale": [
             [
              0,
              "#0d0887"
             ],
             [
              0.1111111111111111,
              "#46039f"
             ],
             [
              0.2222222222222222,
              "#7201a8"
             ],
             [
              0.3333333333333333,
              "#9c179e"
             ],
             [
              0.4444444444444444,
              "#bd3786"
             ],
             [
              0.5555555555555556,
              "#d8576b"
             ],
             [
              0.6666666666666666,
              "#ed7953"
             ],
             [
              0.7777777777777778,
              "#fb9f3a"
             ],
             [
              0.8888888888888888,
              "#fdca26"
             ],
             [
              1,
              "#f0f921"
             ]
            ],
            "type": "histogram2dcontour"
           }
          ],
          "mesh3d": [
           {
            "colorbar": {
             "outlinewidth": 0,
             "ticks": ""
            },
            "type": "mesh3d"
           }
          ],
          "parcoords": [
           {
            "line": {
             "colorbar": {
              "outlinewidth": 0,
              "ticks": ""
             }
            },
            "type": "parcoords"
           }
          ],
          "pie": [
           {
            "automargin": true,
            "type": "pie"
           }
          ],
          "scatter": [
           {
            "fillpattern": {
             "fillmode": "overlay",
             "size": 10,
             "solidity": 0.2
            },
            "type": "scatter"
           }
          ],
          "scatter3d": [
           {
            "line": {
             "colorbar": {
              "outlinewidth": 0,
              "ticks": ""
             }
            },
            "marker": {
             "colorbar": {
              "outlinewidth": 0,
              "ticks": ""
             }
            },
            "type": "scatter3d"
           }
          ],
          "scattercarpet": [
           {
            "marker": {
             "colorbar": {
              "outlinewidth": 0,
              "ticks": ""
             }
            },
            "type": "scattercarpet"
           }
          ],
          "scattergeo": [
           {
            "marker": {
             "colorbar": {
              "outlinewidth": 0,
              "ticks": ""
             }
            },
            "type": "scattergeo"
           }
          ],
          "scattergl": [
           {
            "marker": {
             "colorbar": {
              "outlinewidth": 0,
              "ticks": ""
             }
            },
            "type": "scattergl"
           }
          ],
          "scattermapbox": [
           {
            "marker": {
             "colorbar": {
              "outlinewidth": 0,
              "ticks": ""
             }
            },
            "type": "scattermapbox"
           }
          ],
          "scatterpolar": [
           {
            "marker": {
             "colorbar": {
              "outlinewidth": 0,
              "ticks": ""
             }
            },
            "type": "scatterpolar"
           }
          ],
          "scatterpolargl": [
           {
            "marker": {
             "colorbar": {
              "outlinewidth": 0,
              "ticks": ""
             }
            },
            "type": "scatterpolargl"
           }
          ],
          "scatterternary": [
           {
            "marker": {
             "colorbar": {
              "outlinewidth": 0,
              "ticks": ""
             }
            },
            "type": "scatterternary"
           }
          ],
          "surface": [
           {
            "colorbar": {
             "outlinewidth": 0,
             "ticks": ""
            },
            "colorscale": [
             [
              0,
              "#0d0887"
             ],
             [
              0.1111111111111111,
              "#46039f"
             ],
             [
              0.2222222222222222,
              "#7201a8"
             ],
             [
              0.3333333333333333,
              "#9c179e"
             ],
             [
              0.4444444444444444,
              "#bd3786"
             ],
             [
              0.5555555555555556,
              "#d8576b"
             ],
             [
              0.6666666666666666,
              "#ed7953"
             ],
             [
              0.7777777777777778,
              "#fb9f3a"
             ],
             [
              0.8888888888888888,
              "#fdca26"
             ],
             [
              1,
              "#f0f921"
             ]
            ],
            "type": "surface"
           }
          ],
          "table": [
           {
            "cells": {
             "fill": {
              "color": "#EBF0F8"
             },
             "line": {
              "color": "white"
             }
            },
            "header": {
             "fill": {
              "color": "#C8D4E3"
             },
             "line": {
              "color": "white"
             }
            },
            "type": "table"
           }
          ]
         },
         "layout": {
          "annotationdefaults": {
           "arrowcolor": "#2a3f5f",
           "arrowhead": 0,
           "arrowwidth": 1
          },
          "autotypenumbers": "strict",
          "coloraxis": {
           "colorbar": {
            "outlinewidth": 0,
            "ticks": ""
           }
          },
          "colorscale": {
           "diverging": [
            [
             0,
             "#8e0152"
            ],
            [
             0.1,
             "#c51b7d"
            ],
            [
             0.2,
             "#de77ae"
            ],
            [
             0.3,
             "#f1b6da"
            ],
            [
             0.4,
             "#fde0ef"
            ],
            [
             0.5,
             "#f7f7f7"
            ],
            [
             0.6,
             "#e6f5d0"
            ],
            [
             0.7,
             "#b8e186"
            ],
            [
             0.8,
             "#7fbc41"
            ],
            [
             0.9,
             "#4d9221"
            ],
            [
             1,
             "#276419"
            ]
           ],
           "sequential": [
            [
             0,
             "#0d0887"
            ],
            [
             0.1111111111111111,
             "#46039f"
            ],
            [
             0.2222222222222222,
             "#7201a8"
            ],
            [
             0.3333333333333333,
             "#9c179e"
            ],
            [
             0.4444444444444444,
             "#bd3786"
            ],
            [
             0.5555555555555556,
             "#d8576b"
            ],
            [
             0.6666666666666666,
             "#ed7953"
            ],
            [
             0.7777777777777778,
             "#fb9f3a"
            ],
            [
             0.8888888888888888,
             "#fdca26"
            ],
            [
             1,
             "#f0f921"
            ]
           ],
           "sequentialminus": [
            [
             0,
             "#0d0887"
            ],
            [
             0.1111111111111111,
             "#46039f"
            ],
            [
             0.2222222222222222,
             "#7201a8"
            ],
            [
             0.3333333333333333,
             "#9c179e"
            ],
            [
             0.4444444444444444,
             "#bd3786"
            ],
            [
             0.5555555555555556,
             "#d8576b"
            ],
            [
             0.6666666666666666,
             "#ed7953"
            ],
            [
             0.7777777777777778,
             "#fb9f3a"
            ],
            [
             0.8888888888888888,
             "#fdca26"
            ],
            [
             1,
             "#f0f921"
            ]
           ]
          },
          "colorway": [
           "#636efa",
           "#EF553B",
           "#00cc96",
           "#ab63fa",
           "#FFA15A",
           "#19d3f3",
           "#FF6692",
           "#B6E880",
           "#FF97FF",
           "#FECB52"
          ],
          "font": {
           "color": "#2a3f5f"
          },
          "geo": {
           "bgcolor": "white",
           "lakecolor": "white",
           "landcolor": "#E5ECF6",
           "showlakes": true,
           "showland": true,
           "subunitcolor": "white"
          },
          "hoverlabel": {
           "align": "left"
          },
          "hovermode": "closest",
          "mapbox": {
           "style": "light"
          },
          "paper_bgcolor": "white",
          "plot_bgcolor": "#E5ECF6",
          "polar": {
           "angularaxis": {
            "gridcolor": "white",
            "linecolor": "white",
            "ticks": ""
           },
           "bgcolor": "#E5ECF6",
           "radialaxis": {
            "gridcolor": "white",
            "linecolor": "white",
            "ticks": ""
           }
          },
          "scene": {
           "xaxis": {
            "backgroundcolor": "#E5ECF6",
            "gridcolor": "white",
            "gridwidth": 2,
            "linecolor": "white",
            "showbackground": true,
            "ticks": "",
            "zerolinecolor": "white"
           },
           "yaxis": {
            "backgroundcolor": "#E5ECF6",
            "gridcolor": "white",
            "gridwidth": 2,
            "linecolor": "white",
            "showbackground": true,
            "ticks": "",
            "zerolinecolor": "white"
           },
           "zaxis": {
            "backgroundcolor": "#E5ECF6",
            "gridcolor": "white",
            "gridwidth": 2,
            "linecolor": "white",
            "showbackground": true,
            "ticks": "",
            "zerolinecolor": "white"
           }
          },
          "shapedefaults": {
           "line": {
            "color": "#2a3f5f"
           }
          },
          "ternary": {
           "aaxis": {
            "gridcolor": "white",
            "linecolor": "white",
            "ticks": ""
           },
           "baxis": {
            "gridcolor": "white",
            "linecolor": "white",
            "ticks": ""
           },
           "bgcolor": "#E5ECF6",
           "caxis": {
            "gridcolor": "white",
            "linecolor": "white",
            "ticks": ""
           }
          },
          "title": {
           "x": 0.05
          },
          "xaxis": {
           "automargin": true,
           "gridcolor": "white",
           "linecolor": "white",
           "ticks": "",
           "title": {
            "standoff": 15
           },
           "zerolinecolor": "white",
           "zerolinewidth": 2
          },
          "yaxis": {
           "automargin": true,
           "gridcolor": "white",
           "linecolor": "white",
           "ticks": "",
           "title": {
            "standoff": 15
           },
           "zerolinecolor": "white",
           "zerolinewidth": 2
          }
         }
        },
        "title": {
         "text": "Scatter Plot 3D de Embeddings"
        }
       }
      }
     },
     "metadata": {},
     "output_type": "display_data"
    }
   ],
   "source": [
    "import plotly.graph_objects as go\n",
    "\n",
    "# Creamos el scatter plot 3D\n",
    "fig = go.Figure(data=[go.Scatter3d(\n",
    "    x=embeddings_pca[:, 0],\n",
    "    y=embeddings_pca[:, 1],\n",
    "    z=embeddings_pca[:, 2],\n",
    "    mode='markers+text',\n",
    "    text=comparacion[\"# \"],  # Añade los textos a los puntos\n",
    "    marker=dict(\n",
    "        size=5,\n",
    "        color='blue',\n",
    "        opacity=0.8\n",
    "    )\n",
    ")])\n",
    "\n",
    "# Ajustamos el diseño\n",
    "fig.update_layout(\n",
    "    scene = dict(\n",
    "        xaxis_title='Componente 1',\n",
    "        yaxis_title='Componente 2',\n",
    "        zaxis_title='Componente 3'\n",
    "    ),\n",
    "    title='Scatter Plot 3D de Embeddings'\n",
    ")\n",
    "\n",
    "# Mostramos el gráfico interactivo\n",
    "fig.show()\n"
   ]
  },
  {
   "cell_type": "markdown",
   "metadata": {},
   "source": [
    "Varianza acomulada de 71"
   ]
  },
  {
   "cell_type": "markdown",
   "metadata": {},
   "source": [
    "# Cálculo de correlación entre embeddings"
   ]
  },
  {
   "cell_type": "code",
   "execution_count": null,
   "metadata": {},
   "outputs": [],
   "source": [
    "# calcular la correlación de los embeddings y graficar la matriz de correlación\n",
    "correlacion = np.corrcoef(embeddings)\n",
    "correlacion = pd.DataFrame(correlacion, columns=comparacion[\"# \"], index=comparacion[\"# \"])"
   ]
  },
  {
   "cell_type": "code",
   "execution_count": null,
   "metadata": {},
   "outputs": [
    {
     "data": {
      "text/html": [
       "<div>\n",
       "<style scoped>\n",
       "    .dataframe tbody tr th:only-of-type {\n",
       "        vertical-align: middle;\n",
       "    }\n",
       "\n",
       "    .dataframe tbody tr th {\n",
       "        vertical-align: top;\n",
       "    }\n",
       "\n",
       "    .dataframe thead th {\n",
       "        text-align: right;\n",
       "    }\n",
       "</style>\n",
       "<table border=\"1\" class=\"dataframe\">\n",
       "  <thead>\n",
       "    <tr style=\"text-align: right;\">\n",
       "      <th>#</th>\n",
       "      <th>prompt 1</th>\n",
       "      <th>prompt 2</th>\n",
       "      <th>prompt 3</th>\n",
       "      <th>prompt 4</th>\n",
       "      <th>prompt 5</th>\n",
       "      <th>prompt 6</th>\n",
       "      <th>prompt 7</th>\n",
       "      <th>prompt 8</th>\n",
       "      <th>prompt 9</th>\n",
       "      <th>prompt 10</th>\n",
       "    </tr>\n",
       "    <tr>\n",
       "      <th>#</th>\n",
       "      <th></th>\n",
       "      <th></th>\n",
       "      <th></th>\n",
       "      <th></th>\n",
       "      <th></th>\n",
       "      <th></th>\n",
       "      <th></th>\n",
       "      <th></th>\n",
       "      <th></th>\n",
       "      <th></th>\n",
       "    </tr>\n",
       "  </thead>\n",
       "  <tbody>\n",
       "    <tr>\n",
       "      <th>prompt 1</th>\n",
       "      <td>1.000000</td>\n",
       "      <td>0.706925</td>\n",
       "      <td>0.919130</td>\n",
       "      <td>0.652932</td>\n",
       "      <td>0.935783</td>\n",
       "      <td>0.673580</td>\n",
       "      <td>0.954926</td>\n",
       "      <td>0.677745</td>\n",
       "      <td>0.865569</td>\n",
       "      <td>0.659882</td>\n",
       "    </tr>\n",
       "    <tr>\n",
       "      <th>prompt 2</th>\n",
       "      <td>0.706925</td>\n",
       "      <td>1.000000</td>\n",
       "      <td>0.753571</td>\n",
       "      <td>0.935021</td>\n",
       "      <td>0.717294</td>\n",
       "      <td>0.960136</td>\n",
       "      <td>0.697870</td>\n",
       "      <td>0.959128</td>\n",
       "      <td>0.720985</td>\n",
       "      <td>0.915996</td>\n",
       "    </tr>\n",
       "    <tr>\n",
       "      <th>prompt 3</th>\n",
       "      <td>0.919130</td>\n",
       "      <td>0.753571</td>\n",
       "      <td>1.000000</td>\n",
       "      <td>0.710813</td>\n",
       "      <td>0.876740</td>\n",
       "      <td>0.740679</td>\n",
       "      <td>0.905974</td>\n",
       "      <td>0.734055</td>\n",
       "      <td>0.848644</td>\n",
       "      <td>0.709220</td>\n",
       "    </tr>\n",
       "    <tr>\n",
       "      <th>prompt 4</th>\n",
       "      <td>0.652932</td>\n",
       "      <td>0.935021</td>\n",
       "      <td>0.710813</td>\n",
       "      <td>1.000000</td>\n",
       "      <td>0.663266</td>\n",
       "      <td>0.908236</td>\n",
       "      <td>0.653347</td>\n",
       "      <td>0.913097</td>\n",
       "      <td>0.668365</td>\n",
       "      <td>0.844676</td>\n",
       "    </tr>\n",
       "    <tr>\n",
       "      <th>prompt 5</th>\n",
       "      <td>0.935783</td>\n",
       "      <td>0.717294</td>\n",
       "      <td>0.876740</td>\n",
       "      <td>0.663266</td>\n",
       "      <td>1.000000</td>\n",
       "      <td>0.710589</td>\n",
       "      <td>0.899590</td>\n",
       "      <td>0.693950</td>\n",
       "      <td>0.816722</td>\n",
       "      <td>0.666408</td>\n",
       "    </tr>\n",
       "    <tr>\n",
       "      <th>prompt 6</th>\n",
       "      <td>0.673580</td>\n",
       "      <td>0.960136</td>\n",
       "      <td>0.740679</td>\n",
       "      <td>0.908236</td>\n",
       "      <td>0.710589</td>\n",
       "      <td>1.000000</td>\n",
       "      <td>0.664355</td>\n",
       "      <td>0.928521</td>\n",
       "      <td>0.691874</td>\n",
       "      <td>0.905383</td>\n",
       "    </tr>\n",
       "    <tr>\n",
       "      <th>prompt 7</th>\n",
       "      <td>0.954926</td>\n",
       "      <td>0.697870</td>\n",
       "      <td>0.905974</td>\n",
       "      <td>0.653347</td>\n",
       "      <td>0.899590</td>\n",
       "      <td>0.664355</td>\n",
       "      <td>1.000000</td>\n",
       "      <td>0.693408</td>\n",
       "      <td>0.863206</td>\n",
       "      <td>0.642185</td>\n",
       "    </tr>\n",
       "    <tr>\n",
       "      <th>prompt 8</th>\n",
       "      <td>0.677745</td>\n",
       "      <td>0.959128</td>\n",
       "      <td>0.734055</td>\n",
       "      <td>0.913097</td>\n",
       "      <td>0.693950</td>\n",
       "      <td>0.928521</td>\n",
       "      <td>0.693408</td>\n",
       "      <td>1.000000</td>\n",
       "      <td>0.684880</td>\n",
       "      <td>0.881259</td>\n",
       "    </tr>\n",
       "    <tr>\n",
       "      <th>prompt 9</th>\n",
       "      <td>0.865569</td>\n",
       "      <td>0.720985</td>\n",
       "      <td>0.848644</td>\n",
       "      <td>0.668365</td>\n",
       "      <td>0.816722</td>\n",
       "      <td>0.691874</td>\n",
       "      <td>0.863206</td>\n",
       "      <td>0.684880</td>\n",
       "      <td>1.000000</td>\n",
       "      <td>0.720313</td>\n",
       "    </tr>\n",
       "    <tr>\n",
       "      <th>prompt 10</th>\n",
       "      <td>0.659882</td>\n",
       "      <td>0.915996</td>\n",
       "      <td>0.709220</td>\n",
       "      <td>0.844676</td>\n",
       "      <td>0.666408</td>\n",
       "      <td>0.905383</td>\n",
       "      <td>0.642185</td>\n",
       "      <td>0.881259</td>\n",
       "      <td>0.720313</td>\n",
       "      <td>1.000000</td>\n",
       "    </tr>\n",
       "  </tbody>\n",
       "</table>\n",
       "</div>"
      ],
      "text/plain": [
       "#          prompt 1  prompt 2  prompt 3  prompt 4  prompt 5  prompt 6  \\\n",
       "#                                                                       \n",
       "prompt 1   1.000000  0.706925  0.919130  0.652932  0.935783  0.673580   \n",
       "prompt 2   0.706925  1.000000  0.753571  0.935021  0.717294  0.960136   \n",
       "prompt 3   0.919130  0.753571  1.000000  0.710813  0.876740  0.740679   \n",
       "prompt 4   0.652932  0.935021  0.710813  1.000000  0.663266  0.908236   \n",
       "prompt 5   0.935783  0.717294  0.876740  0.663266  1.000000  0.710589   \n",
       "prompt 6   0.673580  0.960136  0.740679  0.908236  0.710589  1.000000   \n",
       "prompt 7   0.954926  0.697870  0.905974  0.653347  0.899590  0.664355   \n",
       "prompt 8   0.677745  0.959128  0.734055  0.913097  0.693950  0.928521   \n",
       "prompt 9   0.865569  0.720985  0.848644  0.668365  0.816722  0.691874   \n",
       "prompt 10  0.659882  0.915996  0.709220  0.844676  0.666408  0.905383   \n",
       "\n",
       "#          prompt 7  prompt 8  prompt 9  prompt 10  \n",
       "#                                                   \n",
       "prompt 1   0.954926  0.677745  0.865569   0.659882  \n",
       "prompt 2   0.697870  0.959128  0.720985   0.915996  \n",
       "prompt 3   0.905974  0.734055  0.848644   0.709220  \n",
       "prompt 4   0.653347  0.913097  0.668365   0.844676  \n",
       "prompt 5   0.899590  0.693950  0.816722   0.666408  \n",
       "prompt 6   0.664355  0.928521  0.691874   0.905383  \n",
       "prompt 7   1.000000  0.693408  0.863206   0.642185  \n",
       "prompt 8   0.693408  1.000000  0.684880   0.881259  \n",
       "prompt 9   0.863206  0.684880  1.000000   0.720313  \n",
       "prompt 10  0.642185  0.881259  0.720313   1.000000  "
      ]
     },
     "execution_count": 117,
     "metadata": {},
     "output_type": "execute_result"
    }
   ],
   "source": [
    "correlacion"
   ]
  },
  {
   "cell_type": "code",
   "execution_count": null,
   "metadata": {},
   "outputs": [],
   "source": [
    "correlacion.to_csv('./results/matrices/correlacion_matrix.csv', index=False)"
   ]
  },
  {
   "cell_type": "code",
   "execution_count": null,
   "metadata": {},
   "outputs": [
    {
     "data": {
      "text/html": [
       "<div>\n",
       "<style scoped>\n",
       "    .dataframe tbody tr th:only-of-type {\n",
       "        vertical-align: middle;\n",
       "    }\n",
       "\n",
       "    .dataframe tbody tr th {\n",
       "        vertical-align: top;\n",
       "    }\n",
       "\n",
       "    .dataframe thead th {\n",
       "        text-align: right;\n",
       "    }\n",
       "</style>\n",
       "<table border=\"1\" class=\"dataframe\">\n",
       "  <thead>\n",
       "    <tr style=\"text-align: right;\">\n",
       "      <th>#</th>\n",
       "      <th>prompt 1</th>\n",
       "      <th>prompt 2</th>\n",
       "      <th>prompt 3</th>\n",
       "      <th>prompt 4</th>\n",
       "      <th>prompt 5</th>\n",
       "      <th>prompt 6</th>\n",
       "      <th>prompt 7</th>\n",
       "      <th>prompt 8</th>\n",
       "      <th>prompt 9</th>\n",
       "      <th>prompt 10</th>\n",
       "    </tr>\n",
       "    <tr>\n",
       "      <th>#</th>\n",
       "      <th></th>\n",
       "      <th></th>\n",
       "      <th></th>\n",
       "      <th></th>\n",
       "      <th></th>\n",
       "      <th></th>\n",
       "      <th></th>\n",
       "      <th></th>\n",
       "      <th></th>\n",
       "      <th></th>\n",
       "    </tr>\n",
       "  </thead>\n",
       "  <tbody>\n",
       "    <tr>\n",
       "      <th>prompt 1</th>\n",
       "      <td>0.000000</td>\n",
       "      <td>0.765280</td>\n",
       "      <td>0.402041</td>\n",
       "      <td>0.832784</td>\n",
       "      <td>0.358375</td>\n",
       "      <td>0.807643</td>\n",
       "      <td>0.300824</td>\n",
       "      <td>0.802524</td>\n",
       "      <td>0.518323</td>\n",
       "      <td>0.824418</td>\n",
       "    </tr>\n",
       "    <tr>\n",
       "      <th>prompt 2</th>\n",
       "      <td>0.765280</td>\n",
       "      <td>0.000000</td>\n",
       "      <td>0.701796</td>\n",
       "      <td>0.360261</td>\n",
       "      <td>0.751425</td>\n",
       "      <td>0.282271</td>\n",
       "      <td>0.777617</td>\n",
       "      <td>0.285893</td>\n",
       "      <td>0.746625</td>\n",
       "      <td>0.409652</td>\n",
       "    </tr>\n",
       "    <tr>\n",
       "      <th>prompt 3</th>\n",
       "      <td>0.402041</td>\n",
       "      <td>0.701796</td>\n",
       "      <td>0.000000</td>\n",
       "      <td>0.760234</td>\n",
       "      <td>0.496439</td>\n",
       "      <td>0.719979</td>\n",
       "      <td>0.433936</td>\n",
       "      <td>0.729067</td>\n",
       "      <td>0.550011</td>\n",
       "      <td>0.762323</td>\n",
       "    </tr>\n",
       "    <tr>\n",
       "      <th>prompt 4</th>\n",
       "      <td>0.832784</td>\n",
       "      <td>0.360261</td>\n",
       "      <td>0.760234</td>\n",
       "      <td>0.000000</td>\n",
       "      <td>0.820078</td>\n",
       "      <td>0.428123</td>\n",
       "      <td>0.832885</td>\n",
       "      <td>0.416788</td>\n",
       "      <td>0.813981</td>\n",
       "      <td>0.557028</td>\n",
       "    </tr>\n",
       "    <tr>\n",
       "      <th>prompt 5</th>\n",
       "      <td>0.358375</td>\n",
       "      <td>0.751425</td>\n",
       "      <td>0.496439</td>\n",
       "      <td>0.820078</td>\n",
       "      <td>0.000000</td>\n",
       "      <td>0.760170</td>\n",
       "      <td>0.449052</td>\n",
       "      <td>0.782014</td>\n",
       "      <td>0.605131</td>\n",
       "      <td>0.816303</td>\n",
       "    </tr>\n",
       "    <tr>\n",
       "      <th>prompt 6</th>\n",
       "      <td>0.807643</td>\n",
       "      <td>0.282271</td>\n",
       "      <td>0.719979</td>\n",
       "      <td>0.428123</td>\n",
       "      <td>0.760170</td>\n",
       "      <td>0.000000</td>\n",
       "      <td>0.819771</td>\n",
       "      <td>0.378243</td>\n",
       "      <td>0.784579</td>\n",
       "      <td>0.434824</td>\n",
       "    </tr>\n",
       "    <tr>\n",
       "      <th>prompt 7</th>\n",
       "      <td>0.300824</td>\n",
       "      <td>0.777617</td>\n",
       "      <td>0.433936</td>\n",
       "      <td>0.832885</td>\n",
       "      <td>0.449052</td>\n",
       "      <td>0.819771</td>\n",
       "      <td>0.000000</td>\n",
       "      <td>0.783167</td>\n",
       "      <td>0.523445</td>\n",
       "      <td>0.846112</td>\n",
       "    </tr>\n",
       "    <tr>\n",
       "      <th>prompt 8</th>\n",
       "      <td>0.802524</td>\n",
       "      <td>0.285893</td>\n",
       "      <td>0.729067</td>\n",
       "      <td>0.416788</td>\n",
       "      <td>0.782014</td>\n",
       "      <td>0.378243</td>\n",
       "      <td>0.783167</td>\n",
       "      <td>0.000000</td>\n",
       "      <td>0.793554</td>\n",
       "      <td>0.487133</td>\n",
       "    </tr>\n",
       "    <tr>\n",
       "      <th>prompt 9</th>\n",
       "      <td>0.518323</td>\n",
       "      <td>0.746625</td>\n",
       "      <td>0.550011</td>\n",
       "      <td>0.813981</td>\n",
       "      <td>0.605131</td>\n",
       "      <td>0.784579</td>\n",
       "      <td>0.523445</td>\n",
       "      <td>0.793554</td>\n",
       "      <td>0.000000</td>\n",
       "      <td>0.747541</td>\n",
       "    </tr>\n",
       "    <tr>\n",
       "      <th>prompt 10</th>\n",
       "      <td>0.824418</td>\n",
       "      <td>0.409652</td>\n",
       "      <td>0.762323</td>\n",
       "      <td>0.557028</td>\n",
       "      <td>0.816303</td>\n",
       "      <td>0.434824</td>\n",
       "      <td>0.846112</td>\n",
       "      <td>0.487133</td>\n",
       "      <td>0.747541</td>\n",
       "      <td>0.000000</td>\n",
       "    </tr>\n",
       "  </tbody>\n",
       "</table>\n",
       "</div>"
      ],
      "text/plain": [
       "#          prompt 1  prompt 2  prompt 3  prompt 4  prompt 5  prompt 6  \\\n",
       "#                                                                       \n",
       "prompt 1   0.000000  0.765280  0.402041  0.832784  0.358375  0.807643   \n",
       "prompt 2   0.765280  0.000000  0.701796  0.360261  0.751425  0.282271   \n",
       "prompt 3   0.402041  0.701796  0.000000  0.760234  0.496439  0.719979   \n",
       "prompt 4   0.832784  0.360261  0.760234  0.000000  0.820078  0.428123   \n",
       "prompt 5   0.358375  0.751425  0.496439  0.820078  0.000000  0.760170   \n",
       "prompt 6   0.807643  0.282271  0.719979  0.428123  0.760170  0.000000   \n",
       "prompt 7   0.300824  0.777617  0.433936  0.832885  0.449052  0.819771   \n",
       "prompt 8   0.802524  0.285893  0.729067  0.416788  0.782014  0.378243   \n",
       "prompt 9   0.518323  0.746625  0.550011  0.813981  0.605131  0.784579   \n",
       "prompt 10  0.824418  0.409652  0.762323  0.557028  0.816303  0.434824   \n",
       "\n",
       "#          prompt 7  prompt 8  prompt 9  prompt 10  \n",
       "#                                                   \n",
       "prompt 1   0.300824  0.802524  0.518323   0.824418  \n",
       "prompt 2   0.777617  0.285893  0.746625   0.409652  \n",
       "prompt 3   0.433936  0.729067  0.550011   0.762323  \n",
       "prompt 4   0.832885  0.416788  0.813981   0.557028  \n",
       "prompt 5   0.449052  0.782014  0.605131   0.816303  \n",
       "prompt 6   0.819771  0.378243  0.784579   0.434824  \n",
       "prompt 7   0.000000  0.783167  0.523445   0.846112  \n",
       "prompt 8   0.783167  0.000000  0.793554   0.487133  \n",
       "prompt 9   0.523445  0.793554  0.000000   0.747541  \n",
       "prompt 10  0.846112  0.487133  0.747541   0.000000  "
      ]
     },
     "execution_count": 119,
     "metadata": {},
     "output_type": "execute_result"
    }
   ],
   "source": [
    "# hacer la matriz de distancia euclidiana entre los embeddings\n",
    "from scipy.spatial.distance import pdist, squareform\n",
    "\n",
    "distancias = pdist(embeddings)\n",
    "\n",
    "distancias = squareform(distancias)\n",
    "\n",
    "distancias = pd.DataFrame(distancias, columns=comparacion[\"# \"], index=comparacion[\"# \"])\n",
    "\n",
    "distancias"
   ]
  }
 ],
 "metadata": {
  "kernelspec": {
   "display_name": "base",
   "language": "python",
   "name": "python3"
  },
  "language_info": {
   "codemirror_mode": {
    "name": "ipython",
    "version": 3
   },
   "file_extension": ".py",
   "mimetype": "text/x-python",
   "name": "python",
   "nbconvert_exporter": "python",
   "pygments_lexer": "ipython3",
   "version": "3.11.7"
  }
 },
 "nbformat": 4,
 "nbformat_minor": 2
}
