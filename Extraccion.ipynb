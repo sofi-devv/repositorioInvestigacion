{
 "cells": [
  {
   "cell_type": "code",
   "execution_count": null,
   "metadata": {},
   "outputs": [],
   "source": [
    "import pandas as pd\n",
    "from datetime import datetime\n",
    "from googleapiclient.discovery import build"
   ]
  },
  {
   "cell_type": "markdown",
   "metadata": {},
   "source": [
    "# Proceso y Metodología de Extracción de Comentarios\n",
    "\n",
    "Se busca extraer los links de los videos de los canales seleccionados en el dataset de **noticias** hasta que estos sumen, como mínimo, 250,000 comentarios en su conjunto, para aquellos que tienen una categoría distinta a \"Internacional\".\n",
    "\n",
    "## Criterio de Selección\n",
    "\n",
    "- **Palabras Claves**: Las palabras claves estarán contenidas en el dataset 'claves' (nombre del presidente, país del presidente) junto con la palabra \"presidente\".\n",
    "- **Número mínimo de comentarios:** El minimo de número de comentarios del video son 100 para que este sea considerado en la lista.\n",
    "- **Dataset 'claves'**: Este dataset tiene 2 columnas: una llamada \"País\" y otra \"Nombre del Presidente\". Para esta búsqueda solo se usará la columna \"Nombre del Presidente\".\n",
    "- **Periodo de Tiempo**: Los videos deben ser del último año.\n",
    "- **Filtrado Inicial**: Inicialmente, solo se buscará filtrar los videos que contengan los criterios de las palabras y conocer cuántos comentarios tienen."
   ]
  },
  {
   "cell_type": "code",
   "execution_count": 65,
   "metadata": {},
   "outputs": [],
   "source": [
    "noticias=  pd.read_excel('canales_noticias_con_id.xlsx')"
   ]
  },
  {
   "cell_type": "code",
   "execution_count": 66,
   "metadata": {},
   "outputs": [
    {
     "data": {
      "text/html": [
       "<div>\n",
       "<style scoped>\n",
       "    .dataframe tbody tr th:only-of-type {\n",
       "        vertical-align: middle;\n",
       "    }\n",
       "\n",
       "    .dataframe tbody tr th {\n",
       "        vertical-align: top;\n",
       "    }\n",
       "\n",
       "    .dataframe thead th {\n",
       "        text-align: right;\n",
       "    }\n",
       "</style>\n",
       "<table border=\"1\" class=\"dataframe\">\n",
       "  <thead>\n",
       "    <tr style=\"text-align: right;\">\n",
       "      <th></th>\n",
       "      <th>Nombre del noticiero</th>\n",
       "      <th>Categoría</th>\n",
       "      <th>Link</th>\n",
       "      <th>ChannelID</th>\n",
       "    </tr>\n",
       "  </thead>\n",
       "  <tbody>\n",
       "    <tr>\n",
       "      <th>0</th>\n",
       "      <td>France 24 Español</td>\n",
       "      <td>Internacional</td>\n",
       "      <td>https://www.youtube.com/@France24_es</td>\n",
       "      <td>UCUdOoVWuWmgo1wByzcsyKDQ</td>\n",
       "    </tr>\n",
       "    <tr>\n",
       "      <th>1</th>\n",
       "      <td>Euronews en Español</td>\n",
       "      <td>Internacional</td>\n",
       "      <td>https://www.youtube.com/@euronewses</td>\n",
       "      <td>UCyoGb3SMlTlB8CLGVH4c8Rw</td>\n",
       "    </tr>\n",
       "    <tr>\n",
       "      <th>2</th>\n",
       "      <td>CNN en Español</td>\n",
       "      <td>Internacional</td>\n",
       "      <td>https://www.youtube.com/@cnnee</td>\n",
       "      <td>UCJag7ggH_TnSye399htVAEw</td>\n",
       "    </tr>\n",
       "    <tr>\n",
       "      <th>3</th>\n",
       "      <td>DW Español</td>\n",
       "      <td>Internacional</td>\n",
       "      <td>https://www.youtube.com/@dwespanol</td>\n",
       "      <td>UChmI8e6G2mV-0zf9SuQdbVA</td>\n",
       "    </tr>\n",
       "    <tr>\n",
       "      <th>4</th>\n",
       "      <td>Telemundo</td>\n",
       "      <td>Internacional</td>\n",
       "      <td>https://www.youtube.com/@noticias</td>\n",
       "      <td>UC2Xq2PK-got3Rtz9ZJ32hLQ</td>\n",
       "    </tr>\n",
       "  </tbody>\n",
       "</table>\n",
       "</div>"
      ],
      "text/plain": [
       "  Nombre del noticiero      Categoría                                  Link  \\\n",
       "0    France 24 Español  Internacional  https://www.youtube.com/@France24_es   \n",
       "1  Euronews en Español  Internacional   https://www.youtube.com/@euronewses   \n",
       "2       CNN en Español  Internacional        https://www.youtube.com/@cnnee   \n",
       "3           DW Español  Internacional    https://www.youtube.com/@dwespanol   \n",
       "4            Telemundo  Internacional     https://www.youtube.com/@noticias   \n",
       "\n",
       "                  ChannelID  \n",
       "0  UCUdOoVWuWmgo1wByzcsyKDQ  \n",
       "1  UCyoGb3SMlTlB8CLGVH4c8Rw  \n",
       "2  UCJag7ggH_TnSye399htVAEw  \n",
       "3  UChmI8e6G2mV-0zf9SuQdbVA  \n",
       "4  UC2Xq2PK-got3Rtz9ZJ32hLQ  "
      ]
     },
     "execution_count": 66,
     "metadata": {},
     "output_type": "execute_result"
    }
   ],
   "source": [
    "noticias.head()"
   ]
  },
  {
   "cell_type": "code",
   "execution_count": 14,
   "metadata": {},
   "outputs": [],
   "source": [
    "claves = pd.read_excel(\"data/tables/presidentes2024.xlsx\")"
   ]
  },
  {
   "cell_type": "code",
   "execution_count": 15,
   "metadata": {},
   "outputs": [
    {
     "data": {
      "text/html": [
       "<div>\n",
       "<style scoped>\n",
       "    .dataframe tbody tr th:only-of-type {\n",
       "        vertical-align: middle;\n",
       "    }\n",
       "\n",
       "    .dataframe tbody tr th {\n",
       "        vertical-align: top;\n",
       "    }\n",
       "\n",
       "    .dataframe thead th {\n",
       "        text-align: right;\n",
       "    }\n",
       "</style>\n",
       "<table border=\"1\" class=\"dataframe\">\n",
       "  <thead>\n",
       "    <tr style=\"text-align: right;\">\n",
       "      <th></th>\n",
       "      <th>País</th>\n",
       "      <th>Nombre del Presidente</th>\n",
       "    </tr>\n",
       "  </thead>\n",
       "  <tbody>\n",
       "    <tr>\n",
       "      <th>0</th>\n",
       "      <td>Argentina</td>\n",
       "      <td>Javier Milei</td>\n",
       "    </tr>\n",
       "    <tr>\n",
       "      <th>1</th>\n",
       "      <td>El Salvador</td>\n",
       "      <td>Nayib Bukele</td>\n",
       "    </tr>\n",
       "    <tr>\n",
       "      <th>2</th>\n",
       "      <td>Colombia</td>\n",
       "      <td>Gustavo Petro</td>\n",
       "    </tr>\n",
       "    <tr>\n",
       "      <th>3</th>\n",
       "      <td>México</td>\n",
       "      <td>Andrés Manuel López Obrador</td>\n",
       "    </tr>\n",
       "  </tbody>\n",
       "</table>\n",
       "</div>"
      ],
      "text/plain": [
       "          País        Nombre del Presidente\n",
       "0    Argentina                 Javier Milei\n",
       "1  El Salvador                 Nayib Bukele\n",
       "2     Colombia                Gustavo Petro\n",
       "3       México  Andrés Manuel López Obrador"
      ]
     },
     "execution_count": 15,
     "metadata": {},
     "output_type": "execute_result"
    }
   ],
   "source": [
    "claves.head()"
   ]
  },
  {
   "cell_type": "code",
   "execution_count": 48,
   "metadata": {},
   "outputs": [],
   "source": [
    "api_key = \"your_api_key\""
   ]
  },
  {
   "cell_type": "code",
   "execution_count": 49,
   "metadata": {},
   "outputs": [],
   "source": [
    "youtube = build('youtube', 'v3', developerKey=api_key)"
   ]
  },
  {
   "cell_type": "markdown",
   "metadata": {},
   "source": [
    "### Descripción de la Función `get_video_details`\n",
    "\n",
    "#### Propósito\n",
    "Obtiene detalles de un video en YouTube utilizando la API de YouTube Data.\n",
    "\n",
    "#### Parámetro\n",
    "- `video_id`: El identificador único del video en YouTube.\n",
    "\n",
    "#### Funcionamiento\n",
    "1. Llama a la API de YouTube para obtener datos del video (`snippet`, `contentDetails`, `statistics`).\n",
    "2. Verifica si la respuesta contiene elementos y selecciona el primer video.\n",
    "3. Extrae y almacena los siguientes detalles:\n",
    "   - Título del video\n",
    "   - Descripción\n",
    "   - Fecha de publicación\n",
    "   - Duración\n",
    "   - Número de comentarios\n",
    "4. Crea un diccionario con estos detalles y lo devuelve. Si no hay datos, devuelve `None`."
   ]
  },
  {
   "cell_type": "code",
   "execution_count": 70,
   "metadata": {},
   "outputs": [],
   "source": [
    "def get_video_details(video_id):\n",
    "    video_response = youtube.videos().list(\n",
    "        part=\"snippet,contentDetails,statistics\", # se recolecta la información de los metadatos del video y las estadísticas\n",
    "        id=video_id\n",
    "    ).execute()\n",
    "    \n",
    "    if \"items\" in video_response and len(video_response[\"items\"]) > 0: # si se encontró el video en youtube se extrae la información\n",
    "        video = video_response[\"items\"][0] # se extrae la información del video en cuestión \n",
    "        title = video[\"snippet\"][\"title\"] # se extrae el título del video\n",
    "        description = video[\"snippet\"][\"description\"] # se extrae la descripción del video\n",
    "        published_at = video[\"snippet\"][\"publishedAt\"] # se extrae la fecha de publicación del video\n",
    "        duration = video[\"contentDetails\"][\"duration\"] # se extrae la duración del video\n",
    "        comment_count = int(video[\"statistics\"].get(\"commentCount\", 0)) # se extrae el número de comentarios del video \n",
    "        video_data = { # se crea un diccionario con la información del video\n",
    "            \"Nombre del Video\": title,\n",
    "            \"Link del Video\": f\"https://www.youtube.com/watch?v={video_id}\",\n",
    "            \"Numero de Comentarios\": comment_count,\n",
    "            \"Duración del Video\": duration,\n",
    "            \"Fecha del Video\": published_at\n",
    "        }\n",
    "        return video_data\n",
    "    return None"
   ]
  },
  {
   "cell_type": "code",
   "execution_count": 71,
   "metadata": {},
   "outputs": [],
   "source": [
    "# Concatenar las columnas 'País' y 'Nombre del Presidente' de 'claves' y añadir la palabra \"presidente\"\n",
    "claves['Query'] = claves['País'] + \" \" + claves['Nombre del Presidente'] + \" presidente\""
   ]
  },
  {
   "cell_type": "markdown",
   "metadata": {},
   "source": [
    "## Extracción de datos de enero"
   ]
  },
  {
   "cell_type": "code",
   "execution_count": 45,
   "metadata": {},
   "outputs": [],
   "source": [
    "# Obtener la fecha actual y establecer las fechas de inicio y fin para el mes de enero del año actual\n",
    "current_date = datetime.now()\n",
    "january_first = datetime(current_date.year, 1, 1).isoformat(\"T\") + \"Z\"\n",
    "january_end = datetime(current_date.year, 1, 31, 23, 59, 59).isoformat(\"T\") + \"Z\""
   ]
  },
  {
   "cell_type": "markdown",
   "metadata": {},
   "source": [
    "### Función para buscar videos en un canal con palabras clave específicas y dentro del rango de fechas especificado\n",
    "\n",
    "#### Propósito\n",
    "Busca videos en un canal de YouTube que coincidan con palabras clave específicas y un rango de fechas determinado.\n",
    "\n",
    "#### Parámetros\n",
    "- `channel_id`: El identificador único del canal de YouTube.\n",
    "- `query`: Las palabras clave para buscar videos.\n",
    "- `published_after`: La fecha de inicio del rango (en formato ISO 8601).\n",
    "- `published_before`: La fecha de fin del rango (en formato ISO 8601).\n",
    "- `max_results` (opcional): El número máximo de resultados a devolver (por defecto, 5).\n",
    "\n",
    "#### Funcionamiento\n",
    "1. **Llamada a la API de Búsqueda de YouTube**:\n",
    "   - Realiza una búsqueda en el canal especificado utilizando las palabras clave y el rango de fechas.\n",
    "   - Ordena los resultados por cantidad de visualizaciones y limita el número de resultados según `max_results`.\n",
    "\n",
    "2. **Recopilación de Resultados**:\n",
    "   - Itera sobre los resultados de búsqueda.\n",
    "   - Para cada video encontrado, obtiene detalles específicos utilizando la función `get_video_details`.\n",
    "\n",
    "3. **Filtrado y Almacenamiento de Videos**:\n",
    "   - Filtra los videos que tienen más de 100 comentarios.\n",
    "   - Almacena los datos de los videos que cumplen con este criterio en una lista.\n",
    "\n",
    "4. **Devolución de Resultados**:\n",
    "   - Devuelve la lista de videos que cumplen con los criterios de búsqueda y tienen más de 100 comentarios."
   ]
  },
  {
   "cell_type": "code",
   "execution_count": 46,
   "metadata": {},
   "outputs": [],
   "source": [
    "# Función para buscar videos en un canal con palabras clave específicas y dentro del rango de fechas especificado\n",
    "def search_videos(channel_id, query, published_after, published_before, max_results=5):\n",
    "    search_response = youtube.search().list(\n",
    "        channelId=channel_id, # se busca en el canal con el ID proporcionado\n",
    "        q=query, # se busca la palabra clave en los títulos y descripciones\n",
    "        type=\"video\", # se buscan solo videos\n",
    "        part=\"id,snippet\", # se recolectan los metadatos del video y la información de la búsqueda\n",
    "        maxResults=max_results, # se obtienen 5 resultados como máximo por búsqueda dado el límite de cuotas\n",
    "        order='viewCount', # se ordenan los resultados por vistas\n",
    "        publishedAfter=published_after, # se obtienen solo los videos publicados después de la fecha especificada\n",
    "        publishedBefore=published_before   # se obtienen solo los videos publicados antes de la fecha especificada\n",
    "    ).execute()\n",
    "    \n",
    "    videos = []\n",
    "    for search_result in search_response.get(\"items\", []): # se recorren los resultados de la búsqueda\n",
    "        video_id = search_result[\"id\"][\"videoId\"] # se extrae el ID del video\n",
    "        video_data = get_video_details(video_id) # se obtiene la información detallada del video\n",
    "        if video_data and video_data[\"Numero de Comentarios\"] > 100: # si se encontró información y el video tiene más de 100 comentarios\n",
    "            videos.append(video_data) # se añade la información del video a la lista de videos\n",
    "    return videos\n"
   ]
  },
  {
   "cell_type": "code",
   "execution_count": 130,
   "metadata": {},
   "outputs": [
    {
     "data": {
      "text/html": [
       "<div>\n",
       "<style scoped>\n",
       "    .dataframe tbody tr th:only-of-type {\n",
       "        vertical-align: middle;\n",
       "    }\n",
       "\n",
       "    .dataframe tbody tr th {\n",
       "        vertical-align: top;\n",
       "    }\n",
       "\n",
       "    .dataframe thead th {\n",
       "        text-align: right;\n",
       "    }\n",
       "</style>\n",
       "<table border=\"1\" class=\"dataframe\">\n",
       "  <thead>\n",
       "    <tr style=\"text-align: right;\">\n",
       "      <th></th>\n",
       "      <th>Nombre del noticiero</th>\n",
       "      <th>Categoría</th>\n",
       "      <th>Link</th>\n",
       "      <th>ChannelID</th>\n",
       "    </tr>\n",
       "  </thead>\n",
       "  <tbody>\n",
       "    <tr>\n",
       "      <th>0</th>\n",
       "      <td>France 24 Español</td>\n",
       "      <td>Internacional</td>\n",
       "      <td>https://www.youtube.com/@France24_es</td>\n",
       "      <td>UCUdOoVWuWmgo1wByzcsyKDQ</td>\n",
       "    </tr>\n",
       "    <tr>\n",
       "      <th>1</th>\n",
       "      <td>Euronews en Español</td>\n",
       "      <td>Internacional</td>\n",
       "      <td>https://www.youtube.com/@euronewses</td>\n",
       "      <td>UCyoGb3SMlTlB8CLGVH4c8Rw</td>\n",
       "    </tr>\n",
       "    <tr>\n",
       "      <th>2</th>\n",
       "      <td>CNN en Español</td>\n",
       "      <td>Internacional</td>\n",
       "      <td>https://www.youtube.com/@cnnee</td>\n",
       "      <td>UCJag7ggH_TnSye399htVAEw</td>\n",
       "    </tr>\n",
       "    <tr>\n",
       "      <th>3</th>\n",
       "      <td>DW Español</td>\n",
       "      <td>Internacional</td>\n",
       "      <td>https://www.youtube.com/@dwespanol</td>\n",
       "      <td>UChmI8e6G2mV-0zf9SuQdbVA</td>\n",
       "    </tr>\n",
       "    <tr>\n",
       "      <th>4</th>\n",
       "      <td>Telemundo</td>\n",
       "      <td>Internacional</td>\n",
       "      <td>https://www.youtube.com/@noticias</td>\n",
       "      <td>UC2Xq2PK-got3Rtz9ZJ32hLQ</td>\n",
       "    </tr>\n",
       "    <tr>\n",
       "      <th>5</th>\n",
       "      <td>TN - Todo Noticias</td>\n",
       "      <td>Argentina</td>\n",
       "      <td>https://www.youtube.com/@todonoticias</td>\n",
       "      <td>UCyS7HkaIUX2FBJkJUsnFZUA</td>\n",
       "    </tr>\n",
       "    <tr>\n",
       "      <th>6</th>\n",
       "      <td>C5N</td>\n",
       "      <td>Argentina</td>\n",
       "      <td>https://www.youtube.com/@c5n</td>\n",
       "      <td>UCFgk2Q2mVO1BklRQhSv6p0w</td>\n",
       "    </tr>\n",
       "    <tr>\n",
       "      <th>7</th>\n",
       "      <td>Canal 26</td>\n",
       "      <td>Argentina</td>\n",
       "      <td>https://www.youtube.com/@canal26</td>\n",
       "      <td>UCrpMfcQNog595v5gAS-oUsQ</td>\n",
       "    </tr>\n",
       "    <tr>\n",
       "      <th>8</th>\n",
       "      <td>La Nación</td>\n",
       "      <td>Argentina</td>\n",
       "      <td>https://www.youtube.com/@lanacion</td>\n",
       "      <td>UCba3hpU7EFBSk817y9qZkiA</td>\n",
       "    </tr>\n",
       "    <tr>\n",
       "      <th>9</th>\n",
       "      <td>A24</td>\n",
       "      <td>Argentina</td>\n",
       "      <td>https://www.youtube.com/@A24com</td>\n",
       "      <td>UCR9120YBAqMfntqgRTKmkjQ</td>\n",
       "    </tr>\n",
       "    <tr>\n",
       "      <th>10</th>\n",
       "      <td>Noticias Caracol</td>\n",
       "      <td>Colombia</td>\n",
       "      <td>https://www.youtube.com/@noticiascaracol</td>\n",
       "      <td>UC2Xq2PK-got3Rtz9ZJ32hLQ</td>\n",
       "    </tr>\n",
       "    <tr>\n",
       "      <th>11</th>\n",
       "      <td>Noticias RCN</td>\n",
       "      <td>Colombia</td>\n",
       "      <td>https://www.youtube.com/@NoticiasRCN</td>\n",
       "      <td>UCBlaAnzIF0yOwhTJxXOKluA</td>\n",
       "    </tr>\n",
       "    <tr>\n",
       "      <th>12</th>\n",
       "      <td>El Tiempo</td>\n",
       "      <td>Colombia</td>\n",
       "      <td>https://www.youtube.com/@ElTiempo</td>\n",
       "      <td>UCe5-b0fCK3eQCpwS6MT0aNw</td>\n",
       "    </tr>\n",
       "    <tr>\n",
       "      <th>13</th>\n",
       "      <td>El espectador</td>\n",
       "      <td>Colombia</td>\n",
       "      <td>https://www.youtube.com/@ElEspectador</td>\n",
       "      <td>UCFYdMS-M4mRdbxPuErz1CVw</td>\n",
       "    </tr>\n",
       "    <tr>\n",
       "      <th>14</th>\n",
       "      <td>Noticas Uno</td>\n",
       "      <td>Colombia</td>\n",
       "      <td>https://www.youtube.com/@NoticiasUnoColombia</td>\n",
       "      <td>UC3NUgxBBl05tthfGBS6kPkA</td>\n",
       "    </tr>\n",
       "    <tr>\n",
       "      <th>15</th>\n",
       "      <td>Nmás</td>\n",
       "      <td>México</td>\n",
       "      <td>https://www.youtube.com/@nmas</td>\n",
       "      <td>UCUsm-fannqOY02PNN67C0KA</td>\n",
       "    </tr>\n",
       "    <tr>\n",
       "      <th>16</th>\n",
       "      <td>TV Azteca Noticias</td>\n",
       "      <td>México</td>\n",
       "      <td>https://www.youtube.com/@aztecanoticias</td>\n",
       "      <td>UCUP6qv-_EIL0hwTsJaKYnvw</td>\n",
       "    </tr>\n",
       "    <tr>\n",
       "      <th>17</th>\n",
       "      <td>Milenio Televisión</td>\n",
       "      <td>México</td>\n",
       "      <td>https://www.youtube.com/@milenio</td>\n",
       "      <td>UCFxHplbcoJK9m70c4VyTIxg</td>\n",
       "    </tr>\n",
       "    <tr>\n",
       "      <th>18</th>\n",
       "      <td>Imagen Televisión</td>\n",
       "      <td>México</td>\n",
       "      <td>https://www.youtube.com/ImagenNoticias</td>\n",
       "      <td>UCcHtke0raf8vNYLM1Hbq3Jw</td>\n",
       "    </tr>\n",
       "    <tr>\n",
       "      <th>19</th>\n",
       "      <td>Excélsior TV</td>\n",
       "      <td>México</td>\n",
       "      <td>https://www.youtube.com/@ExcelsiorMex</td>\n",
       "      <td>UClqo4ZAAZ01HQdCTlovCgkA</td>\n",
       "    </tr>\n",
       "    <tr>\n",
       "      <th>20</th>\n",
       "      <td>La Prensa Gráfica Noticias de El Salvador</td>\n",
       "      <td>El Salvador</td>\n",
       "      <td>https://www.youtube.com/@laprensagraficavideo</td>\n",
       "      <td>UCNz2y0qMguce8wyxl0oFXUw</td>\n",
       "    </tr>\n",
       "    <tr>\n",
       "      <th>21</th>\n",
       "      <td>Canal 12 Noticias</td>\n",
       "      <td>El Salvador</td>\n",
       "      <td>https://www.youtube.com/@Canal12ElSalvador</td>\n",
       "      <td>UC4rvyYYuqGGti3-u6VjN4SA</td>\n",
       "    </tr>\n",
       "    <tr>\n",
       "      <th>22</th>\n",
       "      <td>elsalvadorcom</td>\n",
       "      <td>El Salvador</td>\n",
       "      <td>https://www.youtube.com/c/elsalvadorcomyoutube</td>\n",
       "      <td>UCr865ABWoDU_qMeQ5LUrbyw</td>\n",
       "    </tr>\n",
       "    <tr>\n",
       "      <th>23</th>\n",
       "      <td>Factum</td>\n",
       "      <td>El Salvador</td>\n",
       "      <td>https://www.youtube.com/@revistafactumsv</td>\n",
       "      <td>UC8tvT2mf0LuoY-y_a8UAIpQ</td>\n",
       "    </tr>\n",
       "  </tbody>\n",
       "</table>\n",
       "</div>"
      ],
      "text/plain": [
       "                         Nombre del noticiero      Categoría  \\\n",
       "0                           France 24 Español  Internacional   \n",
       "1                         Euronews en Español  Internacional   \n",
       "2                              CNN en Español  Internacional   \n",
       "3                                  DW Español  Internacional   \n",
       "4                                   Telemundo  Internacional   \n",
       "5                          TN - Todo Noticias      Argentina   \n",
       "6                                         C5N      Argentina   \n",
       "7                                    Canal 26      Argentina   \n",
       "8                                   La Nación      Argentina   \n",
       "9                                         A24      Argentina   \n",
       "10                           Noticias Caracol       Colombia   \n",
       "11                               Noticias RCN       Colombia   \n",
       "12                                  El Tiempo       Colombia   \n",
       "13                              El espectador       Colombia   \n",
       "14                                Noticas Uno       Colombia   \n",
       "15                                       Nmás         México   \n",
       "16                         TV Azteca Noticias         México   \n",
       "17                         Milenio Televisión         México   \n",
       "18                          Imagen Televisión         México   \n",
       "19                               Excélsior TV         México   \n",
       "20  La Prensa Gráfica Noticias de El Salvador    El Salvador   \n",
       "21                          Canal 12 Noticias    El Salvador   \n",
       "22                              elsalvadorcom    El Salvador   \n",
       "23                                     Factum    El Salvador   \n",
       "\n",
       "                                              Link                 ChannelID  \n",
       "0             https://www.youtube.com/@France24_es  UCUdOoVWuWmgo1wByzcsyKDQ  \n",
       "1              https://www.youtube.com/@euronewses  UCyoGb3SMlTlB8CLGVH4c8Rw  \n",
       "2                   https://www.youtube.com/@cnnee  UCJag7ggH_TnSye399htVAEw  \n",
       "3               https://www.youtube.com/@dwespanol  UChmI8e6G2mV-0zf9SuQdbVA  \n",
       "4                https://www.youtube.com/@noticias  UC2Xq2PK-got3Rtz9ZJ32hLQ  \n",
       "5            https://www.youtube.com/@todonoticias  UCyS7HkaIUX2FBJkJUsnFZUA  \n",
       "6                     https://www.youtube.com/@c5n  UCFgk2Q2mVO1BklRQhSv6p0w  \n",
       "7                 https://www.youtube.com/@canal26  UCrpMfcQNog595v5gAS-oUsQ  \n",
       "8                https://www.youtube.com/@lanacion  UCba3hpU7EFBSk817y9qZkiA  \n",
       "9                  https://www.youtube.com/@A24com  UCR9120YBAqMfntqgRTKmkjQ  \n",
       "10        https://www.youtube.com/@noticiascaracol  UC2Xq2PK-got3Rtz9ZJ32hLQ  \n",
       "11            https://www.youtube.com/@NoticiasRCN  UCBlaAnzIF0yOwhTJxXOKluA  \n",
       "12               https://www.youtube.com/@ElTiempo  UCe5-b0fCK3eQCpwS6MT0aNw  \n",
       "13           https://www.youtube.com/@ElEspectador  UCFYdMS-M4mRdbxPuErz1CVw  \n",
       "14    https://www.youtube.com/@NoticiasUnoColombia  UC3NUgxBBl05tthfGBS6kPkA  \n",
       "15                   https://www.youtube.com/@nmas  UCUsm-fannqOY02PNN67C0KA  \n",
       "16         https://www.youtube.com/@aztecanoticias  UCUP6qv-_EIL0hwTsJaKYnvw  \n",
       "17                https://www.youtube.com/@milenio  UCFxHplbcoJK9m70c4VyTIxg  \n",
       "18          https://www.youtube.com/ImagenNoticias  UCcHtke0raf8vNYLM1Hbq3Jw  \n",
       "19           https://www.youtube.com/@ExcelsiorMex  UClqo4ZAAZ01HQdCTlovCgkA  \n",
       "20   https://www.youtube.com/@laprensagraficavideo  UCNz2y0qMguce8wyxl0oFXUw  \n",
       "21      https://www.youtube.com/@Canal12ElSalvador  UC4rvyYYuqGGti3-u6VjN4SA  \n",
       "22  https://www.youtube.com/c/elsalvadorcomyoutube  UCr865ABWoDU_qMeQ5LUrbyw  \n",
       "23        https://www.youtube.com/@revistafactumsv  UC8tvT2mf0LuoY-y_a8UAIpQ  "
      ]
     },
     "execution_count": 130,
     "metadata": {},
     "output_type": "execute_result"
    }
   ],
   "source": [
    "noticias"
   ]
  },
  {
   "cell_type": "code",
   "execution_count": null,
   "metadata": {},
   "outputs": [],
   "source": [
    "claves"
   ]
  },
  {
   "cell_type": "markdown",
   "metadata": {},
   "source": [
    "### Función para buscar videos en múltiples canales y guardarlos en un archivo CSV\n",
    "\n",
    "#### Propósito\n",
    "Busca videos en múltiples canales de YouTube utilizando palabras clave específicas dentro de un rango de fechas y guarda los resultados en un archivo CSV.\n",
    "\n",
    "#### Parámetros\n",
    "- `noticias`: DataFrame que contiene información sobre los noticieros, incluidas las categorías, nombres y IDs de los canales.\n",
    "- `claves`: DataFrame que contiene las palabras clave para la búsqueda, incluyendo los nombres de los presidentes y sus países.\n",
    "- `january_first`: Fecha de inicio del rango (1 de enero en formato ISO 8601).\n",
    "- `january_end`: Fecha de fin del rango (31 de enero en formato ISO 8601).\n",
    "\n",
    "#### Funcionamiento\n",
    "1. **Inicialización**:\n",
    "   - Crea una lista vacía `videos` para almacenar los datos de los videos encontrados.\n",
    "\n",
    "2. **Iteración sobre los canales**:\n",
    "   - Recorre cada fila del DataFrame `noticias`.\n",
    "   - Extrae el `ChannelID`, `Categoría` y `Nombre del noticiero`.\n",
    "\n",
    "3. **Verificación y Búsqueda de Videos**:\n",
    "   - Si el `ChannelID` no es nulo, itera sobre cada fila del DataFrame `claves`.\n",
    "   - Extrae la `Query` (consulta de búsqueda) y el `País`.\n",
    "   - Llama a la función `search_videos` con el `channel_id`, `query`, `january_first` y `january_end`.\n",
    "\n",
    "4. **Procesamiento de Resultados de Búsqueda**:\n",
    "   - Para cada resultado de búsqueda, si el video tiene más de 100 comentarios, se agregan datos adicionales:\n",
    "     - `Nombre del noticiero`\n",
    "     - `Query` utilizada\n",
    "     - `País` (se ajusta dependiendo de si la categoría es \"Internacional\")\n",
    "\n",
    "5. **Almacenamiento de Resultados**:\n",
    "   - Los detalles de los videos encontrados se agregan a la lista `videos`.\n",
    "\n",
    "6. **Guardado en CSV**:\n",
    "   - Se convierte la lista `videos` en un DataFrame `df_videos`.\n",
    "   - Se guarda el DataFrame en un archivo CSV (`./videos-per-month/enero.csv`).\n",
    "\n",
    "7. **Actualización de `claves`**:\n",
    "   - Se concatena `País` y `Nombre del Presidente` en `claves` para formar la `Query`."
   ]
  },
  {
   "cell_type": "code",
   "execution_count": 51,
   "metadata": {},
   "outputs": [
    {
     "name": "stdout",
     "output_type": "stream",
     "text": [
      "Videos data saved to ./videos-per-month/enero.csv\n"
     ]
    }
   ],
   "source": [
    "# Buscar videos y guardar en CSV\n",
    "videos = []\n",
    "for _, row in noticias.iterrows(): # Recorrer cada fila de 'noticias'\n",
    "    channel_id = row['ChannelID'] # Obtener el ID del canal de la fila actual\n",
    "    categoria = row['Categoría'] # Obtener la categoría del noticiero\n",
    "    nombre_noticiero = row['Nombre del noticiero'] # Obtener el nombre del noticiero\n",
    "    \n",
    "    if pd.notnull(channel_id): # Si el ID del canal no es nulo\n",
    "        for _, clave_row in claves.iterrows(): # Recorrer cada fila de 'claves'\n",
    "            query = clave_row['Query'] # Obtener la consulta de la fila actual\n",
    "            country = clave_row['País'] # Obtener el país de la fila actual\n",
    "            search_results = search_videos(channel_id, query, january_first, january_end) # Buscar videos en el canal con la consulta y fechas especificadas\n",
    "            for video in search_results: # Recorrer cada video encontrado en los resultados de la búsqueda\n",
    "                if video:\n",
    "                    video[\"Nombre del noticiero\"] = nombre_noticiero # Agregar el nombre del noticiero a los datos del video\n",
    "                    video[\"Query\"] = query  # Agregar la consulta a los datos del video\n",
    "                    if categoria == \"Internacional\": # Si la categoría del noticiero es internacional\n",
    "                        video[\"País\"] = f\"Internacional + {country}\"\n",
    "                    else:\n",
    "                        video[\"País\"] = categoria + \" \" + country # Agregar el país a los datos del video\n",
    "                    videos.append(video)\n",
    "\n",
    "# Crear DataFrame y guardar en CSV\n",
    "df_videos = pd.DataFrame(videos)\n",
    "df_videos.to_csv(\"./videos-per-month/enero.csv\", index=False)\n",
    "\n",
    "print(\"Videos data saved to ./videos-per-month/enero.csv\")"
   ]
  },
  {
   "cell_type": "code",
   "execution_count": 52,
   "metadata": {},
   "outputs": [
    {
     "data": {
      "text/plain": [
       "74888"
      ]
     },
     "execution_count": 52,
     "metadata": {},
     "output_type": "execute_result"
    }
   ],
   "source": [
    "df_videos[\"Numero de Comentarios\"].sum()"
   ]
  },
  {
   "cell_type": "markdown",
   "metadata": {},
   "source": [
    "## Extracción de datos de febrero"
   ]
  },
  {
   "cell_type": "code",
   "execution_count": 99,
   "metadata": {},
   "outputs": [],
   "source": [
    "api_key = \"your_api_key\""
   ]
  },
  {
   "cell_type": "code",
   "execution_count": 100,
   "metadata": {},
   "outputs": [],
   "source": [
    "youtube = build('youtube', 'v3', developerKey=api_key)"
   ]
  },
  {
   "cell_type": "code",
   "execution_count": 94,
   "metadata": {},
   "outputs": [],
   "source": [
    "current_date = datetime.now()\n",
    "february_first = datetime(current_date.year, 2, 1).isoformat(\"T\") + \"Z\"\n",
    "february_end = datetime(current_date.year, 2, 29, 23, 59, 59).isoformat(\"T\") + \"Z\""
   ]
  },
  {
   "cell_type": "markdown",
   "metadata": {},
   "source": [
    "Se vuelve a correr la consulta de el mes de enero."
   ]
  },
  {
   "cell_type": "code",
   "execution_count": 101,
   "metadata": {},
   "outputs": [
    {
     "name": "stdout",
     "output_type": "stream",
     "text": [
      "Videos data saved to ./videos-per-month/febrero.csv\n"
     ]
    }
   ],
   "source": [
    "# Buscar videos y guardar en CSV\n",
    "videos = []\n",
    "for _, row in noticias.iterrows():\n",
    "    channel_id = row['ChannelID']\n",
    "    categoria = row['Categoría']\n",
    "    nombre_noticiero = row['Nombre del noticiero']\n",
    "    \n",
    "    if pd.notnull(channel_id):\n",
    "        for _, clave_row in claves.iterrows():\n",
    "            query = clave_row['Query']\n",
    "            country = clave_row['País']\n",
    "            search_results = search_videos(channel_id, query, february_first, february_end)\n",
    "            for video in search_results:\n",
    "                if video:\n",
    "                    video[\"Nombre del noticiero\"] = nombre_noticiero\n",
    "                    video[\"Query\"] = query  # Agregar la consulta a los datos del video\n",
    "                    if categoria == \"Internacional\":\n",
    "                        video[\"País\"] = f\"Internacional + {country}\"\n",
    "                    else:\n",
    "                        video[\"País\"] = categoria\n",
    "                    videos.append(video)\n",
    "\n",
    "# Crear DataFrame y guardar en CSV\n",
    "df_videos = pd.DataFrame(videos)\n",
    "df_videos.to_csv(\"./videos-per-month/febrero.csv\", index=False)\n",
    "\n",
    "print(\"Videos data saved to ./videos-per-month/febrero.csv\")"
   ]
  },
  {
   "cell_type": "code",
   "execution_count": 102,
   "metadata": {},
   "outputs": [
    {
     "data": {
      "text/plain": [
       "152653"
      ]
     },
     "execution_count": 102,
     "metadata": {},
     "output_type": "execute_result"
    }
   ],
   "source": [
    "df_videos[\"Numero de Comentarios\"].sum()"
   ]
  },
  {
   "cell_type": "markdown",
   "metadata": {},
   "source": [
    "## Extracción de datos de Marzo"
   ]
  },
  {
   "cell_type": "code",
   "execution_count": 103,
   "metadata": {},
   "outputs": [],
   "source": [
    "api_key = \"your_api_key\""
   ]
  },
  {
   "cell_type": "code",
   "execution_count": 104,
   "metadata": {},
   "outputs": [],
   "source": [
    "youtube = build('youtube', 'v3', developerKey=api_key)"
   ]
  },
  {
   "cell_type": "code",
   "execution_count": 105,
   "metadata": {},
   "outputs": [],
   "source": [
    "current_date = datetime.now()\n",
    "march_first = datetime(current_date.year, 3, 1).isoformat(\"T\") + \"Z\"\n",
    "march_end = datetime(current_date.year, 3, 31, 23, 59, 59).isoformat(\"T\") + \"Z\""
   ]
  },
  {
   "cell_type": "markdown",
   "metadata": {},
   "source": [
    "Se vuelve a correr la consulta de el mes de enero."
   ]
  },
  {
   "cell_type": "code",
   "execution_count": 107,
   "metadata": {},
   "outputs": [
    {
     "name": "stdout",
     "output_type": "stream",
     "text": [
      "Videos data saved to ./videos-per-month/marzo.csv\n"
     ]
    }
   ],
   "source": [
    "videos = []\n",
    "for _, row in noticias.iterrows():\n",
    "    channel_id = row['ChannelID']\n",
    "    categoria = row['Categoría']\n",
    "    nombre_noticiero = row['Nombre del noticiero']\n",
    "    \n",
    "    if pd.notnull(channel_id):\n",
    "        for _, clave_row in claves.iterrows():\n",
    "            query = clave_row['Query']\n",
    "            country = clave_row['País']\n",
    "            search_results = search_videos(channel_id, query, march_first, march_end)\n",
    "            for video in search_results:\n",
    "                if video:\n",
    "                    video[\"Nombre del noticiero\"] = nombre_noticiero\n",
    "                    video[\"Query\"] = query  # Agregar la consulta a los datos del video\n",
    "                    if categoria == \"Internacional\":\n",
    "                        video[\"País\"] = f\"Internacional + {country}\"\n",
    "                    else:\n",
    "                        video[\"País\"] = categoria\n",
    "                    videos.append(video)\n",
    "\n",
    "# Crear DataFrame y guardar en CSV\n",
    "df_videos = pd.DataFrame(videos)\n",
    "df_videos.to_csv(\"./videos-per-month/marzo.csv\", index=False)\n",
    "\n",
    "print(\"Videos data saved to ./videos-per-month/marzo.csv\")"
   ]
  },
  {
   "cell_type": "code",
   "execution_count": 108,
   "metadata": {},
   "outputs": [
    {
     "data": {
      "text/plain": [
       "101775"
      ]
     },
     "execution_count": 108,
     "metadata": {},
     "output_type": "execute_result"
    }
   ],
   "source": [
    "df_videos[\"Numero de Comentarios\"].sum()"
   ]
  },
  {
   "cell_type": "markdown",
   "metadata": {},
   "source": [
    "## Extracción de datos de Abril"
   ]
  },
  {
   "cell_type": "code",
   "execution_count": 109,
   "metadata": {},
   "outputs": [],
   "source": [
    "api_key = \"your_api_key\""
   ]
  },
  {
   "cell_type": "code",
   "execution_count": 110,
   "metadata": {},
   "outputs": [],
   "source": [
    "youtube = build('youtube', 'v3', developerKey=api_key)"
   ]
  },
  {
   "cell_type": "code",
   "execution_count": 111,
   "metadata": {},
   "outputs": [],
   "source": [
    "current_date = datetime.now()\n",
    "april_first = datetime(current_date.year, 4, 1).isoformat(\"T\") + \"Z\"\n",
    "april_end = datetime(current_date.year, 4, 30, 23, 59, 59).isoformat(\"T\") + \"Z\""
   ]
  },
  {
   "cell_type": "markdown",
   "metadata": {},
   "source": [
    "Se vuelve a correr la consulta de el mes de enero con las fechas modificadas."
   ]
  },
  {
   "cell_type": "code",
   "execution_count": 112,
   "metadata": {},
   "outputs": [
    {
     "name": "stdout",
     "output_type": "stream",
     "text": [
      "Videos data saved to ./videos-per-month/abril.csv\n"
     ]
    }
   ],
   "source": [
    "videos = []\n",
    "for _, row in noticias.iterrows():\n",
    "    channel_id = row['ChannelID']\n",
    "    categoria = row['Categoría']\n",
    "    nombre_noticiero = row['Nombre del noticiero']\n",
    "    \n",
    "    if pd.notnull(channel_id):\n",
    "        for _, clave_row in claves.iterrows():\n",
    "            query = clave_row['Query']\n",
    "            country = clave_row['País']\n",
    "            search_results = search_videos(channel_id, query, april_first, april_end)\n",
    "            for video in search_results:\n",
    "                if video:\n",
    "                    video[\"Nombre del noticiero\"] = nombre_noticiero\n",
    "                    video[\"Query\"] = query  # Agregar la consulta a los datos del video\n",
    "                    if categoria == \"Internacional\":\n",
    "                        video[\"País\"] = f\"Internacional + {country}\"\n",
    "                    else:\n",
    "                        video[\"País\"] = categoria\n",
    "                    videos.append(video)\n",
    "\n",
    "# Crear DataFrame y guardar en CSV\n",
    "df_videos = pd.DataFrame(videos)\n",
    "df_videos.to_csv(\"./videos-per-month/abril.csv\", index=False)\n",
    "\n",
    "print(\"Videos data saved to ./videos-per-month/abril.csv\")"
   ]
  },
  {
   "cell_type": "code",
   "execution_count": 113,
   "metadata": {},
   "outputs": [
    {
     "data": {
      "text/plain": [
       "342488"
      ]
     },
     "execution_count": 113,
     "metadata": {},
     "output_type": "execute_result"
    }
   ],
   "source": [
    "df_videos[\"Numero de Comentarios\"].sum()"
   ]
  },
  {
   "cell_type": "markdown",
   "metadata": {},
   "source": [
    "## Extracción de datos de Mayo"
   ]
  },
  {
   "cell_type": "code",
   "execution_count": 134,
   "metadata": {},
   "outputs": [],
   "source": [
    "api_key = \"your_api_key\""
   ]
  },
  {
   "cell_type": "code",
   "execution_count": 35,
   "metadata": {},
   "outputs": [],
   "source": [
    "youtube = build('youtube', 'v3', developerKey=api_key)"
   ]
  },
  {
   "cell_type": "code",
   "execution_count": 120,
   "metadata": {},
   "outputs": [],
   "source": [
    "current_date = datetime.now()\n",
    "may_first = datetime(current_date.year, 5, 1).isoformat(\"T\") + \"Z\"\n",
    "may_end = datetime(current_date.year, 5, 31, 23, 59, 59).isoformat(\"T\") + \"Z\""
   ]
  },
  {
   "cell_type": "markdown",
   "metadata": {},
   "source": [
    "Se vuelve a correr la consulta de el mes de enero con las fechas modificadas."
   ]
  },
  {
   "cell_type": "code",
   "execution_count": 121,
   "metadata": {},
   "outputs": [
    {
     "name": "stdout",
     "output_type": "stream",
     "text": [
      "Videos data saved to ./videos-per-month/mayo.csv\n"
     ]
    }
   ],
   "source": [
    "videos = []\n",
    "for _, row in noticias.iterrows():\n",
    "    channel_id = row['ChannelID']\n",
    "    categoria = row['Categoría']\n",
    "    nombre_noticiero = row['Nombre del noticiero']\n",
    "    \n",
    "    if pd.notnull(channel_id):\n",
    "        for _, clave_row in claves.iterrows():\n",
    "            query = clave_row['Query']\n",
    "            country = clave_row['País']\n",
    "            search_results = search_videos(channel_id, query, may_first, may_end)\n",
    "            for video in search_results:\n",
    "                if video:\n",
    "                    video[\"Nombre del noticiero\"] = nombre_noticiero\n",
    "                    video[\"Query\"] = query  # Agregar la consulta a los datos del video\n",
    "                    if categoria == \"Internacional\":\n",
    "                        video[\"País\"] = f\"Internacional + {country}\"\n",
    "                    else:\n",
    "                        video[\"País\"] = categoria\n",
    "                    videos.append(video)\n",
    "\n",
    "# Crear DataFrame y guardar en CSV\n",
    "df_videos = pd.DataFrame(videos)\n",
    "df_videos.to_csv(\"./videos-per-month/mayo2.csv\", index=False)\n",
    "\n",
    "print(\"Videos data saved to ./videos-per-month/mayo.csv\")"
   ]
  },
  {
   "cell_type": "code",
   "execution_count": 122,
   "metadata": {},
   "outputs": [
    {
     "data": {
      "text/plain": [
       "118376"
      ]
     },
     "execution_count": 122,
     "metadata": {},
     "output_type": "execute_result"
    }
   ],
   "source": [
    "df_videos[\"Numero de Comentarios\"].sum()"
   ]
  },
  {
   "cell_type": "markdown",
   "metadata": {},
   "source": [
    "## Extracción de datos de Junio"
   ]
  },
  {
   "cell_type": "code",
   "execution_count": 26,
   "metadata": {},
   "outputs": [],
   "source": [
    "api_key = \"your_api_key\""
   ]
  },
  {
   "cell_type": "code",
   "execution_count": 27,
   "metadata": {},
   "outputs": [],
   "source": [
    "youtube = build('youtube', 'v3', developerKey=api_key)"
   ]
  },
  {
   "cell_type": "code",
   "execution_count": 28,
   "metadata": {},
   "outputs": [],
   "source": [
    "current_date = datetime.now()\n",
    "june_first = datetime(current_date.year, 6, 1).isoformat(\"T\") + \"Z\"\n",
    "june_end = datetime(current_date.year, 6, 30, 23, 59, 59).isoformat(\"T\") + \"Z\""
   ]
  },
  {
   "cell_type": "markdown",
   "metadata": {},
   "source": [
    "Se vuelve a correr la consulta de el mes de enero con las fechas modificadas."
   ]
  },
  {
   "cell_type": "code",
   "execution_count": 29,
   "metadata": {},
   "outputs": [
    {
     "name": "stdout",
     "output_type": "stream",
     "text": [
      "Videos data saved to ./videos-per-month/junio.csv\n"
     ]
    }
   ],
   "source": [
    "videos = []\n",
    "for _, row in noticias.iterrows():\n",
    "    channel_id = row['ChannelID']\n",
    "    categoria = row['Categoría']\n",
    "    nombre_noticiero = row['Nombre del noticiero']\n",
    "    \n",
    "    if pd.notnull(channel_id):\n",
    "        for _, clave_row in claves.iterrows():\n",
    "            query = clave_row['Query']\n",
    "            country = clave_row['País']\n",
    "            search_results = search_videos(channel_id, query, june_first, june_end)\n",
    "            for video in search_results:\n",
    "                if video:\n",
    "                    video[\"Nombre del noticiero\"] = nombre_noticiero\n",
    "                    video[\"Query\"] = query  # Agregar la consulta a los datos del video\n",
    "                    if categoria == \"Internacional\":\n",
    "                        video[\"País\"] = f\"Internacional + {country}\"\n",
    "                    else:\n",
    "                        video[\"País\"] = categoria\n",
    "                    videos.append(video)\n",
    "\n",
    "# Crear DataFrame y guardar en CSV\n",
    "df_videos = pd.DataFrame(videos)\n",
    "df_videos.to_csv(\"./videos-per-month/junio.csv\", index=False)\n",
    "\n",
    "print(\"Videos data saved to ./videos-per-month/junio.csv\")"
   ]
  },
  {
   "cell_type": "markdown",
   "metadata": {},
   "source": [
    "junio = pd.rea"
   ]
  },
  {
   "cell_type": "code",
   "execution_count": 31,
   "metadata": {},
   "outputs": [],
   "source": [
    "junio = pd.read_csv(\"videos-per-month/junio.csv\")"
   ]
  },
  {
   "cell_type": "code",
   "execution_count": 32,
   "metadata": {},
   "outputs": [
    {
     "data": {
      "text/plain": [
       "92792"
      ]
     },
     "execution_count": 32,
     "metadata": {},
     "output_type": "execute_result"
    }
   ],
   "source": [
    "juniocomments = junio[\"Numero de Comentarios\"].sum()\n",
    "\n",
    "juniocomments"
   ]
  },
  {
   "cell_type": "markdown",
   "metadata": {},
   "source": [
    "# General Analysis"
   ]
  },
  {
   "cell_type": "code",
   "execution_count": 38,
   "metadata": {},
   "outputs": [],
   "source": [
    "import pandas as pd\n",
    "import plotly.express as px"
   ]
  },
  {
   "cell_type": "code",
   "execution_count": 106,
   "metadata": {},
   "outputs": [],
   "source": [
    "# Sumar el número de comentarios de todos los videos\n",
    "# leer los archivos csv\n",
    "enero = pd.read_csv(\"./videos-per-month/enero.csv\")\n",
    "febrero = pd.read_csv(\"./videos-per-month/febrero.csv\")\n",
    "marzo = pd.read_csv(\"./videos-per-month/marzo.csv\")\n",
    "abril = pd.read_csv(\"./videos-per-month/abril.csv\")\n",
    "mayo = pd.read_csv(\"./videos-per-month/mayo.csv\")\n",
    "junio = pd.read_csv(\"videos-per-month/junio.csv\")\n",
    "\n",
    "# Concatenar los DataFrames\n",
    "anual = pd.concat([enero, febrero, marzo, abril, mayo, junio])\n",
    "\n",
    "# sumar el número de comentarios\n",
    "total_comments = anual[\"Numero de Comentarios\"].sum()\n"
   ]
  },
  {
   "cell_type": "markdown",
   "metadata": {},
   "source": [
    "Se une en un solo dataset todos los meses extraidos."
   ]
  },
  {
   "cell_type": "code",
   "execution_count": null,
   "metadata": {},
   "outputs": [],
   "source": [
    "completo = anual"
   ]
  },
  {
   "cell_type": "code",
   "execution_count": 109,
   "metadata": {},
   "outputs": [
    {
     "data": {
      "text/plain": [
       "977035"
      ]
     },
     "execution_count": 109,
     "metadata": {},
     "output_type": "execute_result"
    }
   ],
   "source": [
    "completo[\"Numero de Comentarios\"].sum() # completo = "
   ]
  },
  {
   "cell_type": "code",
   "execution_count": 118,
   "metadata": {},
   "outputs": [
    {
     "data": {
      "application/vnd.plotly.v1+json": {
       "config": {
        "plotlyServerURL": "https://plot.ly"
       },
       "data": [
        {
         "marker": {
          "color": "blue"
         },
         "name": "Internacional",
         "type": "bar",
         "x": [
          "Argentina",
          "Colombia",
          "El Salvador",
          "Internacional + Argentina",
          "Internacional + Colombia",
          "Internacional + El Salvador",
          "Internacional + México",
          "México"
         ],
         "y": [
          0,
          0,
          0,
          3844,
          50009,
          13108,
          9549,
          0
         ]
        },
        {
         "marker": {
          "color": "red"
         },
         "name": "Nacional",
         "type": "bar",
         "x": [
          "Argentina",
          "Colombia",
          "El Salvador",
          "Internacional + Argentina",
          "Internacional + Colombia",
          "Internacional + El Salvador",
          "Internacional + México",
          "México"
         ],
         "y": [
          163041,
          95696,
          740,
          0,
          0,
          0,
          0,
          641048
         ]
        }
       ],
       "layout": {
        "barmode": "stack",
        "template": {
         "data": {
          "bar": [
           {
            "error_x": {
             "color": "#2a3f5f"
            },
            "error_y": {
             "color": "#2a3f5f"
            },
            "marker": {
             "line": {
              "color": "#E5ECF6",
              "width": 0.5
             },
             "pattern": {
              "fillmode": "overlay",
              "size": 10,
              "solidity": 0.2
             }
            },
            "type": "bar"
           }
          ],
          "barpolar": [
           {
            "marker": {
             "line": {
              "color": "#E5ECF6",
              "width": 0.5
             },
             "pattern": {
              "fillmode": "overlay",
              "size": 10,
              "solidity": 0.2
             }
            },
            "type": "barpolar"
           }
          ],
          "carpet": [
           {
            "aaxis": {
             "endlinecolor": "#2a3f5f",
             "gridcolor": "white",
             "linecolor": "white",
             "minorgridcolor": "white",
             "startlinecolor": "#2a3f5f"
            },
            "baxis": {
             "endlinecolor": "#2a3f5f",
             "gridcolor": "white",
             "linecolor": "white",
             "minorgridcolor": "white",
             "startlinecolor": "#2a3f5f"
            },
            "type": "carpet"
           }
          ],
          "choropleth": [
           {
            "colorbar": {
             "outlinewidth": 0,
             "ticks": ""
            },
            "type": "choropleth"
           }
          ],
          "contour": [
           {
            "colorbar": {
             "outlinewidth": 0,
             "ticks": ""
            },
            "colorscale": [
             [
              0,
              "#0d0887"
             ],
             [
              0.1111111111111111,
              "#46039f"
             ],
             [
              0.2222222222222222,
              "#7201a8"
             ],
             [
              0.3333333333333333,
              "#9c179e"
             ],
             [
              0.4444444444444444,
              "#bd3786"
             ],
             [
              0.5555555555555556,
              "#d8576b"
             ],
             [
              0.6666666666666666,
              "#ed7953"
             ],
             [
              0.7777777777777778,
              "#fb9f3a"
             ],
             [
              0.8888888888888888,
              "#fdca26"
             ],
             [
              1,
              "#f0f921"
             ]
            ],
            "type": "contour"
           }
          ],
          "contourcarpet": [
           {
            "colorbar": {
             "outlinewidth": 0,
             "ticks": ""
            },
            "type": "contourcarpet"
           }
          ],
          "heatmap": [
           {
            "colorbar": {
             "outlinewidth": 0,
             "ticks": ""
            },
            "colorscale": [
             [
              0,
              "#0d0887"
             ],
             [
              0.1111111111111111,
              "#46039f"
             ],
             [
              0.2222222222222222,
              "#7201a8"
             ],
             [
              0.3333333333333333,
              "#9c179e"
             ],
             [
              0.4444444444444444,
              "#bd3786"
             ],
             [
              0.5555555555555556,
              "#d8576b"
             ],
             [
              0.6666666666666666,
              "#ed7953"
             ],
             [
              0.7777777777777778,
              "#fb9f3a"
             ],
             [
              0.8888888888888888,
              "#fdca26"
             ],
             [
              1,
              "#f0f921"
             ]
            ],
            "type": "heatmap"
           }
          ],
          "heatmapgl": [
           {
            "colorbar": {
             "outlinewidth": 0,
             "ticks": ""
            },
            "colorscale": [
             [
              0,
              "#0d0887"
             ],
             [
              0.1111111111111111,
              "#46039f"
             ],
             [
              0.2222222222222222,
              "#7201a8"
             ],
             [
              0.3333333333333333,
              "#9c179e"
             ],
             [
              0.4444444444444444,
              "#bd3786"
             ],
             [
              0.5555555555555556,
              "#d8576b"
             ],
             [
              0.6666666666666666,
              "#ed7953"
             ],
             [
              0.7777777777777778,
              "#fb9f3a"
             ],
             [
              0.8888888888888888,
              "#fdca26"
             ],
             [
              1,
              "#f0f921"
             ]
            ],
            "type": "heatmapgl"
           }
          ],
          "histogram": [
           {
            "marker": {
             "pattern": {
              "fillmode": "overlay",
              "size": 10,
              "solidity": 0.2
             }
            },
            "type": "histogram"
           }
          ],
          "histogram2d": [
           {
            "colorbar": {
             "outlinewidth": 0,
             "ticks": ""
            },
            "colorscale": [
             [
              0,
              "#0d0887"
             ],
             [
              0.1111111111111111,
              "#46039f"
             ],
             [
              0.2222222222222222,
              "#7201a8"
             ],
             [
              0.3333333333333333,
              "#9c179e"
             ],
             [
              0.4444444444444444,
              "#bd3786"
             ],
             [
              0.5555555555555556,
              "#d8576b"
             ],
             [
              0.6666666666666666,
              "#ed7953"
             ],
             [
              0.7777777777777778,
              "#fb9f3a"
             ],
             [
              0.8888888888888888,
              "#fdca26"
             ],
             [
              1,
              "#f0f921"
             ]
            ],
            "type": "histogram2d"
           }
          ],
          "histogram2dcontour": [
           {
            "colorbar": {
             "outlinewidth": 0,
             "ticks": ""
            },
            "colorscale": [
             [
              0,
              "#0d0887"
             ],
             [
              0.1111111111111111,
              "#46039f"
             ],
             [
              0.2222222222222222,
              "#7201a8"
             ],
             [
              0.3333333333333333,
              "#9c179e"
             ],
             [
              0.4444444444444444,
              "#bd3786"
             ],
             [
              0.5555555555555556,
              "#d8576b"
             ],
             [
              0.6666666666666666,
              "#ed7953"
             ],
             [
              0.7777777777777778,
              "#fb9f3a"
             ],
             [
              0.8888888888888888,
              "#fdca26"
             ],
             [
              1,
              "#f0f921"
             ]
            ],
            "type": "histogram2dcontour"
           }
          ],
          "mesh3d": [
           {
            "colorbar": {
             "outlinewidth": 0,
             "ticks": ""
            },
            "type": "mesh3d"
           }
          ],
          "parcoords": [
           {
            "line": {
             "colorbar": {
              "outlinewidth": 0,
              "ticks": ""
             }
            },
            "type": "parcoords"
           }
          ],
          "pie": [
           {
            "automargin": true,
            "type": "pie"
           }
          ],
          "scatter": [
           {
            "fillpattern": {
             "fillmode": "overlay",
             "size": 10,
             "solidity": 0.2
            },
            "type": "scatter"
           }
          ],
          "scatter3d": [
           {
            "line": {
             "colorbar": {
              "outlinewidth": 0,
              "ticks": ""
             }
            },
            "marker": {
             "colorbar": {
              "outlinewidth": 0,
              "ticks": ""
             }
            },
            "type": "scatter3d"
           }
          ],
          "scattercarpet": [
           {
            "marker": {
             "colorbar": {
              "outlinewidth": 0,
              "ticks": ""
             }
            },
            "type": "scattercarpet"
           }
          ],
          "scattergeo": [
           {
            "marker": {
             "colorbar": {
              "outlinewidth": 0,
              "ticks": ""
             }
            },
            "type": "scattergeo"
           }
          ],
          "scattergl": [
           {
            "marker": {
             "colorbar": {
              "outlinewidth": 0,
              "ticks": ""
             }
            },
            "type": "scattergl"
           }
          ],
          "scattermapbox": [
           {
            "marker": {
             "colorbar": {
              "outlinewidth": 0,
              "ticks": ""
             }
            },
            "type": "scattermapbox"
           }
          ],
          "scatterpolar": [
           {
            "marker": {
             "colorbar": {
              "outlinewidth": 0,
              "ticks": ""
             }
            },
            "type": "scatterpolar"
           }
          ],
          "scatterpolargl": [
           {
            "marker": {
             "colorbar": {
              "outlinewidth": 0,
              "ticks": ""
             }
            },
            "type": "scatterpolargl"
           }
          ],
          "scatterternary": [
           {
            "marker": {
             "colorbar": {
              "outlinewidth": 0,
              "ticks": ""
             }
            },
            "type": "scatterternary"
           }
          ],
          "surface": [
           {
            "colorbar": {
             "outlinewidth": 0,
             "ticks": ""
            },
            "colorscale": [
             [
              0,
              "#0d0887"
             ],
             [
              0.1111111111111111,
              "#46039f"
             ],
             [
              0.2222222222222222,
              "#7201a8"
             ],
             [
              0.3333333333333333,
              "#9c179e"
             ],
             [
              0.4444444444444444,
              "#bd3786"
             ],
             [
              0.5555555555555556,
              "#d8576b"
             ],
             [
              0.6666666666666666,
              "#ed7953"
             ],
             [
              0.7777777777777778,
              "#fb9f3a"
             ],
             [
              0.8888888888888888,
              "#fdca26"
             ],
             [
              1,
              "#f0f921"
             ]
            ],
            "type": "surface"
           }
          ],
          "table": [
           {
            "cells": {
             "fill": {
              "color": "#EBF0F8"
             },
             "line": {
              "color": "white"
             }
            },
            "header": {
             "fill": {
              "color": "#C8D4E3"
             },
             "line": {
              "color": "white"
             }
            },
            "type": "table"
           }
          ]
         },
         "layout": {
          "annotationdefaults": {
           "arrowcolor": "#2a3f5f",
           "arrowhead": 0,
           "arrowwidth": 1
          },
          "autotypenumbers": "strict",
          "coloraxis": {
           "colorbar": {
            "outlinewidth": 0,
            "ticks": ""
           }
          },
          "colorscale": {
           "diverging": [
            [
             0,
             "#8e0152"
            ],
            [
             0.1,
             "#c51b7d"
            ],
            [
             0.2,
             "#de77ae"
            ],
            [
             0.3,
             "#f1b6da"
            ],
            [
             0.4,
             "#fde0ef"
            ],
            [
             0.5,
             "#f7f7f7"
            ],
            [
             0.6,
             "#e6f5d0"
            ],
            [
             0.7,
             "#b8e186"
            ],
            [
             0.8,
             "#7fbc41"
            ],
            [
             0.9,
             "#4d9221"
            ],
            [
             1,
             "#276419"
            ]
           ],
           "sequential": [
            [
             0,
             "#0d0887"
            ],
            [
             0.1111111111111111,
             "#46039f"
            ],
            [
             0.2222222222222222,
             "#7201a8"
            ],
            [
             0.3333333333333333,
             "#9c179e"
            ],
            [
             0.4444444444444444,
             "#bd3786"
            ],
            [
             0.5555555555555556,
             "#d8576b"
            ],
            [
             0.6666666666666666,
             "#ed7953"
            ],
            [
             0.7777777777777778,
             "#fb9f3a"
            ],
            [
             0.8888888888888888,
             "#fdca26"
            ],
            [
             1,
             "#f0f921"
            ]
           ],
           "sequentialminus": [
            [
             0,
             "#0d0887"
            ],
            [
             0.1111111111111111,
             "#46039f"
            ],
            [
             0.2222222222222222,
             "#7201a8"
            ],
            [
             0.3333333333333333,
             "#9c179e"
            ],
            [
             0.4444444444444444,
             "#bd3786"
            ],
            [
             0.5555555555555556,
             "#d8576b"
            ],
            [
             0.6666666666666666,
             "#ed7953"
            ],
            [
             0.7777777777777778,
             "#fb9f3a"
            ],
            [
             0.8888888888888888,
             "#fdca26"
            ],
            [
             1,
             "#f0f921"
            ]
           ]
          },
          "colorway": [
           "#636efa",
           "#EF553B",
           "#00cc96",
           "#ab63fa",
           "#FFA15A",
           "#19d3f3",
           "#FF6692",
           "#B6E880",
           "#FF97FF",
           "#FECB52"
          ],
          "font": {
           "color": "#2a3f5f"
          },
          "geo": {
           "bgcolor": "white",
           "lakecolor": "white",
           "landcolor": "#E5ECF6",
           "showlakes": true,
           "showland": true,
           "subunitcolor": "white"
          },
          "hoverlabel": {
           "align": "left"
          },
          "hovermode": "closest",
          "mapbox": {
           "style": "light"
          },
          "paper_bgcolor": "white",
          "plot_bgcolor": "#E5ECF6",
          "polar": {
           "angularaxis": {
            "gridcolor": "white",
            "linecolor": "white",
            "ticks": ""
           },
           "bgcolor": "#E5ECF6",
           "radialaxis": {
            "gridcolor": "white",
            "linecolor": "white",
            "ticks": ""
           }
          },
          "scene": {
           "xaxis": {
            "backgroundcolor": "#E5ECF6",
            "gridcolor": "white",
            "gridwidth": 2,
            "linecolor": "white",
            "showbackground": true,
            "ticks": "",
            "zerolinecolor": "white"
           },
           "yaxis": {
            "backgroundcolor": "#E5ECF6",
            "gridcolor": "white",
            "gridwidth": 2,
            "linecolor": "white",
            "showbackground": true,
            "ticks": "",
            "zerolinecolor": "white"
           },
           "zaxis": {
            "backgroundcolor": "#E5ECF6",
            "gridcolor": "white",
            "gridwidth": 2,
            "linecolor": "white",
            "showbackground": true,
            "ticks": "",
            "zerolinecolor": "white"
           }
          },
          "shapedefaults": {
           "line": {
            "color": "#2a3f5f"
           }
          },
          "ternary": {
           "aaxis": {
            "gridcolor": "white",
            "linecolor": "white",
            "ticks": ""
           },
           "baxis": {
            "gridcolor": "white",
            "linecolor": "white",
            "ticks": ""
           },
           "bgcolor": "#E5ECF6",
           "caxis": {
            "gridcolor": "white",
            "linecolor": "white",
            "ticks": ""
           }
          },
          "title": {
           "x": 0.05
          },
          "xaxis": {
           "automargin": true,
           "gridcolor": "white",
           "linecolor": "white",
           "ticks": "",
           "title": {
            "standoff": 15
           },
           "zerolinecolor": "white",
           "zerolinewidth": 2
          },
          "yaxis": {
           "automargin": true,
           "gridcolor": "white",
           "linecolor": "white",
           "ticks": "",
           "title": {
            "standoff": 15
           },
           "zerolinecolor": "white",
           "zerolinewidth": 2
          }
         }
        },
        "title": {
         "text": "Comparación del Número de Comentarios por País"
        },
        "xaxis": {
         "title": {
          "text": "País"
         }
        },
        "yaxis": {
         "title": {
          "text": "Número de Comentarios"
         }
        }
       }
      }
     },
     "metadata": {},
     "output_type": "display_data"
    }
   ],
   "source": [
    "# necesito la grfica segmentada por pais\n",
    "\n",
    "# Crear una columna para diferenciar entre Internacional y Nacional\n",
    "\n",
    "completo['Tipo'] = completo['País'].apply(lambda x: 'Internacional' if 'Internacional' in x else 'Nacional')\n",
    "\n",
    "# Agrupar los datos por 'País' y 'Tipo', sumando el número de comentarios\n",
    "grouped_data = completo.groupby(['País', 'Tipo'])['Numero de Comentarios'].sum().unstack().fillna(0).reset_index()\n",
    "\n",
    "# Crear la gráfica de barras apiladas\n",
    "fig = go.Figure(data=[\n",
    "    go.Bar(name='Internacional', x=grouped_data['País'], y=grouped_data['Internacional'], marker_color='blue'),\n",
    "    go.Bar(name='Nacional', x=grouped_data['País'], y=grouped_data['Nacional'], marker_color='red')\n",
    "])\n",
    "\n",
    "# Cambiar el diseño de la gráfica para apilar las barras\n",
    "\n",
    "fig.update_layout(barmode='stack', title='Comparación del Número de Comentarios por País',\n",
    "                    xaxis_title='País', yaxis_title='Número de Comentarios')\n",
    "\n",
    "# Mostrar la\n",
    "fig.show()"
   ]
  },
  {
   "cell_type": "code",
   "execution_count": 141,
   "metadata": {},
   "outputs": [],
   "source": [
    "completo.to_csv(\"completo.csv\", index=False) # se renomnro a com_anuales para evitar confusiones con el nombre del archivo"
   ]
  },
  {
   "cell_type": "code",
   "execution_count": null,
   "metadata": {},
   "outputs": [],
   "source": [
    "completo "
   ]
  },
  {
   "cell_type": "code",
   "execution_count": 139,
   "metadata": {},
   "outputs": [
    {
     "data": {
      "text/plain": [
       "977035"
      ]
     },
     "execution_count": 139,
     "metadata": {},
     "output_type": "execute_result"
    }
   ],
   "source": [
    "completo[\"Numero de Comentarios\"].sum()"
   ]
  },
  {
   "cell_type": "code",
   "execution_count": null,
   "metadata": {},
   "outputs": [],
   "source": [
    "completo"
   ]
  },
  {
   "cell_type": "markdown",
   "metadata": {},
   "source": [
    "# Identificando Duplicados y presidentes relacionados"
   ]
  },
  {
   "cell_type": "code",
   "execution_count": 11,
   "metadata": {},
   "outputs": [],
   "source": [
    "import pandas as pd"
   ]
  },
  {
   "cell_type": "code",
   "execution_count": 23,
   "metadata": {},
   "outputs": [],
   "source": [
    "com_anuales = pd.read_csv(\"./com_anuales.csv\")"
   ]
  },
  {
   "cell_type": "code",
   "execution_count": 13,
   "metadata": {},
   "outputs": [
    {
     "data": {
      "text/plain": [
       "977035"
      ]
     },
     "execution_count": 13,
     "metadata": {},
     "output_type": "execute_result"
    }
   ],
   "source": [
    "com_anuales[\"Numero de Comentarios\"].sum()"
   ]
  },
  {
   "cell_type": "code",
   "execution_count": 14,
   "metadata": {},
   "outputs": [
    {
     "data": {
      "text/html": [
       "<div>\n",
       "<style scoped>\n",
       "    .dataframe tbody tr th:only-of-type {\n",
       "        vertical-align: middle;\n",
       "    }\n",
       "\n",
       "    .dataframe tbody tr th {\n",
       "        vertical-align: top;\n",
       "    }\n",
       "\n",
       "    .dataframe thead th {\n",
       "        text-align: right;\n",
       "    }\n",
       "</style>\n",
       "<table border=\"1\" class=\"dataframe\">\n",
       "  <thead>\n",
       "    <tr style=\"text-align: right;\">\n",
       "      <th></th>\n",
       "      <th>Nombre del Video</th>\n",
       "      <th>Link del Video</th>\n",
       "      <th>Numero de Comentarios</th>\n",
       "      <th>Duración del Video</th>\n",
       "      <th>Fecha del Video</th>\n",
       "      <th>Nombre del noticiero</th>\n",
       "      <th>Query</th>\n",
       "      <th>País</th>\n",
       "      <th>Tipo</th>\n",
       "    </tr>\n",
       "  </thead>\n",
       "  <tbody>\n",
       "    <tr>\n",
       "      <th>0</th>\n",
       "      <td>Una región, dos posturas: en Davos, Milei y Pe...</td>\n",
       "      <td>https://www.youtube.com/watch?v=hUB9Bbmh58I</td>\n",
       "      <td>871</td>\n",
       "      <td>PT6M29S</td>\n",
       "      <td>2024-01-18T01:53:49Z</td>\n",
       "      <td>France 24 Español</td>\n",
       "      <td>Argentina Alberto Fernández presidente</td>\n",
       "      <td>Internacional + Argentina</td>\n",
       "      <td>Internacional</td>\n",
       "    </tr>\n",
       "    <tr>\n",
       "      <th>1</th>\n",
       "      <td>El modelo Bukele: represión popular que seduce...</td>\n",
       "      <td>https://www.youtube.com/watch?v=WRYg1D--nDw</td>\n",
       "      <td>813</td>\n",
       "      <td>PT27M8S</td>\n",
       "      <td>2024-01-29T13:27:16Z</td>\n",
       "      <td>France 24 Español</td>\n",
       "      <td>El Salvador Nayib Bukele presidente</td>\n",
       "      <td>Internacional + El Salvador</td>\n",
       "      <td>Internacional</td>\n",
       "    </tr>\n",
       "    <tr>\n",
       "      <th>3</th>\n",
       "      <td>Una región, dos posturas: en Davos, Milei y Pe...</td>\n",
       "      <td>https://www.youtube.com/watch?v=hUB9Bbmh58I</td>\n",
       "      <td>871</td>\n",
       "      <td>PT6M29S</td>\n",
       "      <td>2024-01-18T01:53:49Z</td>\n",
       "      <td>France 24 Español</td>\n",
       "      <td>Colombia Gustavo Petro presidente</td>\n",
       "      <td>Internacional + Colombia</td>\n",
       "      <td>Internacional</td>\n",
       "    </tr>\n",
       "    <tr>\n",
       "      <th>5</th>\n",
       "      <td>Presidente de Ecuador, Daniel Noboa, anuncia e...</td>\n",
       "      <td>https://www.youtube.com/watch?v=QlefwZUQUTg</td>\n",
       "      <td>1945</td>\n",
       "      <td>PT2M</td>\n",
       "      <td>2024-01-10T18:01:49Z</td>\n",
       "      <td>Telemundo</td>\n",
       "      <td>El Salvador Nayib Bukele presidente</td>\n",
       "      <td>Internacional + El Salvador</td>\n",
       "      <td>Internacional</td>\n",
       "    </tr>\n",
       "    <tr>\n",
       "      <th>6</th>\n",
       "      <td>Impresionante video del momento del fatídico d...</td>\n",
       "      <td>https://www.youtube.com/watch?v=813ggEX6rfE</td>\n",
       "      <td>584</td>\n",
       "      <td>PT11M44S</td>\n",
       "      <td>2024-01-13T05:34:46Z</td>\n",
       "      <td>Telemundo</td>\n",
       "      <td>Colombia Gustavo Petro presidente</td>\n",
       "      <td>Internacional + Colombia</td>\n",
       "      <td>Internacional</td>\n",
       "    </tr>\n",
       "    <tr>\n",
       "      <th>...</th>\n",
       "      <td>...</td>\n",
       "      <td>...</td>\n",
       "      <td>...</td>\n",
       "      <td>...</td>\n",
       "      <td>...</td>\n",
       "      <td>...</td>\n",
       "      <td>...</td>\n",
       "      <td>...</td>\n",
       "      <td>...</td>\n",
       "    </tr>\n",
       "    <tr>\n",
       "      <th>586</th>\n",
       "      <td>\"Ha sido una paliza\": Ciro Gómez Leyva sobre e...</td>\n",
       "      <td>https://www.youtube.com/watch?v=JS1OAY7dvVk</td>\n",
       "      <td>10716</td>\n",
       "      <td>PT9M7S</td>\n",
       "      <td>2024-06-03T06:13:38Z</td>\n",
       "      <td>Imagen Televisión</td>\n",
       "      <td>México Andrés Manuel López Obrador presidente</td>\n",
       "      <td>México</td>\n",
       "      <td>Nacional</td>\n",
       "    </tr>\n",
       "    <tr>\n",
       "      <th>587</th>\n",
       "      <td>La oposición en México: Irresponsable y con pe...</td>\n",
       "      <td>https://www.youtube.com/watch?v=VnCXNc3SfQQ</td>\n",
       "      <td>1933</td>\n",
       "      <td>PT3M52S</td>\n",
       "      <td>2024-06-05T13:52:11Z</td>\n",
       "      <td>Imagen Televisión</td>\n",
       "      <td>México Andrés Manuel López Obrador presidente</td>\n",
       "      <td>México</td>\n",
       "      <td>Nacional</td>\n",
       "    </tr>\n",
       "    <tr>\n",
       "      <th>589</th>\n",
       "      <td>Asesinaron a la candidata de Morena en Celaya,...</td>\n",
       "      <td>https://www.youtube.com/watch?v=gHzQxfH2moY</td>\n",
       "      <td>3672</td>\n",
       "      <td>PT8M38S</td>\n",
       "      <td>2024-04-02T04:41:46Z</td>\n",
       "      <td>Imagen Televisión</td>\n",
       "      <td>México Andrés Manuel López Obrador presidente</td>\n",
       "      <td>México</td>\n",
       "      <td>Nacional</td>\n",
       "    </tr>\n",
       "    <tr>\n",
       "      <th>593</th>\n",
       "      <td>Xóchitl Gálvez presenta sus propuestas económi...</td>\n",
       "      <td>https://www.youtube.com/watch?v=XJx5O_2X9nE</td>\n",
       "      <td>3030</td>\n",
       "      <td>PT8M20S</td>\n",
       "      <td>2024-04-20T02:40:28Z</td>\n",
       "      <td>Excélsior TV</td>\n",
       "      <td>México Andrés Manuel López Obrador presidente</td>\n",
       "      <td>México</td>\n",
       "      <td>Nacional</td>\n",
       "    </tr>\n",
       "    <tr>\n",
       "      <th>594</th>\n",
       "      <td>Nayib Bukele pide lealtad y sumisión a El Salv...</td>\n",
       "      <td>https://www.youtube.com/watch?v=KkW3rH8IgP4</td>\n",
       "      <td>119</td>\n",
       "      <td>PT3M16S</td>\n",
       "      <td>2024-06-02T01:33:37Z</td>\n",
       "      <td>Factum</td>\n",
       "      <td>El Salvador Nayib Bukele presidente</td>\n",
       "      <td>El Salvador</td>\n",
       "      <td>Nacional</td>\n",
       "    </tr>\n",
       "  </tbody>\n",
       "</table>\n",
       "<p>225 rows × 9 columns</p>\n",
       "</div>"
      ],
      "text/plain": [
       "                                      Nombre del Video  \\\n",
       "0    Una región, dos posturas: en Davos, Milei y Pe...   \n",
       "1    El modelo Bukele: represión popular que seduce...   \n",
       "3    Una región, dos posturas: en Davos, Milei y Pe...   \n",
       "5    Presidente de Ecuador, Daniel Noboa, anuncia e...   \n",
       "6    Impresionante video del momento del fatídico d...   \n",
       "..                                                 ...   \n",
       "586  \"Ha sido una paliza\": Ciro Gómez Leyva sobre e...   \n",
       "587  La oposición en México: Irresponsable y con pe...   \n",
       "589  Asesinaron a la candidata de Morena en Celaya,...   \n",
       "593  Xóchitl Gálvez presenta sus propuestas económi...   \n",
       "594  Nayib Bukele pide lealtad y sumisión a El Salv...   \n",
       "\n",
       "                                  Link del Video  Numero de Comentarios  \\\n",
       "0    https://www.youtube.com/watch?v=hUB9Bbmh58I                    871   \n",
       "1    https://www.youtube.com/watch?v=WRYg1D--nDw                    813   \n",
       "3    https://www.youtube.com/watch?v=hUB9Bbmh58I                    871   \n",
       "5    https://www.youtube.com/watch?v=QlefwZUQUTg                   1945   \n",
       "6    https://www.youtube.com/watch?v=813ggEX6rfE                    584   \n",
       "..                                           ...                    ...   \n",
       "586  https://www.youtube.com/watch?v=JS1OAY7dvVk                  10716   \n",
       "587  https://www.youtube.com/watch?v=VnCXNc3SfQQ                   1933   \n",
       "589  https://www.youtube.com/watch?v=gHzQxfH2moY                   3672   \n",
       "593  https://www.youtube.com/watch?v=XJx5O_2X9nE                   3030   \n",
       "594  https://www.youtube.com/watch?v=KkW3rH8IgP4                    119   \n",
       "\n",
       "    Duración del Video       Fecha del Video Nombre del noticiero  \\\n",
       "0              PT6M29S  2024-01-18T01:53:49Z    France 24 Español   \n",
       "1              PT27M8S  2024-01-29T13:27:16Z    France 24 Español   \n",
       "3              PT6M29S  2024-01-18T01:53:49Z    France 24 Español   \n",
       "5                 PT2M  2024-01-10T18:01:49Z            Telemundo   \n",
       "6             PT11M44S  2024-01-13T05:34:46Z            Telemundo   \n",
       "..                 ...                   ...                  ...   \n",
       "586             PT9M7S  2024-06-03T06:13:38Z    Imagen Televisión   \n",
       "587            PT3M52S  2024-06-05T13:52:11Z    Imagen Televisión   \n",
       "589            PT8M38S  2024-04-02T04:41:46Z    Imagen Televisión   \n",
       "593            PT8M20S  2024-04-20T02:40:28Z         Excélsior TV   \n",
       "594            PT3M16S  2024-06-02T01:33:37Z               Factum   \n",
       "\n",
       "                                             Query  \\\n",
       "0           Argentina Alberto Fernández presidente   \n",
       "1              El Salvador Nayib Bukele presidente   \n",
       "3                Colombia Gustavo Petro presidente   \n",
       "5              El Salvador Nayib Bukele presidente   \n",
       "6                Colombia Gustavo Petro presidente   \n",
       "..                                             ...   \n",
       "586  México Andrés Manuel López Obrador presidente   \n",
       "587  México Andrés Manuel López Obrador presidente   \n",
       "589  México Andrés Manuel López Obrador presidente   \n",
       "593  México Andrés Manuel López Obrador presidente   \n",
       "594            El Salvador Nayib Bukele presidente   \n",
       "\n",
       "                            País           Tipo  \n",
       "0      Internacional + Argentina  Internacional  \n",
       "1    Internacional + El Salvador  Internacional  \n",
       "3       Internacional + Colombia  Internacional  \n",
       "5    Internacional + El Salvador  Internacional  \n",
       "6       Internacional + Colombia  Internacional  \n",
       "..                           ...            ...  \n",
       "586                       México       Nacional  \n",
       "587                       México       Nacional  \n",
       "589                       México       Nacional  \n",
       "593                       México       Nacional  \n",
       "594                  El Salvador       Nacional  \n",
       "\n",
       "[225 rows x 9 columns]"
      ]
     },
     "execution_count": 14,
     "metadata": {},
     "output_type": "execute_result"
    }
   ],
   "source": [
    "# mostrar duplicados\n",
    "\n",
    "com_anuales[com_anuales.duplicated(subset=\"Link del Video\", keep=False)]"
   ]
  },
  {
   "cell_type": "code",
   "execution_count": 16,
   "metadata": {},
   "outputs": [
    {
     "data": {
      "text/html": [
       "<div>\n",
       "<style scoped>\n",
       "    .dataframe tbody tr th:only-of-type {\n",
       "        vertical-align: middle;\n",
       "    }\n",
       "\n",
       "    .dataframe tbody tr th {\n",
       "        vertical-align: top;\n",
       "    }\n",
       "\n",
       "    .dataframe thead th {\n",
       "        text-align: right;\n",
       "    }\n",
       "</style>\n",
       "<table border=\"1\" class=\"dataframe\">\n",
       "  <thead>\n",
       "    <tr style=\"text-align: right;\">\n",
       "      <th></th>\n",
       "      <th>Nombre del Video</th>\n",
       "      <th>Link del Video</th>\n",
       "      <th>Numero de Comentarios</th>\n",
       "      <th>Duración del Video</th>\n",
       "      <th>Fecha del Video</th>\n",
       "      <th>Nombre del noticiero</th>\n",
       "      <th>Query</th>\n",
       "      <th>País</th>\n",
       "      <th>Tipo</th>\n",
       "    </tr>\n",
       "  </thead>\n",
       "  <tbody>\n",
       "    <tr>\n",
       "      <th>0</th>\n",
       "      <td>Una región, dos posturas: en Davos, Milei y Pe...</td>\n",
       "      <td>https://www.youtube.com/watch?v=hUB9Bbmh58I</td>\n",
       "      <td>871</td>\n",
       "      <td>PT6M29S</td>\n",
       "      <td>2024-01-18T01:53:49Z</td>\n",
       "      <td>France 24 Español</td>\n",
       "      <td>Argentina Alberto Fernández presidente</td>\n",
       "      <td>Internacional + Argentina</td>\n",
       "      <td>Internacional</td>\n",
       "    </tr>\n",
       "    <tr>\n",
       "      <th>1</th>\n",
       "      <td>El modelo Bukele: represión popular que seduce...</td>\n",
       "      <td>https://www.youtube.com/watch?v=WRYg1D--nDw</td>\n",
       "      <td>813</td>\n",
       "      <td>PT27M8S</td>\n",
       "      <td>2024-01-29T13:27:16Z</td>\n",
       "      <td>France 24 Español</td>\n",
       "      <td>El Salvador Nayib Bukele presidente</td>\n",
       "      <td>Internacional + El Salvador</td>\n",
       "      <td>Internacional</td>\n",
       "    </tr>\n",
       "    <tr>\n",
       "      <th>3</th>\n",
       "      <td>Una región, dos posturas: en Davos, Milei y Pe...</td>\n",
       "      <td>https://www.youtube.com/watch?v=hUB9Bbmh58I</td>\n",
       "      <td>871</td>\n",
       "      <td>PT6M29S</td>\n",
       "      <td>2024-01-18T01:53:49Z</td>\n",
       "      <td>France 24 Español</td>\n",
       "      <td>Colombia Gustavo Petro presidente</td>\n",
       "      <td>Internacional + Colombia</td>\n",
       "      <td>Internacional</td>\n",
       "    </tr>\n",
       "    <tr>\n",
       "      <th>5</th>\n",
       "      <td>Presidente de Ecuador, Daniel Noboa, anuncia e...</td>\n",
       "      <td>https://www.youtube.com/watch?v=QlefwZUQUTg</td>\n",
       "      <td>1945</td>\n",
       "      <td>PT2M</td>\n",
       "      <td>2024-01-10T18:01:49Z</td>\n",
       "      <td>Telemundo</td>\n",
       "      <td>El Salvador Nayib Bukele presidente</td>\n",
       "      <td>Internacional + El Salvador</td>\n",
       "      <td>Internacional</td>\n",
       "    </tr>\n",
       "    <tr>\n",
       "      <th>6</th>\n",
       "      <td>Impresionante video del momento del fatídico d...</td>\n",
       "      <td>https://www.youtube.com/watch?v=813ggEX6rfE</td>\n",
       "      <td>584</td>\n",
       "      <td>PT11M44S</td>\n",
       "      <td>2024-01-13T05:34:46Z</td>\n",
       "      <td>Telemundo</td>\n",
       "      <td>Colombia Gustavo Petro presidente</td>\n",
       "      <td>Internacional + Colombia</td>\n",
       "      <td>Internacional</td>\n",
       "    </tr>\n",
       "    <tr>\n",
       "      <th>...</th>\n",
       "      <td>...</td>\n",
       "      <td>...</td>\n",
       "      <td>...</td>\n",
       "      <td>...</td>\n",
       "      <td>...</td>\n",
       "      <td>...</td>\n",
       "      <td>...</td>\n",
       "      <td>...</td>\n",
       "      <td>...</td>\n",
       "    </tr>\n",
       "    <tr>\n",
       "      <th>586</th>\n",
       "      <td>\"Ha sido una paliza\": Ciro Gómez Leyva sobre e...</td>\n",
       "      <td>https://www.youtube.com/watch?v=JS1OAY7dvVk</td>\n",
       "      <td>10716</td>\n",
       "      <td>PT9M7S</td>\n",
       "      <td>2024-06-03T06:13:38Z</td>\n",
       "      <td>Imagen Televisión</td>\n",
       "      <td>México Andrés Manuel López Obrador presidente</td>\n",
       "      <td>México</td>\n",
       "      <td>Nacional</td>\n",
       "    </tr>\n",
       "    <tr>\n",
       "      <th>587</th>\n",
       "      <td>La oposición en México: Irresponsable y con pe...</td>\n",
       "      <td>https://www.youtube.com/watch?v=VnCXNc3SfQQ</td>\n",
       "      <td>1933</td>\n",
       "      <td>PT3M52S</td>\n",
       "      <td>2024-06-05T13:52:11Z</td>\n",
       "      <td>Imagen Televisión</td>\n",
       "      <td>México Andrés Manuel López Obrador presidente</td>\n",
       "      <td>México</td>\n",
       "      <td>Nacional</td>\n",
       "    </tr>\n",
       "    <tr>\n",
       "      <th>589</th>\n",
       "      <td>Asesinaron a la candidata de Morena en Celaya,...</td>\n",
       "      <td>https://www.youtube.com/watch?v=gHzQxfH2moY</td>\n",
       "      <td>3672</td>\n",
       "      <td>PT8M38S</td>\n",
       "      <td>2024-04-02T04:41:46Z</td>\n",
       "      <td>Imagen Televisión</td>\n",
       "      <td>México Andrés Manuel López Obrador presidente</td>\n",
       "      <td>México</td>\n",
       "      <td>Nacional</td>\n",
       "    </tr>\n",
       "    <tr>\n",
       "      <th>593</th>\n",
       "      <td>Xóchitl Gálvez presenta sus propuestas económi...</td>\n",
       "      <td>https://www.youtube.com/watch?v=XJx5O_2X9nE</td>\n",
       "      <td>3030</td>\n",
       "      <td>PT8M20S</td>\n",
       "      <td>2024-04-20T02:40:28Z</td>\n",
       "      <td>Excélsior TV</td>\n",
       "      <td>México Andrés Manuel López Obrador presidente</td>\n",
       "      <td>México</td>\n",
       "      <td>Nacional</td>\n",
       "    </tr>\n",
       "    <tr>\n",
       "      <th>594</th>\n",
       "      <td>Nayib Bukele pide lealtad y sumisión a El Salv...</td>\n",
       "      <td>https://www.youtube.com/watch?v=KkW3rH8IgP4</td>\n",
       "      <td>119</td>\n",
       "      <td>PT3M16S</td>\n",
       "      <td>2024-06-02T01:33:37Z</td>\n",
       "      <td>Factum</td>\n",
       "      <td>El Salvador Nayib Bukele presidente</td>\n",
       "      <td>El Salvador</td>\n",
       "      <td>Nacional</td>\n",
       "    </tr>\n",
       "  </tbody>\n",
       "</table>\n",
       "<p>225 rows × 9 columns</p>\n",
       "</div>"
      ],
      "text/plain": [
       "                                      Nombre del Video  \\\n",
       "0    Una región, dos posturas: en Davos, Milei y Pe...   \n",
       "1    El modelo Bukele: represión popular que seduce...   \n",
       "3    Una región, dos posturas: en Davos, Milei y Pe...   \n",
       "5    Presidente de Ecuador, Daniel Noboa, anuncia e...   \n",
       "6    Impresionante video del momento del fatídico d...   \n",
       "..                                                 ...   \n",
       "586  \"Ha sido una paliza\": Ciro Gómez Leyva sobre e...   \n",
       "587  La oposición en México: Irresponsable y con pe...   \n",
       "589  Asesinaron a la candidata de Morena en Celaya,...   \n",
       "593  Xóchitl Gálvez presenta sus propuestas económi...   \n",
       "594  Nayib Bukele pide lealtad y sumisión a El Salv...   \n",
       "\n",
       "                                  Link del Video  Numero de Comentarios  \\\n",
       "0    https://www.youtube.com/watch?v=hUB9Bbmh58I                    871   \n",
       "1    https://www.youtube.com/watch?v=WRYg1D--nDw                    813   \n",
       "3    https://www.youtube.com/watch?v=hUB9Bbmh58I                    871   \n",
       "5    https://www.youtube.com/watch?v=QlefwZUQUTg                   1945   \n",
       "6    https://www.youtube.com/watch?v=813ggEX6rfE                    584   \n",
       "..                                           ...                    ...   \n",
       "586  https://www.youtube.com/watch?v=JS1OAY7dvVk                  10716   \n",
       "587  https://www.youtube.com/watch?v=VnCXNc3SfQQ                   1933   \n",
       "589  https://www.youtube.com/watch?v=gHzQxfH2moY                   3672   \n",
       "593  https://www.youtube.com/watch?v=XJx5O_2X9nE                   3030   \n",
       "594  https://www.youtube.com/watch?v=KkW3rH8IgP4                    119   \n",
       "\n",
       "    Duración del Video       Fecha del Video Nombre del noticiero  \\\n",
       "0              PT6M29S  2024-01-18T01:53:49Z    France 24 Español   \n",
       "1              PT27M8S  2024-01-29T13:27:16Z    France 24 Español   \n",
       "3              PT6M29S  2024-01-18T01:53:49Z    France 24 Español   \n",
       "5                 PT2M  2024-01-10T18:01:49Z            Telemundo   \n",
       "6             PT11M44S  2024-01-13T05:34:46Z            Telemundo   \n",
       "..                 ...                   ...                  ...   \n",
       "586             PT9M7S  2024-06-03T06:13:38Z    Imagen Televisión   \n",
       "587            PT3M52S  2024-06-05T13:52:11Z    Imagen Televisión   \n",
       "589            PT8M38S  2024-04-02T04:41:46Z    Imagen Televisión   \n",
       "593            PT8M20S  2024-04-20T02:40:28Z         Excélsior TV   \n",
       "594            PT3M16S  2024-06-02T01:33:37Z               Factum   \n",
       "\n",
       "                                             Query  \\\n",
       "0           Argentina Alberto Fernández presidente   \n",
       "1              El Salvador Nayib Bukele presidente   \n",
       "3                Colombia Gustavo Petro presidente   \n",
       "5              El Salvador Nayib Bukele presidente   \n",
       "6                Colombia Gustavo Petro presidente   \n",
       "..                                             ...   \n",
       "586  México Andrés Manuel López Obrador presidente   \n",
       "587  México Andrés Manuel López Obrador presidente   \n",
       "589  México Andrés Manuel López Obrador presidente   \n",
       "593  México Andrés Manuel López Obrador presidente   \n",
       "594            El Salvador Nayib Bukele presidente   \n",
       "\n",
       "                            País           Tipo  \n",
       "0      Internacional + Argentina  Internacional  \n",
       "1    Internacional + El Salvador  Internacional  \n",
       "3       Internacional + Colombia  Internacional  \n",
       "5    Internacional + El Salvador  Internacional  \n",
       "6       Internacional + Colombia  Internacional  \n",
       "..                           ...            ...  \n",
       "586                       México       Nacional  \n",
       "587                       México       Nacional  \n",
       "589                       México       Nacional  \n",
       "593                       México       Nacional  \n",
       "594                  El Salvador       Nacional  \n",
       "\n",
       "[225 rows x 9 columns]"
      ]
     },
     "execution_count": 16,
     "metadata": {},
     "output_type": "execute_result"
    }
   ],
   "source": [
    "# mostrar filas con el mismo link en general Y NOMBRE para identificar si son duplicados o no\n",
    "\n",
    "com_anuales[com_anuales.duplicated(subset=\"Link del Video\", keep=False) & com_anuales.duplicated(subset=\"Nombre del Video\", keep=False)]"
   ]
  },
  {
   "cell_type": "code",
   "execution_count": 9,
   "metadata": {},
   "outputs": [
    {
     "data": {
      "text/plain": [
       "666824"
      ]
     },
     "execution_count": 9,
     "metadata": {},
     "output_type": "execute_result"
    }
   ],
   "source": [
    "# drop completos con el mismo link \n",
    "com_anuales = com_anuales.drop_duplicates(subset=['Link del Video'])\n",
    "\n",
    "com_anuales[\"Numero de Comentarios\"].sum()"
   ]
  },
  {
   "cell_type": "code",
   "execution_count": 33,
   "metadata": {},
   "outputs": [],
   "source": [
    "com_anuales.to_csv(\"com_anuales_nd.csv\", index=False) # se almacena el archivo sin duplicados eb com_anuales_nd para la extraccion de comentarios"
   ]
  },
  {
   "cell_type": "code",
   "execution_count": 36,
   "metadata": {},
   "outputs": [
    {
     "name": "stderr",
     "output_type": "stream",
     "text": [
      "/var/folders/vz/gb8kps891y19rfdfwycr8ybr0000gn/T/ipykernel_90002/3339448812.py:5: SettingWithCopyWarning:\n",
      "\n",
      "\n",
      "A value is trying to be set on a copy of a slice from a DataFrame.\n",
      "Try using .loc[row_indexer,col_indexer] = value instead\n",
      "\n",
      "See the caveats in the documentation: https://pandas.pydata.org/pandas-docs/stable/user_guide/indexing.html#returning-a-view-versus-a-copy\n",
      "\n"
     ]
    },
    {
     "data": {
      "application/vnd.plotly.v1+json": {
       "config": {
        "plotlyServerURL": "https://plot.ly"
       },
       "data": [
        {
         "alignmentgroup": "True",
         "bingroup": "x",
         "hovertemplate": "Fecha del Video=%{x}<br>count=%{y}<extra></extra>",
         "legendgroup": "",
         "marker": {
          "color": "#636efa",
          "pattern": {
           "shape": ""
          }
         },
         "name": "",
         "offsetgroup": "",
         "orientation": "v",
         "showlegend": false,
         "type": "histogram",
         "x": [
          "2024-01-18T01:53:49+00:00",
          "2024-01-29T13:27:16+00:00",
          "2024-01-04T14:46:23+00:00",
          "2024-01-18T01:53:52+00:00",
          "2024-01-10T18:01:49+00:00",
          "2024-01-13T05:34:46+00:00",
          "2024-01-11T14:25:59+00:00",
          "2024-01-30T03:08:06+00:00",
          "2024-01-14T00:08:52+00:00",
          "2024-01-16T22:57:54+00:00",
          "2024-01-17T15:18:40+00:00",
          "2024-01-16T20:09:00+00:00",
          "2024-01-26T22:10:11+00:00",
          "2024-01-26T22:21:50+00:00",
          "2024-01-26T22:31:33+00:00",
          "2024-01-09T21:39:32+00:00",
          "2024-01-28T21:30:40+00:00",
          "2024-01-26T15:29:26+00:00",
          "2024-01-26T23:21:30+00:00",
          "2024-01-18T14:27:10+00:00",
          "2024-01-18T01:57:53+00:00",
          "2024-01-17T23:33:02+00:00",
          "2024-01-20T14:25:20+00:00",
          "2024-01-25T17:04:29+00:00",
          "2024-01-17T14:27:00+00:00",
          "2024-01-12T17:17:22+00:00",
          "2024-01-22T20:31:54+00:00",
          "2024-01-14T19:17:51+00:00",
          "2024-01-19T17:50:53+00:00",
          "2024-01-26T22:44:18+00:00",
          "2024-01-24T20:20:41+00:00",
          "2024-01-07T13:52:23+00:00",
          "2024-01-28T13:39:29+00:00",
          "2024-01-07T16:42:39+00:00",
          "2024-01-04T23:00:05+00:00",
          "2024-01-05T00:00:19+00:00",
          "2024-01-06T06:25:19+00:00",
          "2024-01-31T17:06:56+00:00",
          "2024-01-29T16:17:17+00:00",
          "2024-01-13T16:39:54+00:00",
          "2024-01-09T13:44:45+00:00",
          "2024-01-25T07:03:03+00:00",
          "2024-01-10T22:00:50+00:00",
          "2024-01-17T22:45:11+00:00",
          "2024-01-03T23:00:00+00:00",
          "2024-01-22T21:40:00+00:00",
          "2024-01-09T20:00:43+00:00",
          "2024-01-25T02:15:00+00:00",
          "2024-01-27T21:38:08+00:00",
          "2024-01-31T06:22:20+00:00",
          "2024-01-12T16:43:30+00:00",
          "2024-01-13T06:22:00+00:00",
          "2024-01-18T00:01:02+00:00",
          "2024-01-12T06:06:41+00:00",
          "2024-01-30T05:23:53+00:00",
          "2024-01-20T04:44:04+00:00",
          "2024-01-27T03:02:17+00:00",
          "2024-02-05T05:02:35+00:00",
          "2024-02-06T12:30:20+00:00",
          "2024-02-05T02:12:03+00:00",
          "2024-02-03T18:10:24+00:00",
          "2024-02-03T01:32:02+00:00",
          "2024-02-18T22:56:28+00:00",
          "2024-02-27T12:27:23+00:00",
          "2024-02-12T20:17:59+00:00",
          "2024-02-08T19:54:20+00:00",
          "2024-02-03T20:19:08+00:00",
          "2024-02-23T21:26:44+00:00",
          "2024-02-09T16:01:12+00:00",
          "2024-02-02T19:34:30+00:00",
          "2024-02-01T00:16:58+00:00",
          "2024-02-14T21:15:13+00:00",
          "2024-02-29T19:00:52+00:00",
          "2024-02-12T18:47:29+00:00",
          "2024-02-14T14:25:31+00:00",
          "2024-02-09T01:01:34+00:00",
          "2024-02-29T20:29:50+00:00",
          "2024-02-05T01:55:45+00:00",
          "2024-02-06T01:20:04+00:00",
          "2024-02-06T12:27:09+00:00",
          "2024-02-05T01:23:09+00:00",
          "2024-02-07T17:44:30+00:00",
          "2024-02-24T00:59:52+00:00",
          "2024-02-09T21:41:46+00:00",
          "2024-02-14T23:46:38+00:00",
          "2024-02-20T01:07:54+00:00",
          "2024-02-15T01:09:56+00:00",
          "2024-02-09T15:47:16+00:00",
          "2024-02-05T13:06:56+00:00",
          "2024-02-24T21:48:04+00:00",
          "2024-02-05T17:44:36+00:00",
          "2024-02-26T13:29:49+00:00",
          "2024-02-29T20:40:56+00:00",
          "2024-02-15T18:15:41+00:00",
          "2024-02-04T18:24:14+00:00",
          "2024-02-23T19:27:09+00:00",
          "2024-02-07T21:13:13+00:00",
          "2024-02-08T20:31:26+00:00",
          "2024-02-09T01:39:58+00:00",
          "2024-02-04T02:54:18+00:00",
          "2024-02-23T18:00:28+00:00",
          "2024-02-12T14:24:53+00:00",
          "2024-02-20T18:00:20+00:00",
          "2024-02-14T17:00:32+00:00",
          "2024-02-23T04:17:06+00:00",
          "2024-02-08T18:51:44+00:00",
          "2024-02-05T15:56:14+00:00",
          "2024-02-08T05:52:52+00:00",
          "2024-02-03T17:52:06+00:00",
          "2024-02-23T16:01:01+00:00",
          "2024-02-10T19:21:23+00:00",
          "2024-02-29T05:27:53+00:00",
          "2024-02-25T18:07:01+00:00",
          "2024-02-09T02:45:00+00:00",
          "2024-02-21T05:20:00+00:00",
          "2024-02-27T23:39:55+00:00",
          "2024-02-09T05:20:00+00:00",
          "2024-02-09T22:24:25+00:00",
          "2024-02-01T04:26:38+00:00",
          "2024-02-03T03:36:33+00:00",
          "2024-02-06T11:51:40+00:00",
          "2024-02-03T03:09:39+00:00",
          "2024-02-05T01:03:30+00:00",
          "2024-02-04T16:52:39+00:00",
          "2024-02-06T03:19:05+00:00",
          "2024-02-05T14:45:52+00:00",
          "2024-02-22T22:13:25+00:00",
          "2024-02-23T19:09:54+00:00",
          "2024-02-15T14:31:41+00:00",
          "2024-02-05T05:10:25+00:00",
          "2024-02-06T18:31:20+00:00",
          "2024-02-22T04:38:19+00:00",
          "2024-02-24T06:22:57+00:00",
          "2024-02-07T14:35:20+00:00",
          "2024-02-23T06:22:07+00:00",
          "2024-02-06T03:02:34+00:00",
          "2024-02-12T22:43:02+00:00",
          "2024-02-09T18:40:44+00:00",
          "2024-03-01T16:00:24+00:00",
          "2024-03-28T01:24:43+00:00",
          "2024-03-10T19:38:10+00:00",
          "2024-03-21T13:38:06+00:00",
          "2024-03-04T20:59:45+00:00",
          "2024-03-25T19:50:05+00:00",
          "2024-03-14T01:23:24+00:00",
          "2024-03-01T02:13:10+00:00",
          "2024-03-01T00:57:43+00:00",
          "2024-03-28T00:32:56+00:00",
          "2024-03-24T11:33:29+00:00",
          "2024-03-04T15:36:23+00:00",
          "2024-03-28T12:54:10+00:00",
          "2024-03-29T02:57:54+00:00",
          "2024-03-02T01:57:09+00:00",
          "2024-03-01T19:31:30+00:00",
          "2024-03-06T14:58:22+00:00",
          "2024-03-12T20:46:36+00:00",
          "2024-03-30T01:54:18+00:00",
          "2024-03-01T23:30:09+00:00",
          "2024-03-01T15:35:54+00:00",
          "2024-03-04T23:28:58+00:00",
          "2024-03-26T12:11:37+00:00",
          "2024-03-11T13:12:13+00:00",
          "2024-03-02T02:08:09+00:00",
          "2024-03-08T02:12:04+00:00",
          "2024-03-03T23:51:16+00:00",
          "2024-03-24T23:47:00+00:00",
          "2024-03-07T02:51:38+00:00",
          "2024-03-06T14:33:17+00:00",
          "2024-03-06T21:14:13+00:00",
          "2024-03-27T22:33:30+00:00",
          "2024-03-28T21:49:00+00:00",
          "2024-03-27T23:33:12+00:00",
          "2024-03-28T17:27:11+00:00",
          "2024-03-29T14:09:50+00:00",
          "2024-03-05T00:30:15+00:00",
          "2024-03-01T18:50:01+00:00",
          "2024-03-01T18:25:34+00:00",
          "2024-03-04T17:32:32+00:00",
          "2024-03-02T04:19:35+00:00",
          "2024-03-04T20:30:14+00:00",
          "2024-03-06T17:00:54+00:00",
          "2024-03-27T15:13:16+00:00",
          "2024-03-15T01:44:29+00:00",
          "2024-03-19T00:06:23+00:00",
          "2024-03-20T01:00:17+00:00",
          "2024-03-20T22:41:11+00:00",
          "2024-03-23T13:59:48+00:00",
          "2024-03-22T14:00:43+00:00",
          "2024-03-30T16:34:21+00:00",
          "2024-03-21T00:00:33+00:00",
          "2024-03-06T00:00:20+00:00",
          "2024-03-20T00:00:34+00:00",
          "2024-03-30T12:42:43+00:00",
          "2024-03-29T14:09:37+00:00",
          "2024-03-29T14:14:56+00:00",
          "2024-03-21T06:10:41+00:00",
          "2024-03-27T00:40:51+00:00",
          "2024-03-25T16:19:41+00:00",
          "2024-03-02T06:34:18+00:00",
          "2024-03-02T20:00:15+00:00",
          "2024-03-03T06:55:59+00:00",
          "2024-03-30T05:02:17+00:00",
          "2024-03-28T17:31:12+00:00",
          "2024-03-10T16:07:02+00:00",
          "2024-03-03T05:00:06+00:00",
          "2024-03-17T15:04:44+00:00",
          "2024-03-07T04:00:04+00:00",
          "2024-03-05T14:00:19+00:00",
          "2024-03-10T01:00:31+00:00",
          "2024-03-13T00:11:20+00:00",
          "2024-03-25T22:23:30+00:00",
          "2024-03-14T14:49:13+00:00",
          "2024-03-29T04:57:35+00:00",
          "2024-03-28T05:23:16+00:00",
          "2024-03-12T18:52:33+00:00",
          "2024-03-02T06:17:05+00:00",
          "2024-03-22T16:52:50+00:00",
          "2024-03-06T04:43:55+00:00",
          "2024-03-28T05:08:22+00:00",
          "2024-04-06T18:57:19+00:00",
          "2024-04-07T17:19:03+00:00",
          "2024-04-17T00:37:05+00:00",
          "2024-04-06T23:01:50+00:00",
          "2024-04-11T13:45:31+00:00",
          "2024-04-06T15:32:45+00:00",
          "2024-04-06T03:24:29+00:00",
          "2024-04-25T14:44:03+00:00",
          "2024-04-24T20:05:06+00:00",
          "2024-04-20T23:27:01+00:00",
          "2024-04-22T02:06:25+00:00",
          "2024-04-21T20:27:55+00:00",
          "2024-04-18T20:50:24+00:00",
          "2024-04-27T22:13:54+00:00",
          "2024-04-27T19:37:08+00:00",
          "2024-04-25T13:43:35+00:00",
          "2024-04-16T15:15:42+00:00",
          "2024-04-01T01:18:39+00:00",
          "2024-04-08T15:37:16+00:00",
          "2024-04-23T00:28:21+00:00",
          "2024-04-06T19:50:57+00:00",
          "2024-04-16T19:08:01+00:00",
          "2024-04-03T01:40:34+00:00",
          "2024-04-05T20:18:08+00:00",
          "2024-04-08T21:28:03+00:00",
          "2024-04-16T22:45:34+00:00",
          "2024-04-04T23:02:02+00:00",
          "2024-04-22T13:35:48+00:00",
          "2024-04-25T21:52:03+00:00",
          "2024-04-10T01:14:21+00:00",
          "2024-04-01T02:34:29+00:00",
          "2024-04-01T17:06:25+00:00",
          "2024-04-02T21:16:29+00:00",
          "2024-04-30T03:21:39+00:00",
          "2024-04-10T21:25:45+00:00",
          "2024-04-18T19:49:01+00:00",
          "2024-04-03T22:12:34+00:00",
          "2024-04-23T16:00:39+00:00",
          "2024-04-18T19:17:12+00:00",
          "2024-04-22T12:00:04+00:00",
          "2024-04-19T17:00:32+00:00",
          "2024-04-06T14:50:32+00:00",
          "2024-04-07T12:28:54+00:00",
          "2024-04-12T18:00:09+00:00",
          "2024-04-18T23:00:09+00:00",
          "2024-04-22T02:04:06+00:00",
          "2024-04-28T14:31:58+00:00",
          "2024-04-02T22:42:07+00:00",
          "2024-04-09T15:54:40+00:00",
          "2024-04-09T05:30:08+00:00",
          "2024-04-06T06:16:19+00:00",
          "2024-04-06T06:03:23+00:00",
          "2024-04-06T20:06:50+00:00",
          "2024-04-15T23:18:59+00:00",
          "2024-04-29T05:15:18+00:00",
          "2024-04-08T16:26:31+00:00",
          "2024-04-06T18:08:15+00:00",
          "2024-04-07T14:42:51+00:00",
          "2024-04-10T22:41:18+00:00",
          "2024-04-06T05:15:26+00:00",
          "2024-04-09T08:00:25+00:00",
          "2024-04-23T00:05:55+00:00",
          "2024-04-02T05:45:02+00:00",
          "2024-04-25T04:35:22+00:00",
          "2024-04-06T17:30:30+00:00",
          "2024-04-09T05:58:44+00:00",
          "2024-04-12T05:20:00+00:00",
          "2024-04-06T20:20:55+00:00",
          "2024-04-08T22:21:37+00:00",
          "2024-04-06T21:53:43+00:00",
          "2024-04-06T19:22:52+00:00",
          "2024-04-11T00:44:46+00:00",
          "2024-04-01T19:13:29+00:00",
          "2024-04-10T10:10:11+00:00",
          "2024-04-29T16:28:52+00:00",
          "2024-04-25T00:30:14+00:00",
          "2024-04-23T18:32:03+00:00",
          "2024-04-17T02:00:13+00:00",
          "2024-04-08T14:40:32+00:00",
          "2024-04-06T04:58:17+00:00",
          "2024-04-05T19:04:42+00:00",
          "2024-04-06T07:05:20+00:00",
          "2024-04-10T17:09:31+00:00",
          "2024-04-08T19:04:07+00:00",
          "2024-04-02T04:41:46+00:00",
          "2024-04-09T05:23:33+00:00",
          "2024-04-06T20:33:13+00:00",
          "2024-04-20T05:20:11+00:00",
          "2024-04-10T13:45:00+00:00",
          "2024-04-08T05:42:39+00:00",
          "2024-04-20T02:40:28+00:00",
          "2024-04-06T20:10:10+00:00",
          "2024-05-03T17:56:51+00:00",
          "2024-05-03T01:49:54+00:00",
          "2024-05-01T21:01:07+00:00",
          "2024-05-26T14:39:28+00:00",
          "2024-05-14T21:07:34+00:00",
          "2024-05-24T15:55:28+00:00",
          "2024-05-28T14:37:26+00:00",
          "2024-05-23T14:03:44+00:00",
          "2024-05-06T01:54:40+00:00",
          "2024-05-28T22:23:57+00:00",
          "2024-05-01T19:11:19+00:00",
          "2024-05-07T20:06:31+00:00",
          "2024-05-27T22:59:05+00:00",
          "2024-05-10T23:47:08+00:00",
          "2024-05-28T21:44:50+00:00",
          "2024-05-10T20:38:11+00:00",
          "2024-05-02T02:05:46+00:00",
          "2024-05-02T21:30:00+00:00",
          "2024-05-03T09:57:42+00:00",
          "2024-05-21T12:34:36+00:00",
          "2024-05-24T00:56:45+00:00",
          "2024-05-25T19:14:41+00:00",
          "2024-05-23T00:26:56+00:00",
          "2024-05-23T01:32:57+00:00",
          "2024-05-20T12:17:56+00:00",
          "2024-05-21T14:39:45+00:00",
          "2024-05-17T13:41:22+00:00",
          "2024-05-13T01:48:49+00:00",
          "2024-05-16T02:50:28+00:00",
          "2024-05-17T00:06:12+00:00",
          "2024-05-01T18:40:29+00:00",
          "2024-05-28T22:38:43+00:00",
          "2024-05-20T18:53:02+00:00",
          "2024-05-13T17:08:58+00:00",
          "2024-05-04T00:31:54+00:00",
          "2024-05-23T23:10:44+00:00",
          "2024-05-02T19:00:16+00:00",
          "2024-05-19T14:16:50+00:00",
          "2024-05-22T18:00:03+00:00",
          "2024-05-22T17:00:16+00:00",
          "2024-05-02T02:16:53+00:00",
          "2024-05-26T02:04:46+00:00",
          "2024-05-21T23:00:31+00:00",
          "2024-05-20T05:13:13+00:00",
          "2024-05-21T06:09:00+00:00",
          "2024-05-04T06:46:36+00:00",
          "2024-05-14T06:05:34+00:00",
          "2024-05-02T06:22:04+00:00",
          "2024-05-28T05:40:00+00:00",
          "2024-05-30T01:00:06+00:00",
          "2024-05-24T04:54:44+00:00",
          "2024-05-10T05:35:00+00:00",
          "2024-05-02T04:57:23+00:00",
          "2024-05-31T19:11:21+00:00",
          "2024-05-06T20:00:17+00:00",
          "2024-05-26T02:00:21+00:00",
          "2024-05-21T04:00:36+00:00",
          "2024-05-14T04:00:29+00:00",
          "2024-05-15T04:00:34+00:00",
          "2024-05-03T06:14:52+00:00",
          "2024-05-20T04:13:24+00:00",
          "2024-05-30T17:59:02+00:00",
          "2024-05-23T04:54:08+00:00",
          "2024-05-24T05:52:09+00:00",
          "2024-05-31T17:52:15+00:00",
          "2024-05-20T04:44:35+00:00",
          "2024-05-20T05:10:25+00:00",
          "2024-05-02T18:00:19+00:00",
          "2024-05-29T16:00:51+00:00",
          "2024-05-03T22:46:13+00:00",
          "2024-06-03T13:17:18+00:00",
          "2024-06-03T16:52:06+00:00",
          "2024-06-25T16:41:34+00:00",
          "2024-06-15T21:26:30+00:00",
          "2024-06-03T07:52:48+00:00",
          "2024-06-13T22:19:04+00:00",
          "2024-06-18T15:20:31+00:00",
          "2024-06-08T19:49:21+00:00",
          "2024-06-15T04:42:37+00:00",
          "2024-06-29T00:26:05+00:00",
          "2024-06-11T02:42:26+00:00",
          "2024-06-03T10:36:28+00:00",
          "2024-06-14T12:51:16+00:00",
          "2024-06-20T12:45:46+00:00",
          "2024-06-26T23:25:17+00:00",
          "2024-06-01T13:23:48+00:00",
          "2024-06-01T12:31:21+00:00",
          "2024-06-03T11:49:52+00:00",
          "2024-06-01T19:44:10+00:00",
          "2024-06-04T13:45:49+00:00",
          "2024-06-04T01:35:02+00:00",
          "2024-06-13T04:43:06+00:00",
          "2024-06-13T02:18:51+00:00",
          "2024-06-11T22:32:19+00:00",
          "2024-06-25T02:09:43+00:00",
          "2024-06-04T02:23:05+00:00",
          "2024-06-01T17:03:01+00:00",
          "2024-06-01T16:35:47+00:00",
          "2024-06-01T11:45:46+00:00",
          "2024-06-17T02:57:56+00:00",
          "2024-06-01T12:00:08+00:00",
          "2024-06-03T12:19:32+00:00",
          "2024-06-08T00:00:11+00:00",
          "2024-06-14T01:41:38+00:00",
          "2024-06-07T11:57:36+00:00",
          "2024-06-06T23:02:32+00:00",
          "2024-06-03T19:17:21+00:00",
          "2024-06-03T14:25:42+00:00",
          "2024-06-14T21:43:14+00:00",
          "2024-06-14T19:08:19+00:00",
          "2024-06-24T14:30:11+00:00",
          "2024-06-12T18:44:53+00:00",
          "2024-06-22T14:00:00+00:00",
          "2024-06-14T23:40:57+00:00",
          "2024-06-10T02:05:55+00:00",
          "2024-06-27T23:00:19+00:00",
          "2024-06-24T12:53:35+00:00",
          "2024-06-07T18:00:31+00:00",
          "2024-06-16T02:04:20+00:00",
          "2024-06-24T04:03:52+00:00",
          "2024-06-23T05:08:56+00:00",
          "2024-06-08T18:02:56+00:00",
          "2024-06-03T23:34:05+00:00",
          "2024-06-07T05:42:27+00:00",
          "2024-06-04T22:24:24+00:00",
          "2024-06-03T21:06:18+00:00",
          "2024-06-03T15:44:16+00:00",
          "2024-06-03T21:35:35+00:00",
          "2024-06-06T05:00:19+00:00",
          "2024-06-03T01:11:22+00:00",
          "2024-06-26T21:51:11+00:00",
          "2024-06-04T17:30:02+00:00",
          "2024-06-07T16:30:10+00:00",
          "2024-06-03T01:29:11+00:00",
          "2024-06-03T04:48:08+00:00",
          "2024-06-04T22:49:34+00:00",
          "2024-06-26T21:45:25+00:00",
          "2024-06-04T05:05:54+00:00",
          "2024-06-05T04:30:21+00:00",
          "2024-06-10T17:16:13+00:00",
          "2024-06-03T06:21:42+00:00",
          "2024-06-07T14:28:09+00:00",
          "2024-06-19T23:25:43+00:00",
          "2024-06-03T04:20:13+00:00",
          "2024-06-03T08:07:55+00:00",
          "2024-06-03T06:13:38+00:00",
          "2024-06-03T07:10:56+00:00",
          "2024-06-04T05:52:41+00:00",
          "2024-06-05T13:52:11+00:00",
          "2024-06-03T04:12:21+00:00",
          "2024-06-03T07:10:44+00:00",
          "2024-06-04T04:47:13+00:00",
          "2024-06-18T05:05:53+00:00",
          "2024-06-02T01:33:37+00:00",
          "2024-06-03T22:04:13+00:00",
          "2024-07-05T15:00:09+00:00",
          "2024-06-04T05:14:06+00:00",
          "2024-07-02T18:00:24+00:00",
          "2024-07-03T03:00:02+00:00",
          "2024-07-04T01:15:01+00:00"
         ],
         "xaxis": "x",
         "yaxis": "y"
        }
       ],
       "layout": {
        "barmode": "relative",
        "legend": {
         "tracegroupgap": 0
        },
        "template": {
         "data": {
          "bar": [
           {
            "error_x": {
             "color": "#2a3f5f"
            },
            "error_y": {
             "color": "#2a3f5f"
            },
            "marker": {
             "line": {
              "color": "#E5ECF6",
              "width": 0.5
             },
             "pattern": {
              "fillmode": "overlay",
              "size": 10,
              "solidity": 0.2
             }
            },
            "type": "bar"
           }
          ],
          "barpolar": [
           {
            "marker": {
             "line": {
              "color": "#E5ECF6",
              "width": 0.5
             },
             "pattern": {
              "fillmode": "overlay",
              "size": 10,
              "solidity": 0.2
             }
            },
            "type": "barpolar"
           }
          ],
          "carpet": [
           {
            "aaxis": {
             "endlinecolor": "#2a3f5f",
             "gridcolor": "white",
             "linecolor": "white",
             "minorgridcolor": "white",
             "startlinecolor": "#2a3f5f"
            },
            "baxis": {
             "endlinecolor": "#2a3f5f",
             "gridcolor": "white",
             "linecolor": "white",
             "minorgridcolor": "white",
             "startlinecolor": "#2a3f5f"
            },
            "type": "carpet"
           }
          ],
          "choropleth": [
           {
            "colorbar": {
             "outlinewidth": 0,
             "ticks": ""
            },
            "type": "choropleth"
           }
          ],
          "contour": [
           {
            "colorbar": {
             "outlinewidth": 0,
             "ticks": ""
            },
            "colorscale": [
             [
              0,
              "#0d0887"
             ],
             [
              0.1111111111111111,
              "#46039f"
             ],
             [
              0.2222222222222222,
              "#7201a8"
             ],
             [
              0.3333333333333333,
              "#9c179e"
             ],
             [
              0.4444444444444444,
              "#bd3786"
             ],
             [
              0.5555555555555556,
              "#d8576b"
             ],
             [
              0.6666666666666666,
              "#ed7953"
             ],
             [
              0.7777777777777778,
              "#fb9f3a"
             ],
             [
              0.8888888888888888,
              "#fdca26"
             ],
             [
              1,
              "#f0f921"
             ]
            ],
            "type": "contour"
           }
          ],
          "contourcarpet": [
           {
            "colorbar": {
             "outlinewidth": 0,
             "ticks": ""
            },
            "type": "contourcarpet"
           }
          ],
          "heatmap": [
           {
            "colorbar": {
             "outlinewidth": 0,
             "ticks": ""
            },
            "colorscale": [
             [
              0,
              "#0d0887"
             ],
             [
              0.1111111111111111,
              "#46039f"
             ],
             [
              0.2222222222222222,
              "#7201a8"
             ],
             [
              0.3333333333333333,
              "#9c179e"
             ],
             [
              0.4444444444444444,
              "#bd3786"
             ],
             [
              0.5555555555555556,
              "#d8576b"
             ],
             [
              0.6666666666666666,
              "#ed7953"
             ],
             [
              0.7777777777777778,
              "#fb9f3a"
             ],
             [
              0.8888888888888888,
              "#fdca26"
             ],
             [
              1,
              "#f0f921"
             ]
            ],
            "type": "heatmap"
           }
          ],
          "heatmapgl": [
           {
            "colorbar": {
             "outlinewidth": 0,
             "ticks": ""
            },
            "colorscale": [
             [
              0,
              "#0d0887"
             ],
             [
              0.1111111111111111,
              "#46039f"
             ],
             [
              0.2222222222222222,
              "#7201a8"
             ],
             [
              0.3333333333333333,
              "#9c179e"
             ],
             [
              0.4444444444444444,
              "#bd3786"
             ],
             [
              0.5555555555555556,
              "#d8576b"
             ],
             [
              0.6666666666666666,
              "#ed7953"
             ],
             [
              0.7777777777777778,
              "#fb9f3a"
             ],
             [
              0.8888888888888888,
              "#fdca26"
             ],
             [
              1,
              "#f0f921"
             ]
            ],
            "type": "heatmapgl"
           }
          ],
          "histogram": [
           {
            "marker": {
             "pattern": {
              "fillmode": "overlay",
              "size": 10,
              "solidity": 0.2
             }
            },
            "type": "histogram"
           }
          ],
          "histogram2d": [
           {
            "colorbar": {
             "outlinewidth": 0,
             "ticks": ""
            },
            "colorscale": [
             [
              0,
              "#0d0887"
             ],
             [
              0.1111111111111111,
              "#46039f"
             ],
             [
              0.2222222222222222,
              "#7201a8"
             ],
             [
              0.3333333333333333,
              "#9c179e"
             ],
             [
              0.4444444444444444,
              "#bd3786"
             ],
             [
              0.5555555555555556,
              "#d8576b"
             ],
             [
              0.6666666666666666,
              "#ed7953"
             ],
             [
              0.7777777777777778,
              "#fb9f3a"
             ],
             [
              0.8888888888888888,
              "#fdca26"
             ],
             [
              1,
              "#f0f921"
             ]
            ],
            "type": "histogram2d"
           }
          ],
          "histogram2dcontour": [
           {
            "colorbar": {
             "outlinewidth": 0,
             "ticks": ""
            },
            "colorscale": [
             [
              0,
              "#0d0887"
             ],
             [
              0.1111111111111111,
              "#46039f"
             ],
             [
              0.2222222222222222,
              "#7201a8"
             ],
             [
              0.3333333333333333,
              "#9c179e"
             ],
             [
              0.4444444444444444,
              "#bd3786"
             ],
             [
              0.5555555555555556,
              "#d8576b"
             ],
             [
              0.6666666666666666,
              "#ed7953"
             ],
             [
              0.7777777777777778,
              "#fb9f3a"
             ],
             [
              0.8888888888888888,
              "#fdca26"
             ],
             [
              1,
              "#f0f921"
             ]
            ],
            "type": "histogram2dcontour"
           }
          ],
          "mesh3d": [
           {
            "colorbar": {
             "outlinewidth": 0,
             "ticks": ""
            },
            "type": "mesh3d"
           }
          ],
          "parcoords": [
           {
            "line": {
             "colorbar": {
              "outlinewidth": 0,
              "ticks": ""
             }
            },
            "type": "parcoords"
           }
          ],
          "pie": [
           {
            "automargin": true,
            "type": "pie"
           }
          ],
          "scatter": [
           {
            "fillpattern": {
             "fillmode": "overlay",
             "size": 10,
             "solidity": 0.2
            },
            "type": "scatter"
           }
          ],
          "scatter3d": [
           {
            "line": {
             "colorbar": {
              "outlinewidth": 0,
              "ticks": ""
             }
            },
            "marker": {
             "colorbar": {
              "outlinewidth": 0,
              "ticks": ""
             }
            },
            "type": "scatter3d"
           }
          ],
          "scattercarpet": [
           {
            "marker": {
             "colorbar": {
              "outlinewidth": 0,
              "ticks": ""
             }
            },
            "type": "scattercarpet"
           }
          ],
          "scattergeo": [
           {
            "marker": {
             "colorbar": {
              "outlinewidth": 0,
              "ticks": ""
             }
            },
            "type": "scattergeo"
           }
          ],
          "scattergl": [
           {
            "marker": {
             "colorbar": {
              "outlinewidth": 0,
              "ticks": ""
             }
            },
            "type": "scattergl"
           }
          ],
          "scattermapbox": [
           {
            "marker": {
             "colorbar": {
              "outlinewidth": 0,
              "ticks": ""
             }
            },
            "type": "scattermapbox"
           }
          ],
          "scatterpolar": [
           {
            "marker": {
             "colorbar": {
              "outlinewidth": 0,
              "ticks": ""
             }
            },
            "type": "scatterpolar"
           }
          ],
          "scatterpolargl": [
           {
            "marker": {
             "colorbar": {
              "outlinewidth": 0,
              "ticks": ""
             }
            },
            "type": "scatterpolargl"
           }
          ],
          "scatterternary": [
           {
            "marker": {
             "colorbar": {
              "outlinewidth": 0,
              "ticks": ""
             }
            },
            "type": "scatterternary"
           }
          ],
          "surface": [
           {
            "colorbar": {
             "outlinewidth": 0,
             "ticks": ""
            },
            "colorscale": [
             [
              0,
              "#0d0887"
             ],
             [
              0.1111111111111111,
              "#46039f"
             ],
             [
              0.2222222222222222,
              "#7201a8"
             ],
             [
              0.3333333333333333,
              "#9c179e"
             ],
             [
              0.4444444444444444,
              "#bd3786"
             ],
             [
              0.5555555555555556,
              "#d8576b"
             ],
             [
              0.6666666666666666,
              "#ed7953"
             ],
             [
              0.7777777777777778,
              "#fb9f3a"
             ],
             [
              0.8888888888888888,
              "#fdca26"
             ],
             [
              1,
              "#f0f921"
             ]
            ],
            "type": "surface"
           }
          ],
          "table": [
           {
            "cells": {
             "fill": {
              "color": "#EBF0F8"
             },
             "line": {
              "color": "white"
             }
            },
            "header": {
             "fill": {
              "color": "#C8D4E3"
             },
             "line": {
              "color": "white"
             }
            },
            "type": "table"
           }
          ]
         },
         "layout": {
          "annotationdefaults": {
           "arrowcolor": "#2a3f5f",
           "arrowhead": 0,
           "arrowwidth": 1
          },
          "autotypenumbers": "strict",
          "coloraxis": {
           "colorbar": {
            "outlinewidth": 0,
            "ticks": ""
           }
          },
          "colorscale": {
           "diverging": [
            [
             0,
             "#8e0152"
            ],
            [
             0.1,
             "#c51b7d"
            ],
            [
             0.2,
             "#de77ae"
            ],
            [
             0.3,
             "#f1b6da"
            ],
            [
             0.4,
             "#fde0ef"
            ],
            [
             0.5,
             "#f7f7f7"
            ],
            [
             0.6,
             "#e6f5d0"
            ],
            [
             0.7,
             "#b8e186"
            ],
            [
             0.8,
             "#7fbc41"
            ],
            [
             0.9,
             "#4d9221"
            ],
            [
             1,
             "#276419"
            ]
           ],
           "sequential": [
            [
             0,
             "#0d0887"
            ],
            [
             0.1111111111111111,
             "#46039f"
            ],
            [
             0.2222222222222222,
             "#7201a8"
            ],
            [
             0.3333333333333333,
             "#9c179e"
            ],
            [
             0.4444444444444444,
             "#bd3786"
            ],
            [
             0.5555555555555556,
             "#d8576b"
            ],
            [
             0.6666666666666666,
             "#ed7953"
            ],
            [
             0.7777777777777778,
             "#fb9f3a"
            ],
            [
             0.8888888888888888,
             "#fdca26"
            ],
            [
             1,
             "#f0f921"
            ]
           ],
           "sequentialminus": [
            [
             0,
             "#0d0887"
            ],
            [
             0.1111111111111111,
             "#46039f"
            ],
            [
             0.2222222222222222,
             "#7201a8"
            ],
            [
             0.3333333333333333,
             "#9c179e"
            ],
            [
             0.4444444444444444,
             "#bd3786"
            ],
            [
             0.5555555555555556,
             "#d8576b"
            ],
            [
             0.6666666666666666,
             "#ed7953"
            ],
            [
             0.7777777777777778,
             "#fb9f3a"
            ],
            [
             0.8888888888888888,
             "#fdca26"
            ],
            [
             1,
             "#f0f921"
            ]
           ]
          },
          "colorway": [
           "#636efa",
           "#EF553B",
           "#00cc96",
           "#ab63fa",
           "#FFA15A",
           "#19d3f3",
           "#FF6692",
           "#B6E880",
           "#FF97FF",
           "#FECB52"
          ],
          "font": {
           "color": "#2a3f5f"
          },
          "geo": {
           "bgcolor": "white",
           "lakecolor": "white",
           "landcolor": "#E5ECF6",
           "showlakes": true,
           "showland": true,
           "subunitcolor": "white"
          },
          "hoverlabel": {
           "align": "left"
          },
          "hovermode": "closest",
          "mapbox": {
           "style": "light"
          },
          "paper_bgcolor": "white",
          "plot_bgcolor": "#E5ECF6",
          "polar": {
           "angularaxis": {
            "gridcolor": "white",
            "linecolor": "white",
            "ticks": ""
           },
           "bgcolor": "#E5ECF6",
           "radialaxis": {
            "gridcolor": "white",
            "linecolor": "white",
            "ticks": ""
           }
          },
          "scene": {
           "xaxis": {
            "backgroundcolor": "#E5ECF6",
            "gridcolor": "white",
            "gridwidth": 2,
            "linecolor": "white",
            "showbackground": true,
            "ticks": "",
            "zerolinecolor": "white"
           },
           "yaxis": {
            "backgroundcolor": "#E5ECF6",
            "gridcolor": "white",
            "gridwidth": 2,
            "linecolor": "white",
            "showbackground": true,
            "ticks": "",
            "zerolinecolor": "white"
           },
           "zaxis": {
            "backgroundcolor": "#E5ECF6",
            "gridcolor": "white",
            "gridwidth": 2,
            "linecolor": "white",
            "showbackground": true,
            "ticks": "",
            "zerolinecolor": "white"
           }
          },
          "shapedefaults": {
           "line": {
            "color": "#2a3f5f"
           }
          },
          "ternary": {
           "aaxis": {
            "gridcolor": "white",
            "linecolor": "white",
            "ticks": ""
           },
           "baxis": {
            "gridcolor": "white",
            "linecolor": "white",
            "ticks": ""
           },
           "bgcolor": "#E5ECF6",
           "caxis": {
            "gridcolor": "white",
            "linecolor": "white",
            "ticks": ""
           }
          },
          "title": {
           "x": 0.05
          },
          "xaxis": {
           "automargin": true,
           "gridcolor": "white",
           "linecolor": "white",
           "ticks": "",
           "title": {
            "standoff": 15
           },
           "zerolinecolor": "white",
           "zerolinewidth": 2
          },
          "yaxis": {
           "automargin": true,
           "gridcolor": "white",
           "linecolor": "white",
           "ticks": "",
           "title": {
            "standoff": 15
           },
           "zerolinecolor": "white",
           "zerolinewidth": 2
          }
         }
        },
        "title": {
         "text": "Distribución de Fechas de Videos en com_anuales"
        },
        "xaxis": {
         "anchor": "y",
         "domain": [
          0,
          1
         ],
         "title": {
          "text": "Fecha del Video"
         }
        },
        "yaxis": {
         "anchor": "x",
         "domain": [
          0,
          1
         ],
         "title": {
          "text": "count"
         }
        }
       }
      }
     },
     "metadata": {},
     "output_type": "display_data"
    }
   ],
   "source": [
    "# graficar la distribucion de comentarios de com_anuales en el tiempo\n",
    "\n",
    "import plotly.express as px\n",
    "\n",
    "com_anuales[\"Fecha del Video\"] = pd.to_datetime(com_anuales[\"Fecha del Video\"])\n",
    "\n",
    "fig = px.histogram(com_anuales, x=\"Fecha del Video\", title=\"Distribución de Fechas de Videos en com_anuales\")\n",
    "\n",
    "fig.show()"
   ]
  },
  {
   "cell_type": "code",
   "execution_count": 37,
   "metadata": {},
   "outputs": [
    {
     "data": {
      "text/html": [
       "<div>\n",
       "<style scoped>\n",
       "    .dataframe tbody tr th:only-of-type {\n",
       "        vertical-align: middle;\n",
       "    }\n",
       "\n",
       "    .dataframe tbody tr th {\n",
       "        vertical-align: top;\n",
       "    }\n",
       "\n",
       "    .dataframe thead th {\n",
       "        text-align: right;\n",
       "    }\n",
       "</style>\n",
       "<table border=\"1\" class=\"dataframe\">\n",
       "  <thead>\n",
       "    <tr style=\"text-align: right;\">\n",
       "      <th></th>\n",
       "      <th>Nombre del Video</th>\n",
       "      <th>Link del Video</th>\n",
       "      <th>Numero de Comentarios</th>\n",
       "      <th>Duración del Video</th>\n",
       "      <th>Fecha del Video</th>\n",
       "      <th>Nombre del noticiero</th>\n",
       "      <th>Query</th>\n",
       "      <th>País</th>\n",
       "      <th>Tipo</th>\n",
       "    </tr>\n",
       "  </thead>\n",
       "  <tbody>\n",
       "    <tr>\n",
       "      <th>0</th>\n",
       "      <td>Una región, dos posturas: en Davos, Milei y Pe...</td>\n",
       "      <td>https://www.youtube.com/watch?v=hUB9Bbmh58I</td>\n",
       "      <td>871</td>\n",
       "      <td>PT6M29S</td>\n",
       "      <td>2024-01-18 01:53:49+00:00</td>\n",
       "      <td>France 24 Español</td>\n",
       "      <td>Argentina Alberto Fernández presidente</td>\n",
       "      <td>Internacional + Argentina</td>\n",
       "      <td>Internacional</td>\n",
       "    </tr>\n",
       "    <tr>\n",
       "      <th>1</th>\n",
       "      <td>El modelo Bukele: represión popular que seduce...</td>\n",
       "      <td>https://www.youtube.com/watch?v=WRYg1D--nDw</td>\n",
       "      <td>813</td>\n",
       "      <td>PT27M8S</td>\n",
       "      <td>2024-01-29 13:27:16+00:00</td>\n",
       "      <td>France 24 Español</td>\n",
       "      <td>El Salvador Nayib Bukele presidente</td>\n",
       "      <td>Internacional + El Salvador</td>\n",
       "      <td>Internacional</td>\n",
       "    </tr>\n",
       "    <tr>\n",
       "      <th>2</th>\n",
       "      <td>Bukele ordenó desmantelar un monumento del fin...</td>\n",
       "      <td>https://www.youtube.com/watch?v=ELfbIwDjcDU</td>\n",
       "      <td>154</td>\n",
       "      <td>PT1M29S</td>\n",
       "      <td>2024-01-04 14:46:23+00:00</td>\n",
       "      <td>France 24 Español</td>\n",
       "      <td>El Salvador Nayib Bukele presidente</td>\n",
       "      <td>Internacional + El Salvador</td>\n",
       "      <td>Internacional</td>\n",
       "    </tr>\n",
       "    <tr>\n",
       "      <th>4</th>\n",
       "      <td>Maneras opuestas de ver la economía: Milei y P...</td>\n",
       "      <td>https://www.youtube.com/watch?v=Zvhk-jDO33Y</td>\n",
       "      <td>592</td>\n",
       "      <td>PT1M41S</td>\n",
       "      <td>2024-01-18 01:53:52+00:00</td>\n",
       "      <td>France 24 Español</td>\n",
       "      <td>Colombia Gustavo Petro presidente</td>\n",
       "      <td>Internacional + Colombia</td>\n",
       "      <td>Internacional</td>\n",
       "    </tr>\n",
       "    <tr>\n",
       "      <th>5</th>\n",
       "      <td>Presidente de Ecuador, Daniel Noboa, anuncia e...</td>\n",
       "      <td>https://www.youtube.com/watch?v=QlefwZUQUTg</td>\n",
       "      <td>1945</td>\n",
       "      <td>PT2M</td>\n",
       "      <td>2024-01-10 18:01:49+00:00</td>\n",
       "      <td>Telemundo</td>\n",
       "      <td>El Salvador Nayib Bukele presidente</td>\n",
       "      <td>Internacional + El Salvador</td>\n",
       "      <td>Internacional</td>\n",
       "    </tr>\n",
       "    <tr>\n",
       "      <th>...</th>\n",
       "      <td>...</td>\n",
       "      <td>...</td>\n",
       "      <td>...</td>\n",
       "      <td>...</td>\n",
       "      <td>...</td>\n",
       "      <td>...</td>\n",
       "      <td>...</td>\n",
       "      <td>...</td>\n",
       "      <td>...</td>\n",
       "    </tr>\n",
       "    <tr>\n",
       "      <th>559</th>\n",
       "      <td>\"A Petro y otros les viene bien dinamitar el t...</td>\n",
       "      <td>https://www.youtube.com/watch?v=CzyEcdJZAls</td>\n",
       "      <td>172</td>\n",
       "      <td>PT38M20S</td>\n",
       "      <td>2024-07-05 15:00:09+00:00</td>\n",
       "      <td>El espectador</td>\n",
       "      <td>México Andrés Manuel López Obrador presidente</td>\n",
       "      <td>Colombia</td>\n",
       "      <td>Nacional</td>\n",
       "    </tr>\n",
       "    <tr>\n",
       "      <th>588</th>\n",
       "      <td>Las enseñanzas que nos dejó la elección de 202...</td>\n",
       "      <td>https://www.youtube.com/watch?v=4U1SI4NnNPU</td>\n",
       "      <td>837</td>\n",
       "      <td>PT1M1S</td>\n",
       "      <td>2024-06-04 05:14:06+00:00</td>\n",
       "      <td>Imagen Televisión</td>\n",
       "      <td>México Andrés Manuel López Obrador presidente</td>\n",
       "      <td>México</td>\n",
       "      <td>Nacional</td>\n",
       "    </tr>\n",
       "    <tr>\n",
       "      <th>590</th>\n",
       "      <td>¿Petro infiel? Presidente de Colombia es visto...</td>\n",
       "      <td>https://www.youtube.com/watch?v=shRcmPdEuCI</td>\n",
       "      <td>396</td>\n",
       "      <td>PT49S</td>\n",
       "      <td>2024-07-02 18:00:24+00:00</td>\n",
       "      <td>Excélsior TV</td>\n",
       "      <td>Colombia Gustavo Petro presidente</td>\n",
       "      <td>México</td>\n",
       "      <td>Nacional</td>\n",
       "    </tr>\n",
       "    <tr>\n",
       "      <th>591</th>\n",
       "      <td>¿Quién es Linda Yepes, la presentadora trans q...</td>\n",
       "      <td>https://www.youtube.com/watch?v=3BXUttfIrok</td>\n",
       "      <td>260</td>\n",
       "      <td>PT1M24S</td>\n",
       "      <td>2024-07-03 03:00:02+00:00</td>\n",
       "      <td>Excélsior TV</td>\n",
       "      <td>Colombia Gustavo Petro presidente</td>\n",
       "      <td>México</td>\n",
       "      <td>Nacional</td>\n",
       "    </tr>\n",
       "    <tr>\n",
       "      <th>592</th>\n",
       "      <td>Escándalo en Colombia: “Soy heterosexual”, dic...</td>\n",
       "      <td>https://www.youtube.com/watch?v=KEUH4oKd1N0</td>\n",
       "      <td>130</td>\n",
       "      <td>PT1M14S</td>\n",
       "      <td>2024-07-04 01:15:01+00:00</td>\n",
       "      <td>Excélsior TV</td>\n",
       "      <td>Colombia Gustavo Petro presidente</td>\n",
       "      <td>México</td>\n",
       "      <td>Nacional</td>\n",
       "    </tr>\n",
       "  </tbody>\n",
       "</table>\n",
       "<p>471 rows × 9 columns</p>\n",
       "</div>"
      ],
      "text/plain": [
       "                                      Nombre del Video  \\\n",
       "0    Una región, dos posturas: en Davos, Milei y Pe...   \n",
       "1    El modelo Bukele: represión popular que seduce...   \n",
       "2    Bukele ordenó desmantelar un monumento del fin...   \n",
       "4    Maneras opuestas de ver la economía: Milei y P...   \n",
       "5    Presidente de Ecuador, Daniel Noboa, anuncia e...   \n",
       "..                                                 ...   \n",
       "559  \"A Petro y otros les viene bien dinamitar el t...   \n",
       "588  Las enseñanzas que nos dejó la elección de 202...   \n",
       "590  ¿Petro infiel? Presidente de Colombia es visto...   \n",
       "591  ¿Quién es Linda Yepes, la presentadora trans q...   \n",
       "592  Escándalo en Colombia: “Soy heterosexual”, dic...   \n",
       "\n",
       "                                  Link del Video  Numero de Comentarios  \\\n",
       "0    https://www.youtube.com/watch?v=hUB9Bbmh58I                    871   \n",
       "1    https://www.youtube.com/watch?v=WRYg1D--nDw                    813   \n",
       "2    https://www.youtube.com/watch?v=ELfbIwDjcDU                    154   \n",
       "4    https://www.youtube.com/watch?v=Zvhk-jDO33Y                    592   \n",
       "5    https://www.youtube.com/watch?v=QlefwZUQUTg                   1945   \n",
       "..                                           ...                    ...   \n",
       "559  https://www.youtube.com/watch?v=CzyEcdJZAls                    172   \n",
       "588  https://www.youtube.com/watch?v=4U1SI4NnNPU                    837   \n",
       "590  https://www.youtube.com/watch?v=shRcmPdEuCI                    396   \n",
       "591  https://www.youtube.com/watch?v=3BXUttfIrok                    260   \n",
       "592  https://www.youtube.com/watch?v=KEUH4oKd1N0                    130   \n",
       "\n",
       "    Duración del Video           Fecha del Video Nombre del noticiero  \\\n",
       "0              PT6M29S 2024-01-18 01:53:49+00:00    France 24 Español   \n",
       "1              PT27M8S 2024-01-29 13:27:16+00:00    France 24 Español   \n",
       "2              PT1M29S 2024-01-04 14:46:23+00:00    France 24 Español   \n",
       "4              PT1M41S 2024-01-18 01:53:52+00:00    France 24 Español   \n",
       "5                 PT2M 2024-01-10 18:01:49+00:00            Telemundo   \n",
       "..                 ...                       ...                  ...   \n",
       "559           PT38M20S 2024-07-05 15:00:09+00:00        El espectador   \n",
       "588             PT1M1S 2024-06-04 05:14:06+00:00    Imagen Televisión   \n",
       "590              PT49S 2024-07-02 18:00:24+00:00         Excélsior TV   \n",
       "591            PT1M24S 2024-07-03 03:00:02+00:00         Excélsior TV   \n",
       "592            PT1M14S 2024-07-04 01:15:01+00:00         Excélsior TV   \n",
       "\n",
       "                                             Query  \\\n",
       "0           Argentina Alberto Fernández presidente   \n",
       "1              El Salvador Nayib Bukele presidente   \n",
       "2              El Salvador Nayib Bukele presidente   \n",
       "4                Colombia Gustavo Petro presidente   \n",
       "5              El Salvador Nayib Bukele presidente   \n",
       "..                                             ...   \n",
       "559  México Andrés Manuel López Obrador presidente   \n",
       "588  México Andrés Manuel López Obrador presidente   \n",
       "590              Colombia Gustavo Petro presidente   \n",
       "591              Colombia Gustavo Petro presidente   \n",
       "592              Colombia Gustavo Petro presidente   \n",
       "\n",
       "                            País           Tipo  \n",
       "0      Internacional + Argentina  Internacional  \n",
       "1    Internacional + El Salvador  Internacional  \n",
       "2    Internacional + El Salvador  Internacional  \n",
       "4       Internacional + Colombia  Internacional  \n",
       "5    Internacional + El Salvador  Internacional  \n",
       "..                           ...            ...  \n",
       "559                     Colombia       Nacional  \n",
       "588                       México       Nacional  \n",
       "590                       México       Nacional  \n",
       "591                       México       Nacional  \n",
       "592                       México       Nacional  \n",
       "\n",
       "[471 rows x 9 columns]"
      ]
     },
     "execution_count": 37,
     "metadata": {},
     "output_type": "execute_result"
    }
   ],
   "source": [
    "com_anuales"
   ]
  },
  {
   "cell_type": "code",
   "execution_count": 38,
   "metadata": {},
   "outputs": [
    {
     "name": "stderr",
     "output_type": "stream",
     "text": [
      "/var/folders/vz/gb8kps891y19rfdfwycr8ybr0000gn/T/ipykernel_90002/1093309040.py:3: SettingWithCopyWarning:\n",
      "\n",
      "\n",
      "A value is trying to be set on a copy of a slice from a DataFrame.\n",
      "Try using .loc[row_indexer,col_indexer] = value instead\n",
      "\n",
      "See the caveats in the documentation: https://pandas.pydata.org/pandas-docs/stable/user_guide/indexing.html#returning-a-view-versus-a-copy\n",
      "\n"
     ]
    }
   ],
   "source": [
    "# quitar la palabra internacional y el simbolo + de los valores de la columna pais para estructurar la informacion de manera correcta\n",
    "\n",
    "com_anuales[\"País\"] = com_anuales[\"País\"].str.replace(\"Internacional\", \"\").str.replace(\"+\", \"\").str.strip()"
   ]
  },
  {
   "cell_type": "code",
   "execution_count": 40,
   "metadata": {},
   "outputs": [
    {
     "data": {
      "text/plain": [
       "array(['Argentina', 'El Salvador', 'Colombia', 'México'], dtype=object)"
      ]
     },
     "execution_count": 40,
     "metadata": {},
     "output_type": "execute_result"
    }
   ],
   "source": [
    "com_anuales[\"País\"].unique()"
   ]
  },
  {
   "cell_type": "code",
   "execution_count": 6,
   "metadata": {},
   "outputs": [
    {
     "data": {
      "text/plain": [
       "Tipo           País       \n",
       "Internacional  Argentina        3732\n",
       "               Colombia        38260\n",
       "               El Salvador     12147\n",
       "               México           6243\n",
       "Nacional       Argentina      143047\n",
       "               Colombia        40414\n",
       "               El Salvador       621\n",
       "               México         422360\n",
       "Name: Numero de Comentarios, dtype: int64"
      ]
     },
     "execution_count": 6,
     "metadata": {},
     "output_type": "execute_result"
    }
   ],
   "source": [
    "com_anuales.groupby([\"Tipo\", \"País\"])[\"Numero de Comentarios\"].sum()\n"
   ]
  },
  {
   "cell_type": "code",
   "execution_count": 7,
   "metadata": {},
   "outputs": [
    {
     "data": {
      "text/plain": [
       "666824"
      ]
     },
     "execution_count": 7,
     "metadata": {},
     "output_type": "execute_result"
    }
   ],
   "source": [
    "com_anuales[\"Numero de Comentarios\"].sum()"
   ]
  },
  {
   "cell_type": "markdown",
   "metadata": {},
   "source": [
    "# Extracción de comentarios"
   ]
  },
  {
   "cell_type": "code",
   "execution_count": null,
   "metadata": {},
   "outputs": [],
   "source": [
    "com_anuales.head(10)"
   ]
  },
  {
   "cell_type": "code",
   "execution_count": 9,
   "metadata": {},
   "outputs": [],
   "source": [
    "com_anuales['ID del Video'] = com_anuales['Link del Video'].apply(lambda x: x.split('v=')[-1]) # se obtiene el ID del video de la URL de cada video"
   ]
  },
  {
   "cell_type": "code",
   "execution_count": null,
   "metadata": {},
   "outputs": [],
   "source": [
    "com_anuales"
   ]
  },
  {
   "cell_type": "code",
   "execution_count": 11,
   "metadata": {},
   "outputs": [],
   "source": [
    "from googleapiclient.discovery import build\n",
    "import pandas as pd"
   ]
  },
  {
   "cell_type": "code",
   "execution_count": 12,
   "metadata": {},
   "outputs": [],
   "source": [
    "api_key = \"your_api_key\"\n",
    "youtube = build('youtube', 'v3', developerKey=api_key)"
   ]
  },
  {
   "cell_type": "code",
   "execution_count": 13,
   "metadata": {},
   "outputs": [],
   "source": [
    "def get_video_comments(video_id):\n",
    "    comments_data = []\n",
    "    request = youtube.commentThreads().list(\n",
    "        part='snippet,replies', # se obtienen los metadatos de los comentarios\n",
    "        videoId=video_id, # se especifica el ID del video\n",
    "        maxResults=100 # se obtienen 100 comentarios por solicitud\n",
    "    )\n",
    "    response = request.execute()\n",
    "\n",
    "    while request is not None: # se recorren los comentarios de los videos y sus respuestas asociadas si las hay \n",
    "        for item in response['items']: # procesamiento de comentarios princiaples\n",
    "            comment = item['snippet']['topLevelComment']['snippet'] # se extrae la información del comentario\n",
    "            comment_data = {\n",
    "                'video_id': video_id, # se almacen el ID del video\n",
    "                'comment_id': item['id'], # se almacen el ID del comentario\n",
    "                'text': comment['textDisplay'], # se almacena el texto del comentario\n",
    "                'likes': comment['likeCount'], # se almacena el número de likes del comentario\n",
    "                'type': 'principal' # se almacena el tipo de comentario\n",
    "            }\n",
    "            comments_data.append(comment_data)\n",
    "            \n",
    "            if 'replies' in item: # procesamiento de respuestas a comentarios\n",
    "                for reply in item['replies']['comments']: # se recorren las respuestas a los comentarios\n",
    "                    reply_data = {\n",
    "                        'video_id': video_id, # se almacena el ID del video\n",
    "                        'comment_id': reply['id'], # se almacena el ID del comentario\n",
    "                        'text': reply['snippet']['textDisplay'], # se almacena el texto del comentario\n",
    "                        'likes': reply['snippet']['likeCount'], # se almacena el número de likes del comentario\n",
    "                        'type': 'reply' # se almacen el tipo de comentario\n",
    "                    }\n",
    "                    comments_data.append(reply_data)\n",
    "        \n",
    "        if 'nextPageToken' in response: # como los comentarios pueden ser muchos, se hace paginacion, para obtener los siguientes comentarios se usa el token de la siguiente pagina\n",
    "            request = youtube.commentThreads().list( # se realiza la solicitud para obtener los siguientes comentarios\n",
    "                part='snippet,replies', # se obtienen los metadatos de los comentarios\n",
    "                videoId=video_id, # se especifica el ID del video\n",
    "                pageToken=response['nextPageToken'], # se especifica el token de la siguiente página de comentarios a obtener \n",
    "                maxResults=100 # se obtienen 100 comentarios por solicitud\n",
    "            )\n",
    "            response = request.execute()\n",
    "        else:\n",
    "            request = None\n",
    "    return comments_data\n"
   ]
  },
  {
   "cell_type": "code",
   "execution_count": 14,
   "metadata": {},
   "outputs": [],
   "source": [
    "all_comments_df = pd.DataFrame(columns=['video_id', 'comment_id', 'text', 'likes', 'type']) # se crea un DataFrame vacío para almacenar los comentarios\n",
    "\n",
    "# Iterar sobre cada ID de video y extraer los comentarios\n",
    "for video_id in com_anuales['ID del Video']: # se recorren los IDs de los videos\n",
    "    comments = get_video_comments(video_id) # se obtienen los comentarios del video\n",
    "    video_comments_df = pd.DataFrame(comments) # se crea un DataFrame con los comentarios del video\n",
    "    all_comments_df = pd.concat([all_comments_df, video_comments_df], ignore_index=True) # se concatenan los comentarios del video al DataFrame principal de comentarios\n",
    "\n",
    "# Guardar el DataFrame en un archivo CSV\n",
    "all_comments_df.to_csv('comentarios_yt', index=False) # se almacenan los comentarios en un archivo CSV"
   ]
  },
  {
   "cell_type": "code",
   "execution_count": 16,
   "metadata": {},
   "outputs": [
    {
     "data": {
      "text/html": [
       "<div>\n",
       "<style scoped>\n",
       "    .dataframe tbody tr th:only-of-type {\n",
       "        vertical-align: middle;\n",
       "    }\n",
       "\n",
       "    .dataframe tbody tr th {\n",
       "        vertical-align: top;\n",
       "    }\n",
       "\n",
       "    .dataframe thead th {\n",
       "        text-align: right;\n",
       "    }\n",
       "</style>\n",
       "<table border=\"1\" class=\"dataframe\">\n",
       "  <thead>\n",
       "    <tr style=\"text-align: right;\">\n",
       "      <th></th>\n",
       "      <th>video_id</th>\n",
       "      <th>comment_id</th>\n",
       "      <th>text</th>\n",
       "      <th>likes</th>\n",
       "      <th>type</th>\n",
       "    </tr>\n",
       "  </thead>\n",
       "  <tbody>\n",
       "    <tr>\n",
       "      <th>0</th>\n",
       "      <td>hUB9Bbmh58I</td>\n",
       "      <td>UgxzYxtFuT8DX5IahFR4AaABAg</td>\n",
       "      <td>No hablo de socialismo, que falacias que sacan</td>\n",
       "      <td>0</td>\n",
       "      <td>principal</td>\n",
       "    </tr>\n",
       "    <tr>\n",
       "      <th>1</th>\n",
       "      <td>hUB9Bbmh58I</td>\n",
       "      <td>UgyMvKupk0keUaOWGeF4AaABAg</td>\n",
       "      <td>Vé, una pregunta: ¿Cuando Petro habló de socia...</td>\n",
       "      <td>0</td>\n",
       "      <td>principal</td>\n",
       "    </tr>\n",
       "    <tr>\n",
       "      <th>2</th>\n",
       "      <td>hUB9Bbmh58I</td>\n",
       "      <td>Ugzn5x-8V0cPAng1oYF4AaABAg</td>\n",
       "      <td>no entiendo porque quieren seguir vendiendo la...</td>\n",
       "      <td>0</td>\n",
       "      <td>principal</td>\n",
       "    </tr>\n",
       "    <tr>\n",
       "      <th>3</th>\n",
       "      <td>hUB9Bbmh58I</td>\n",
       "      <td>UgxXBXoLabae2Lb_vlB4AaABAg</td>\n",
       "      <td>Selor Lucumi,Me gustaría aclarar que la postur...</td>\n",
       "      <td>0</td>\n",
       "      <td>principal</td>\n",
       "    </tr>\n",
       "    <tr>\n",
       "      <th>4</th>\n",
       "      <td>hUB9Bbmh58I</td>\n",
       "      <td>UgyLqVixbjXvEfZXKSR4AaABAg</td>\n",
       "      <td>JAJAJAJA ESE PETRO ES UN PAYASO...</td>\n",
       "      <td>0</td>\n",
       "      <td>principal</td>\n",
       "    </tr>\n",
       "    <tr>\n",
       "      <th>...</th>\n",
       "      <td>...</td>\n",
       "      <td>...</td>\n",
       "      <td>...</td>\n",
       "      <td>...</td>\n",
       "      <td>...</td>\n",
       "    </tr>\n",
       "    <tr>\n",
       "      <th>588500</th>\n",
       "      <td>KEUH4oKd1N0</td>\n",
       "      <td>Ugz9n49-qrnTLL-dhBF4AaABAg.A5SPkX9Z_ZlA5UtNbnraqw</td>\n",
       "      <td>Será,  por el teléfono o por el djdjwiwowbe ja...</td>\n",
       "      <td>1</td>\n",
       "      <td>reply</td>\n",
       "    </tr>\n",
       "    <tr>\n",
       "      <th>588501</th>\n",
       "      <td>KEUH4oKd1N0</td>\n",
       "      <td>Ugw9VVDlOJ_lj91JsBx4AaABAg</td>\n",
       "      <td>Realidad de muchos, cogen hombres ricos pero s...</td>\n",
       "      <td>7</td>\n",
       "      <td>principal</td>\n",
       "    </tr>\n",
       "    <tr>\n",
       "      <th>588502</th>\n",
       "      <td>KEUH4oKd1N0</td>\n",
       "      <td>UgyEZZElbqo7A-024Jl4AaABAg</td>\n",
       "      <td>Un montaje totalmente Porque esos medios se va...</td>\n",
       "      <td>0</td>\n",
       "      <td>principal</td>\n",
       "    </tr>\n",
       "    <tr>\n",
       "      <th>588503</th>\n",
       "      <td>KEUH4oKd1N0</td>\n",
       "      <td>Ugw_EE7cruqg1axy0hl4AaABAg</td>\n",
       "      <td>Montaje.</td>\n",
       "      <td>4</td>\n",
       "      <td>principal</td>\n",
       "    </tr>\n",
       "    <tr>\n",
       "      <th>588504</th>\n",
       "      <td>KEUH4oKd1N0</td>\n",
       "      <td>UgwvsqcNx2Qs1sKsOW14AaABAg</td>\n",
       "      <td>Toda la elite es perversa</td>\n",
       "      <td>0</td>\n",
       "      <td>principal</td>\n",
       "    </tr>\n",
       "  </tbody>\n",
       "</table>\n",
       "<p>588505 rows × 5 columns</p>\n",
       "</div>"
      ],
      "text/plain": [
       "           video_id                                         comment_id  \\\n",
       "0       hUB9Bbmh58I                         UgxzYxtFuT8DX5IahFR4AaABAg   \n",
       "1       hUB9Bbmh58I                         UgyMvKupk0keUaOWGeF4AaABAg   \n",
       "2       hUB9Bbmh58I                         Ugzn5x-8V0cPAng1oYF4AaABAg   \n",
       "3       hUB9Bbmh58I                         UgxXBXoLabae2Lb_vlB4AaABAg   \n",
       "4       hUB9Bbmh58I                         UgyLqVixbjXvEfZXKSR4AaABAg   \n",
       "...             ...                                                ...   \n",
       "588500  KEUH4oKd1N0  Ugz9n49-qrnTLL-dhBF4AaABAg.A5SPkX9Z_ZlA5UtNbnraqw   \n",
       "588501  KEUH4oKd1N0                         Ugw9VVDlOJ_lj91JsBx4AaABAg   \n",
       "588502  KEUH4oKd1N0                         UgyEZZElbqo7A-024Jl4AaABAg   \n",
       "588503  KEUH4oKd1N0                         Ugw_EE7cruqg1axy0hl4AaABAg   \n",
       "588504  KEUH4oKd1N0                         UgwvsqcNx2Qs1sKsOW14AaABAg   \n",
       "\n",
       "                                                     text likes       type  \n",
       "0          No hablo de socialismo, que falacias que sacan     0  principal  \n",
       "1       Vé, una pregunta: ¿Cuando Petro habló de socia...     0  principal  \n",
       "2       no entiendo porque quieren seguir vendiendo la...     0  principal  \n",
       "3       Selor Lucumi,Me gustaría aclarar que la postur...     0  principal  \n",
       "4                      JAJAJAJA ESE PETRO ES UN PAYASO...     0  principal  \n",
       "...                                                   ...   ...        ...  \n",
       "588500  Será,  por el teléfono o por el djdjwiwowbe ja...     1      reply  \n",
       "588501  Realidad de muchos, cogen hombres ricos pero s...     7  principal  \n",
       "588502  Un montaje totalmente Porque esos medios se va...     0  principal  \n",
       "588503                                           Montaje.     4  principal  \n",
       "588504                          Toda la elite es perversa     0  principal  \n",
       "\n",
       "[588505 rows x 5 columns]"
      ]
     },
     "execution_count": 16,
     "metadata": {},
     "output_type": "execute_result"
    }
   ],
   "source": [
    "all_comments_df"
   ]
  },
  {
   "cell_type": "code",
   "execution_count": 1,
   "metadata": {},
   "outputs": [],
   "source": [
    "import pandas as pd"
   ]
  },
  {
   "cell_type": "code",
   "execution_count": 5,
   "metadata": {},
   "outputs": [],
   "source": [
    "comentarios = pd.read_csv(\"./data/complete/comentarios_videos.csv\")"
   ]
  },
  {
   "cell_type": "code",
   "execution_count": 6,
   "metadata": {},
   "outputs": [
    {
     "data": {
      "text/html": [
       "<div>\n",
       "<style scoped>\n",
       "    .dataframe tbody tr th:only-of-type {\n",
       "        vertical-align: middle;\n",
       "    }\n",
       "\n",
       "    .dataframe tbody tr th {\n",
       "        vertical-align: top;\n",
       "    }\n",
       "\n",
       "    .dataframe thead th {\n",
       "        text-align: right;\n",
       "    }\n",
       "</style>\n",
       "<table border=\"1\" class=\"dataframe\">\n",
       "  <thead>\n",
       "    <tr style=\"text-align: right;\">\n",
       "      <th></th>\n",
       "      <th>video_id</th>\n",
       "      <th>comment_id</th>\n",
       "      <th>Texto Comentario</th>\n",
       "      <th>likes</th>\n",
       "      <th>Tipo Comentaro</th>\n",
       "      <th>Nombre del Video</th>\n",
       "      <th>Link del Video</th>\n",
       "      <th>Numero de Comentarios</th>\n",
       "      <th>Duración del Video</th>\n",
       "      <th>Fecha del Video</th>\n",
       "      <th>Nombre del noticiero</th>\n",
       "      <th>Query</th>\n",
       "      <th>País</th>\n",
       "      <th>Tipo Noticiero</th>\n",
       "      <th>País_Medio</th>\n",
       "      <th>Duración en Minutos</th>\n",
       "      <th>Nombre del Presidente</th>\n",
       "    </tr>\n",
       "  </thead>\n",
       "  <tbody>\n",
       "    <tr>\n",
       "      <th>0</th>\n",
       "      <td>hUB9Bbmh58I</td>\n",
       "      <td>UgxzYxtFuT8DX5IahFR4AaABAg</td>\n",
       "      <td>No hablo de socialismo, que falacias que sacan</td>\n",
       "      <td>0.0</td>\n",
       "      <td>principal</td>\n",
       "      <td>Una región, dos posturas: en Davos, Milei y Pe...</td>\n",
       "      <td>https://www.youtube.com/watch?v=hUB9Bbmh58I</td>\n",
       "      <td>871</td>\n",
       "      <td>PT6M29S</td>\n",
       "      <td>2024-01-18 01:53:49+00:00</td>\n",
       "      <td>France 24 Español</td>\n",
       "      <td>Argentina Javier Milei presidente</td>\n",
       "      <td>Argentina</td>\n",
       "      <td>Internacional</td>\n",
       "      <td>Internacional</td>\n",
       "      <td>6.483333</td>\n",
       "      <td>Javier Milei</td>\n",
       "    </tr>\n",
       "    <tr>\n",
       "      <th>1</th>\n",
       "      <td>hUB9Bbmh58I</td>\n",
       "      <td>UgyMvKupk0keUaOWGeF4AaABAg</td>\n",
       "      <td>Vé, una pregunta: ¿Cuando Petro habló de socia...</td>\n",
       "      <td>0.0</td>\n",
       "      <td>principal</td>\n",
       "      <td>Una región, dos posturas: en Davos, Milei y Pe...</td>\n",
       "      <td>https://www.youtube.com/watch?v=hUB9Bbmh58I</td>\n",
       "      <td>871</td>\n",
       "      <td>PT6M29S</td>\n",
       "      <td>2024-01-18 01:53:49+00:00</td>\n",
       "      <td>France 24 Español</td>\n",
       "      <td>Argentina Javier Milei presidente</td>\n",
       "      <td>Argentina</td>\n",
       "      <td>Internacional</td>\n",
       "      <td>Internacional</td>\n",
       "      <td>6.483333</td>\n",
       "      <td>Javier Milei</td>\n",
       "    </tr>\n",
       "    <tr>\n",
       "      <th>2</th>\n",
       "      <td>hUB9Bbmh58I</td>\n",
       "      <td>Ugzn5x-8V0cPAng1oYF4AaABAg</td>\n",
       "      <td>no entiendo porque quieren seguir vendiendo la...</td>\n",
       "      <td>0.0</td>\n",
       "      <td>principal</td>\n",
       "      <td>Una región, dos posturas: en Davos, Milei y Pe...</td>\n",
       "      <td>https://www.youtube.com/watch?v=hUB9Bbmh58I</td>\n",
       "      <td>871</td>\n",
       "      <td>PT6M29S</td>\n",
       "      <td>2024-01-18 01:53:49+00:00</td>\n",
       "      <td>France 24 Español</td>\n",
       "      <td>Argentina Javier Milei presidente</td>\n",
       "      <td>Argentina</td>\n",
       "      <td>Internacional</td>\n",
       "      <td>Internacional</td>\n",
       "      <td>6.483333</td>\n",
       "      <td>Javier Milei</td>\n",
       "    </tr>\n",
       "    <tr>\n",
       "      <th>3</th>\n",
       "      <td>hUB9Bbmh58I</td>\n",
       "      <td>UgxXBXoLabae2Lb_vlB4AaABAg</td>\n",
       "      <td>Selor Lucumi,Me gustaría aclarar que la postur...</td>\n",
       "      <td>0.0</td>\n",
       "      <td>principal</td>\n",
       "      <td>Una región, dos posturas: en Davos, Milei y Pe...</td>\n",
       "      <td>https://www.youtube.com/watch?v=hUB9Bbmh58I</td>\n",
       "      <td>871</td>\n",
       "      <td>PT6M29S</td>\n",
       "      <td>2024-01-18 01:53:49+00:00</td>\n",
       "      <td>France 24 Español</td>\n",
       "      <td>Argentina Javier Milei presidente</td>\n",
       "      <td>Argentina</td>\n",
       "      <td>Internacional</td>\n",
       "      <td>Internacional</td>\n",
       "      <td>6.483333</td>\n",
       "      <td>Javier Milei</td>\n",
       "    </tr>\n",
       "    <tr>\n",
       "      <th>4</th>\n",
       "      <td>hUB9Bbmh58I</td>\n",
       "      <td>UgyLqVixbjXvEfZXKSR4AaABAg</td>\n",
       "      <td>JAJAJAJA ESE PETRO ES UN PAYASO...</td>\n",
       "      <td>0.0</td>\n",
       "      <td>principal</td>\n",
       "      <td>Una región, dos posturas: en Davos, Milei y Pe...</td>\n",
       "      <td>https://www.youtube.com/watch?v=hUB9Bbmh58I</td>\n",
       "      <td>871</td>\n",
       "      <td>PT6M29S</td>\n",
       "      <td>2024-01-18 01:53:49+00:00</td>\n",
       "      <td>France 24 Español</td>\n",
       "      <td>Argentina Javier Milei presidente</td>\n",
       "      <td>Argentina</td>\n",
       "      <td>Internacional</td>\n",
       "      <td>Internacional</td>\n",
       "      <td>6.483333</td>\n",
       "      <td>Javier Milei</td>\n",
       "    </tr>\n",
       "    <tr>\n",
       "      <th>...</th>\n",
       "      <td>...</td>\n",
       "      <td>...</td>\n",
       "      <td>...</td>\n",
       "      <td>...</td>\n",
       "      <td>...</td>\n",
       "      <td>...</td>\n",
       "      <td>...</td>\n",
       "      <td>...</td>\n",
       "      <td>...</td>\n",
       "      <td>...</td>\n",
       "      <td>...</td>\n",
       "      <td>...</td>\n",
       "      <td>...</td>\n",
       "      <td>...</td>\n",
       "      <td>...</td>\n",
       "      <td>...</td>\n",
       "      <td>...</td>\n",
       "    </tr>\n",
       "    <tr>\n",
       "      <th>588500</th>\n",
       "      <td>KEUH4oKd1N0</td>\n",
       "      <td>Ugz9n49-qrnTLL-dhBF4AaABAg.A5SPkX9Z_ZlA5UtNbnraqw</td>\n",
       "      <td>Será,  por el teléfono o por el djdjwiwowbe ja...</td>\n",
       "      <td>1.0</td>\n",
       "      <td>reply</td>\n",
       "      <td>Escándalo en Colombia: “Soy heterosexual”, dic...</td>\n",
       "      <td>https://www.youtube.com/watch?v=KEUH4oKd1N0</td>\n",
       "      <td>130</td>\n",
       "      <td>PT1M14S</td>\n",
       "      <td>2024-07-04 01:15:01+00:00</td>\n",
       "      <td>Excélsior TV</td>\n",
       "      <td>Colombia Gustavo Petro presidente</td>\n",
       "      <td>México</td>\n",
       "      <td>Nacional</td>\n",
       "      <td>México</td>\n",
       "      <td>1.233333</td>\n",
       "      <td>Andrés Manuel López Obrador</td>\n",
       "    </tr>\n",
       "    <tr>\n",
       "      <th>588501</th>\n",
       "      <td>KEUH4oKd1N0</td>\n",
       "      <td>Ugw9VVDlOJ_lj91JsBx4AaABAg</td>\n",
       "      <td>Realidad de muchos, cogen hombres ricos pero s...</td>\n",
       "      <td>7.0</td>\n",
       "      <td>principal</td>\n",
       "      <td>Escándalo en Colombia: “Soy heterosexual”, dic...</td>\n",
       "      <td>https://www.youtube.com/watch?v=KEUH4oKd1N0</td>\n",
       "      <td>130</td>\n",
       "      <td>PT1M14S</td>\n",
       "      <td>2024-07-04 01:15:01+00:00</td>\n",
       "      <td>Excélsior TV</td>\n",
       "      <td>Colombia Gustavo Petro presidente</td>\n",
       "      <td>México</td>\n",
       "      <td>Nacional</td>\n",
       "      <td>México</td>\n",
       "      <td>1.233333</td>\n",
       "      <td>Andrés Manuel López Obrador</td>\n",
       "    </tr>\n",
       "    <tr>\n",
       "      <th>588502</th>\n",
       "      <td>KEUH4oKd1N0</td>\n",
       "      <td>UgyEZZElbqo7A-024Jl4AaABAg</td>\n",
       "      <td>Un montaje totalmente Porque esos medios se va...</td>\n",
       "      <td>0.0</td>\n",
       "      <td>principal</td>\n",
       "      <td>Escándalo en Colombia: “Soy heterosexual”, dic...</td>\n",
       "      <td>https://www.youtube.com/watch?v=KEUH4oKd1N0</td>\n",
       "      <td>130</td>\n",
       "      <td>PT1M14S</td>\n",
       "      <td>2024-07-04 01:15:01+00:00</td>\n",
       "      <td>Excélsior TV</td>\n",
       "      <td>Colombia Gustavo Petro presidente</td>\n",
       "      <td>México</td>\n",
       "      <td>Nacional</td>\n",
       "      <td>México</td>\n",
       "      <td>1.233333</td>\n",
       "      <td>Andrés Manuel López Obrador</td>\n",
       "    </tr>\n",
       "    <tr>\n",
       "      <th>588503</th>\n",
       "      <td>KEUH4oKd1N0</td>\n",
       "      <td>Ugw_EE7cruqg1axy0hl4AaABAg</td>\n",
       "      <td>Montaje.</td>\n",
       "      <td>4.0</td>\n",
       "      <td>principal</td>\n",
       "      <td>Escándalo en Colombia: “Soy heterosexual”, dic...</td>\n",
       "      <td>https://www.youtube.com/watch?v=KEUH4oKd1N0</td>\n",
       "      <td>130</td>\n",
       "      <td>PT1M14S</td>\n",
       "      <td>2024-07-04 01:15:01+00:00</td>\n",
       "      <td>Excélsior TV</td>\n",
       "      <td>Colombia Gustavo Petro presidente</td>\n",
       "      <td>México</td>\n",
       "      <td>Nacional</td>\n",
       "      <td>México</td>\n",
       "      <td>1.233333</td>\n",
       "      <td>Andrés Manuel López Obrador</td>\n",
       "    </tr>\n",
       "    <tr>\n",
       "      <th>588504</th>\n",
       "      <td>KEUH4oKd1N0</td>\n",
       "      <td>UgwvsqcNx2Qs1sKsOW14AaABAg</td>\n",
       "      <td>Toda la elite es perversa</td>\n",
       "      <td>0.0</td>\n",
       "      <td>principal</td>\n",
       "      <td>Escándalo en Colombia: “Soy heterosexual”, dic...</td>\n",
       "      <td>https://www.youtube.com/watch?v=KEUH4oKd1N0</td>\n",
       "      <td>130</td>\n",
       "      <td>PT1M14S</td>\n",
       "      <td>2024-07-04 01:15:01+00:00</td>\n",
       "      <td>Excélsior TV</td>\n",
       "      <td>Colombia Gustavo Petro presidente</td>\n",
       "      <td>México</td>\n",
       "      <td>Nacional</td>\n",
       "      <td>México</td>\n",
       "      <td>1.233333</td>\n",
       "      <td>Andrés Manuel López Obrador</td>\n",
       "    </tr>\n",
       "  </tbody>\n",
       "</table>\n",
       "<p>588505 rows × 17 columns</p>\n",
       "</div>"
      ],
      "text/plain": [
       "           video_id                                         comment_id  \\\n",
       "0       hUB9Bbmh58I                         UgxzYxtFuT8DX5IahFR4AaABAg   \n",
       "1       hUB9Bbmh58I                         UgyMvKupk0keUaOWGeF4AaABAg   \n",
       "2       hUB9Bbmh58I                         Ugzn5x-8V0cPAng1oYF4AaABAg   \n",
       "3       hUB9Bbmh58I                         UgxXBXoLabae2Lb_vlB4AaABAg   \n",
       "4       hUB9Bbmh58I                         UgyLqVixbjXvEfZXKSR4AaABAg   \n",
       "...             ...                                                ...   \n",
       "588500  KEUH4oKd1N0  Ugz9n49-qrnTLL-dhBF4AaABAg.A5SPkX9Z_ZlA5UtNbnraqw   \n",
       "588501  KEUH4oKd1N0                         Ugw9VVDlOJ_lj91JsBx4AaABAg   \n",
       "588502  KEUH4oKd1N0                         UgyEZZElbqo7A-024Jl4AaABAg   \n",
       "588503  KEUH4oKd1N0                         Ugw_EE7cruqg1axy0hl4AaABAg   \n",
       "588504  KEUH4oKd1N0                         UgwvsqcNx2Qs1sKsOW14AaABAg   \n",
       "\n",
       "                                         Texto Comentario  likes  \\\n",
       "0          No hablo de socialismo, que falacias que sacan    0.0   \n",
       "1       Vé, una pregunta: ¿Cuando Petro habló de socia...    0.0   \n",
       "2       no entiendo porque quieren seguir vendiendo la...    0.0   \n",
       "3       Selor Lucumi,Me gustaría aclarar que la postur...    0.0   \n",
       "4                      JAJAJAJA ESE PETRO ES UN PAYASO...    0.0   \n",
       "...                                                   ...    ...   \n",
       "588500  Será,  por el teléfono o por el djdjwiwowbe ja...    1.0   \n",
       "588501  Realidad de muchos, cogen hombres ricos pero s...    7.0   \n",
       "588502  Un montaje totalmente Porque esos medios se va...    0.0   \n",
       "588503                                           Montaje.    4.0   \n",
       "588504                          Toda la elite es perversa    0.0   \n",
       "\n",
       "       Tipo Comentaro                                   Nombre del Video  \\\n",
       "0           principal  Una región, dos posturas: en Davos, Milei y Pe...   \n",
       "1           principal  Una región, dos posturas: en Davos, Milei y Pe...   \n",
       "2           principal  Una región, dos posturas: en Davos, Milei y Pe...   \n",
       "3           principal  Una región, dos posturas: en Davos, Milei y Pe...   \n",
       "4           principal  Una región, dos posturas: en Davos, Milei y Pe...   \n",
       "...               ...                                                ...   \n",
       "588500          reply  Escándalo en Colombia: “Soy heterosexual”, dic...   \n",
       "588501      principal  Escándalo en Colombia: “Soy heterosexual”, dic...   \n",
       "588502      principal  Escándalo en Colombia: “Soy heterosexual”, dic...   \n",
       "588503      principal  Escándalo en Colombia: “Soy heterosexual”, dic...   \n",
       "588504      principal  Escándalo en Colombia: “Soy heterosexual”, dic...   \n",
       "\n",
       "                                     Link del Video  Numero de Comentarios  \\\n",
       "0       https://www.youtube.com/watch?v=hUB9Bbmh58I                    871   \n",
       "1       https://www.youtube.com/watch?v=hUB9Bbmh58I                    871   \n",
       "2       https://www.youtube.com/watch?v=hUB9Bbmh58I                    871   \n",
       "3       https://www.youtube.com/watch?v=hUB9Bbmh58I                    871   \n",
       "4       https://www.youtube.com/watch?v=hUB9Bbmh58I                    871   \n",
       "...                                             ...                    ...   \n",
       "588500  https://www.youtube.com/watch?v=KEUH4oKd1N0                    130   \n",
       "588501  https://www.youtube.com/watch?v=KEUH4oKd1N0                    130   \n",
       "588502  https://www.youtube.com/watch?v=KEUH4oKd1N0                    130   \n",
       "588503  https://www.youtube.com/watch?v=KEUH4oKd1N0                    130   \n",
       "588504  https://www.youtube.com/watch?v=KEUH4oKd1N0                    130   \n",
       "\n",
       "       Duración del Video            Fecha del Video Nombre del noticiero  \\\n",
       "0                 PT6M29S  2024-01-18 01:53:49+00:00    France 24 Español   \n",
       "1                 PT6M29S  2024-01-18 01:53:49+00:00    France 24 Español   \n",
       "2                 PT6M29S  2024-01-18 01:53:49+00:00    France 24 Español   \n",
       "3                 PT6M29S  2024-01-18 01:53:49+00:00    France 24 Español   \n",
       "4                 PT6M29S  2024-01-18 01:53:49+00:00    France 24 Español   \n",
       "...                   ...                        ...                  ...   \n",
       "588500            PT1M14S  2024-07-04 01:15:01+00:00         Excélsior TV   \n",
       "588501            PT1M14S  2024-07-04 01:15:01+00:00         Excélsior TV   \n",
       "588502            PT1M14S  2024-07-04 01:15:01+00:00         Excélsior TV   \n",
       "588503            PT1M14S  2024-07-04 01:15:01+00:00         Excélsior TV   \n",
       "588504            PT1M14S  2024-07-04 01:15:01+00:00         Excélsior TV   \n",
       "\n",
       "                                    Query       País Tipo Noticiero  \\\n",
       "0       Argentina Javier Milei presidente  Argentina  Internacional   \n",
       "1       Argentina Javier Milei presidente  Argentina  Internacional   \n",
       "2       Argentina Javier Milei presidente  Argentina  Internacional   \n",
       "3       Argentina Javier Milei presidente  Argentina  Internacional   \n",
       "4       Argentina Javier Milei presidente  Argentina  Internacional   \n",
       "...                                   ...        ...            ...   \n",
       "588500  Colombia Gustavo Petro presidente     México       Nacional   \n",
       "588501  Colombia Gustavo Petro presidente     México       Nacional   \n",
       "588502  Colombia Gustavo Petro presidente     México       Nacional   \n",
       "588503  Colombia Gustavo Petro presidente     México       Nacional   \n",
       "588504  Colombia Gustavo Petro presidente     México       Nacional   \n",
       "\n",
       "           País_Medio  Duración en Minutos        Nombre del Presidente  \n",
       "0       Internacional             6.483333                 Javier Milei  \n",
       "1       Internacional             6.483333                 Javier Milei  \n",
       "2       Internacional             6.483333                 Javier Milei  \n",
       "3       Internacional             6.483333                 Javier Milei  \n",
       "4       Internacional             6.483333                 Javier Milei  \n",
       "...               ...                  ...                          ...  \n",
       "588500         México             1.233333  Andrés Manuel López Obrador  \n",
       "588501         México             1.233333  Andrés Manuel López Obrador  \n",
       "588502         México             1.233333  Andrés Manuel López Obrador  \n",
       "588503         México             1.233333  Andrés Manuel López Obrador  \n",
       "588504         México             1.233333  Andrés Manuel López Obrador  \n",
       "\n",
       "[588505 rows x 17 columns]"
      ]
     },
     "execution_count": 6,
     "metadata": {},
     "output_type": "execute_result"
    }
   ],
   "source": [
    "comentarios"
   ]
  }
 ],
 "metadata": {
  "kernelspec": {
   "display_name": "Python 3",
   "language": "python",
   "name": "python3"
  },
  "language_info": {
   "codemirror_mode": {
    "name": "ipython",
    "version": 3
   },
   "file_extension": ".py",
   "mimetype": "text/x-python",
   "name": "python",
   "nbconvert_exporter": "python",
   "pygments_lexer": "ipython3",
   "version": "3.11.7"
  }
 },
 "nbformat": 4,
 "nbformat_minor": 2
}
